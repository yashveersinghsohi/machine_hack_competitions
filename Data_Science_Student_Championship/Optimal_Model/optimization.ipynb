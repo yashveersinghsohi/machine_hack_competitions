{
  "nbformat": 4,
  "nbformat_minor": 0,
  "metadata": {
    "colab": {
      "provenance": [],
      "machine_shape": "hm",
      "gpuType": "A100",
      "authorship_tag": "ABX9TyNOBthm/5IZZWb+Ew6ki74c",
      "include_colab_link": true
    },
    "kernelspec": {
      "name": "python3",
      "display_name": "Python 3"
    },
    "language_info": {
      "name": "python"
    },
    "accelerator": "GPU"
  },
  "cells": [
    {
      "cell_type": "markdown",
      "metadata": {
        "id": "view-in-github",
        "colab_type": "text"
      },
      "source": [
        "<a href=\"https://colab.research.google.com/github/yashveersinghsohi/machine_hack_competitions/blob/optimization/Data_Science_Student_Championship/Optimal_Model/optimization.ipynb\" target=\"_parent\"><img src=\"https://colab.research.google.com/assets/colab-badge.svg\" alt=\"Open In Colab\"/></a>"
      ]
    },
    {
      "cell_type": "markdown",
      "source": [
        "# Git Clone"
      ],
      "metadata": {
        "id": "GiIPv7agz1b_"
      }
    },
    {
      "cell_type": "code",
      "execution_count": 2,
      "metadata": {
        "id": "J5IcXu8azz9S"
      },
      "outputs": [],
      "source": [
        "# !git clone -b optimization https://github.com/yashveersinghsohi/machine_hack_competitions.git"
      ]
    },
    {
      "cell_type": "markdown",
      "source": [
        "# Imports"
      ],
      "metadata": {
        "id": "B_kKtITPz2x_"
      }
    },
    {
      "cell_type": "code",
      "source": [
        "# !pip install shap\n",
        "# !pip install pyod\n",
        "# !pip install optuna"
      ],
      "metadata": {
        "id": "agi7aud4z3Uf"
      },
      "execution_count": 4,
      "outputs": []
    },
    {
      "cell_type": "code",
      "source": [
        "import pandas as pd\n",
        "import numpy as np\n",
        "from xgboost import XGBRegressor\n",
        "from sklearn.metrics import mean_squared_error, mean_absolute_error, mean_squared_log_error\n",
        "from pyod.models.hbos import HBOS\n",
        "import optuna\n",
        "from functools import partial\n",
        "import pickle"
      ],
      "metadata": {
        "id": "gTxpA-eA0Gc5"
      },
      "execution_count": 27,
      "outputs": []
    },
    {
      "cell_type": "markdown",
      "source": [
        "# Dataset"
      ],
      "metadata": {
        "id": "fz7Zsoovz3v2"
      }
    },
    {
      "cell_type": "code",
      "source": [
        "root_dir = '/content/machine_hack_competitions/Data_Science_Student_Championship/Features/'\n",
        "\n",
        "X_train = pd.read_csv(root_dir+'X_train.csv')\n",
        "y_train = pd.read_csv(root_dir+'y_train.csv')\n",
        "\n",
        "X_val = pd.read_csv(root_dir+'X_val.csv')\n",
        "y_val = pd.read_csv(root_dir+'y_val.csv')\n",
        "\n",
        "X_test = pd.read_csv(root_dir+'X_test.csv')\n",
        "y_test = pd.read_csv(root_dir+'y_test.csv')\n",
        "\n",
        "X_train.shape, y_train.shape, X_val.shape, y_val.shape, X_test.shape, y_test.shape"
      ],
      "metadata": {
        "colab": {
          "base_uri": "https://localhost:8080/"
        },
        "id": "9nBF_lCKz4az",
        "outputId": "2d875267-cc50-4b52-e531-1e504019e935"
      },
      "execution_count": 6,
      "outputs": [
        {
          "output_type": "execute_result",
          "data": {
            "text/plain": [
              "((167738, 20), (167738, 1), (41935, 20), (41935, 1), (89861, 20), (89861, 1))"
            ]
          },
          "metadata": {},
          "execution_count": 6
        }
      ]
    },
    {
      "cell_type": "markdown",
      "source": [
        "# Helper Functions"
      ],
      "metadata": {
        "id": "ifENDKnPz4uV"
      }
    },
    {
      "cell_type": "code",
      "source": [
        "def calculate_metrics(datasets, model):\n",
        "  X, y = datasets\n",
        "  mae = mean_absolute_error(y_true=y, y_pred=model.predict(X)).round(4)\n",
        "  mse = mean_squared_error(y_true=y, y_pred=model.predict(X)).round(4)\n",
        "  rmse = np.sqrt(mse).round(4)\n",
        "  msle = mean_squared_log_error(y_true=y, y_pred=np.where(model.predict(X) < 0, 0, model.predict(X))).round(4)\n",
        "  rmsle = np.sqrt(msle).round(4)\n",
        "  return {'mae': mae, 'rmse': rmse, 'rmsle': rmsle}"
      ],
      "metadata": {
        "id": "WIe3DH2sz59F"
      },
      "execution_count": 7,
      "outputs": []
    },
    {
      "cell_type": "code",
      "source": [
        "def create_submission(\n",
        "    model, X, \n",
        "    submission_path='/content/machine_hack_competitions/Data_Science_Student_Championship/Competition_Files/submission.csv',\n",
        "    features = None, submission_name = ''\n",
        "  ):\n",
        "  X_copy = X.copy()\n",
        "  X_copy['fare_pred'] = model.predict(X[features])\n",
        "  submission_df = pd.read_csv(submission_path)\n",
        "  submission_df['total_fare'] = X_copy['tip'] + X_copy['miscellaneous_fees'] + X_copy['fare_pred']\n",
        "  submission_df['total_fare'] = np.where(submission_df['total_fare'] < 0, 0, submission_df['total_fare'])\n",
        "  print(submission_df.head())\n",
        "  submission_df.to_csv(submission_name, index=False)"
      ],
      "metadata": {
        "id": "wXNOr6WZ0OUW"
      },
      "execution_count": 8,
      "outputs": []
    },
    {
      "cell_type": "markdown",
      "source": [
        "# Model Fitting Functions"
      ],
      "metadata": {
        "id": "FdDzECm70goh"
      }
    },
    {
      "cell_type": "code",
      "source": [
        "def model(\n",
        "    features, datasets, \n",
        "    od_params={'contamination':0.1}, xgb_params={'random_state':42}\n",
        "  ):\n",
        "  X_train, X_val, y_train, y_val = datasets\n",
        "  od = HBOS(**od_params)\n",
        "  od.fit(X_train[features])\n",
        "  X_train['od_proba'] = od.predict_proba(X_train[features])[:, 1]\n",
        "  X_val['od_proba'] = od.predict_proba(X_val[features])[:, 1]\n",
        "  xgb = XGBRegressor(**xgb_params)\n",
        "  xgb.fit(X_train[features+['od_proba']], y_train.to_numpy().reshape(-1,))\n",
        "  train_metrics = calculate_metrics(datasets=(X_train[features+['od_proba']], y_train), model=xgb)\n",
        "  val_metrics = calculate_metrics(datasets=(X_val[features+['od_proba']], y_val), model=xgb)\n",
        "  return {'od': od, 'xgb': xgb, 'train_metrics': train_metrics, 'val_metrics': val_metrics}"
      ],
      "metadata": {
        "id": "cXhPzl4x0hl0"
      },
      "execution_count": 9,
      "outputs": []
    },
    {
      "cell_type": "markdown",
      "source": [
        "## Small Baseline Model"
      ],
      "metadata": {
        "id": "vIzx5ds-5Kib"
      }
    },
    {
      "cell_type": "code",
      "source": [
        "small_baseline_cache = model(\n",
        "  features=[\n",
        "    'trip_duration', 'distance_traveled', 'num_of_passengers', \n",
        "    'tip', 'miscellaneous_fees', 'surge_applied'\n",
        "  ],\n",
        "  datasets = [X_train, X_val, y_train, y_val],\n",
        "  od_params = {'contamination':0.1},\n",
        "  xgb_params = {'random_state':42}\n",
        ")"
      ],
      "metadata": {
        "id": "oB9bPg0L4O7F"
      },
      "execution_count": 10,
      "outputs": []
    },
    {
      "cell_type": "code",
      "source": [
        "small_baseline_cache['train_metrics'], small_baseline_cache['val_metrics']"
      ],
      "metadata": {
        "colab": {
          "base_uri": "https://localhost:8080/"
        },
        "id": "zi0JVh7V4i4F",
        "outputId": "f28487d8-4eea-438d-b33d-77fd48b7b1e3"
      },
      "execution_count": 11,
      "outputs": [
        {
          "output_type": "execute_result",
          "data": {
            "text/plain": [
              "({'mae': 5.2079, 'rmse': 21.8594, 'rmsle': 0.1568},\n",
              " {'mae': 6.6321, 'rmse': 38.4963, 'rmsle': 0.1855})"
            ]
          },
          "metadata": {},
          "execution_count": 11
        }
      ]
    },
    {
      "cell_type": "markdown",
      "source": [
        "## Large Baseline Model"
      ],
      "metadata": {
        "id": "kDE2IgPl5NM1"
      }
    },
    {
      "cell_type": "code",
      "source": [
        "large_baseline_cache = model(\n",
        "  features=[\n",
        "    'trip_duration', 'distance_traveled', 'num_of_passengers', \n",
        "    'tip', 'miscellaneous_fees', 'surge_applied', \n",
        "    'is_miscellaneous_fees_negative', 'is_miscellaneous_fees_0', \n",
        "    'is_tip_0', 'is_trip_duration_0'\n",
        "  ],\n",
        "  datasets = [X_train, X_val, y_train, y_val],\n",
        "  od_params = {'contamination':0.1},\n",
        "  xgb_params = {'random_state':42}\n",
        ")"
      ],
      "metadata": {
        "id": "yxm6UIwK5OMK"
      },
      "execution_count": 12,
      "outputs": []
    },
    {
      "cell_type": "code",
      "source": [
        "large_baseline_cache['train_metrics'], large_baseline_cache['val_metrics']"
      ],
      "metadata": {
        "colab": {
          "base_uri": "https://localhost:8080/"
        },
        "id": "jR_reN816Esm",
        "outputId": "cef2fc08-f2cd-4861-d584-e58a81d8604c"
      },
      "execution_count": 13,
      "outputs": [
        {
          "output_type": "execute_result",
          "data": {
            "text/plain": [
              "({'mae': 5.1497, 'rmse': 21.1785, 'rmsle': 0.1523},\n",
              " {'mae': 6.7004, 'rmse': 39.6068, 'rmsle': 0.1873})"
            ]
          },
          "metadata": {},
          "execution_count": 13
        }
      ]
    },
    {
      "cell_type": "markdown",
      "source": [
        "# Bayesian Optimization"
      ],
      "metadata": {
        "id": "JXgqc_Yq6Mjo"
      }
    },
    {
      "cell_type": "code",
      "source": [
        "def optimize_model(n_trials=15):\n",
        "  optimization_function = partial(optimize)\n",
        "  study = optuna.create_study(direction=\"minimize\")\n",
        "  study.optimize(optimization_function, n_trials=n_trials)\n",
        "  return study.best_params"
      ],
      "metadata": {
        "id": "H2oxo_576N_C"
      },
      "execution_count": 14,
      "outputs": []
    },
    {
      "cell_type": "code",
      "source": [
        "def optimize(trial):    \n",
        "  # Pass 1\n",
        "  # n_estimators = trial.suggest_int(\"n_estimators\", 100, 1000)\n",
        "  # max_depth = trial.suggest_int(\"max_depth\", 3, 9)\n",
        "  # colsample_bytree = trial.suggest_float(\"colsample_bytree\", 0.1, 1.0)\n",
        "  # subsample = trial.suggest_float(\"subsample\", 0.01, 1.0)\n",
        "  # learning_rate = trial.suggest_float(\"learning_rate\", 0.001, 0.01)\n",
        "  # gamma = trial.suggest_float(\"gamma\", 0.001, 0.02)\n",
        "  # contamination = trial.suggest_float('contamination', 0.01, 0.3)\n",
        "  \n",
        "  # Pass 2\n",
        "  objective = trial.suggest_categorical(\"objective\", ['reg:squarederror', 'reg:squaredlogerror'])\n",
        "  n_estimators = trial.suggest_int(\"n_estimators\", 700, 1500)\n",
        "  max_depth = trial.suggest_int(\"max_depth\", 7, 15)\n",
        "  colsample_bytree = trial.suggest_float(\"colsample_bytree\", 0.6, 1.0)\n",
        "  subsample = trial.suggest_float(\"subsample\", 0.6, 1.0)\n",
        "  learning_rate = trial.suggest_float(\"learning_rate\", 0.001, 0.1)\n",
        "  gamma = trial.suggest_float(\"gamma\", 0.001, 0.02)\n",
        "  contamination = trial.suggest_float('contamination', 0.01, 0.4)\n",
        "\n",
        "  trial_model_cache = model(\n",
        "    features=[\n",
        "      'trip_duration', 'distance_traveled', 'num_of_passengers', \n",
        "      'tip', 'miscellaneous_fees', 'surge_applied', \n",
        "      'is_miscellaneous_fees_negative', 'is_miscellaneous_fees_0', \n",
        "      'is_tip_0', 'is_trip_duration_0'\n",
        "    ],\n",
        "    datasets = [X_train, X_val, y_train, y_val],\n",
        "    od_params = {'contamination': contamination},\n",
        "    xgb_params = {\n",
        "      'random_state':42, \n",
        "      'n_estimators': n_estimators, \n",
        "      'max_depth': max_depth, \n",
        "      'colsample_bytree': colsample_bytree, \n",
        "      'subsample': subsample, \n",
        "      'learning_rate': learning_rate,\n",
        "      'gamma': gamma,\n",
        "      'tree_method': 'gpu_hist'\n",
        "    }\n",
        "  )\n",
        "\n",
        "  val_rmsle = trial_model_cache['val_metrics']['rmsle']\n",
        "  return val_rmsle"
      ],
      "metadata": {
        "id": "2Vbf3qDR-Dm-"
      },
      "execution_count": 31,
      "outputs": []
    },
    {
      "cell_type": "markdown",
      "source": [
        "## Optimizing Large Model"
      ],
      "metadata": {
        "id": "Xhv2mQNWA-RU"
      }
    },
    {
      "cell_type": "code",
      "source": [
        "large_best_params = optimize_model(n_trials=500)"
      ],
      "metadata": {
        "colab": {
          "base_uri": "https://localhost:8080/"
        },
        "id": "HS_51KbH_EO5",
        "outputId": "2f6a8763-abd2-4504-cfff-32a811f1cffe"
      },
      "execution_count": 32,
      "outputs": [
        {
          "output_type": "stream",
          "name": "stderr",
          "text": [
            "[I 2023-06-10 02:37:29,773] A new study created in memory with name: no-name-9b16726e-6b35-43c6-b940-a03eeed1d1d8\n",
            "[I 2023-06-10 02:37:36,313] Trial 0 finished with value: 0.1921 and parameters: {'objective': 'reg:squaredlogerror', 'n_estimators': 890, 'max_depth': 8, 'colsample_bytree': 0.7465273758718326, 'subsample': 0.6839944793432091, 'learning_rate': 0.07963708029337117, 'gamma': 0.011838383394775002, 'contamination': 0.17786276496239065}. Best is trial 0 with value: 0.1921.\n",
            "[I 2023-06-10 02:37:56,016] Trial 1 finished with value: 0.1806 and parameters: {'objective': 'reg:squaredlogerror', 'n_estimators': 872, 'max_depth': 13, 'colsample_bytree': 0.9119964518767998, 'subsample': 0.9238138456885476, 'learning_rate': 0.06629911685902011, 'gamma': 0.011119648196287791, 'contamination': 0.14893233967143518}. Best is trial 1 with value: 0.1806.\n",
            "[I 2023-06-10 02:38:17,258] Trial 2 finished with value: 0.1833 and parameters: {'objective': 'reg:squaredlogerror', 'n_estimators': 712, 'max_depth': 15, 'colsample_bytree': 0.9402899919658712, 'subsample': 0.7211049300368939, 'learning_rate': 0.07805126073030509, 'gamma': 0.002252553176867106, 'contamination': 0.1585375431058239}. Best is trial 1 with value: 0.1806.\n",
            "[I 2023-06-10 02:38:49,147] Trial 3 finished with value: 0.1792 and parameters: {'objective': 'reg:squarederror', 'n_estimators': 1374, 'max_depth': 13, 'colsample_bytree': 0.8586537535350112, 'subsample': 0.9824989933353434, 'learning_rate': 0.03191419969795765, 'gamma': 0.004758421224833824, 'contamination': 0.251725268828276}. Best is trial 3 with value: 0.1792.\n",
            "[I 2023-06-10 02:39:04,228] Trial 4 finished with value: 0.1895 and parameters: {'objective': 'reg:squarederror', 'n_estimators': 731, 'max_depth': 13, 'colsample_bytree': 0.9933082325511142, 'subsample': 0.6686836296500323, 'learning_rate': 0.07252330181950545, 'gamma': 0.007237507052032111, 'contamination': 0.17672583283642412}. Best is trial 3 with value: 0.1792.\n",
            "[I 2023-06-10 02:39:12,023] Trial 5 finished with value: 0.1828 and parameters: {'objective': 'reg:squaredlogerror', 'n_estimators': 845, 'max_depth': 9, 'colsample_bytree': 0.9023403804326345, 'subsample': 0.8860564537580902, 'learning_rate': 0.03905524140569923, 'gamma': 0.007843333427913003, 'contamination': 0.09897142395923823}. Best is trial 3 with value: 0.1792.\n",
            "[I 2023-06-10 02:39:17,497] Trial 6 finished with value: 0.1897 and parameters: {'objective': 'reg:squaredlogerror', 'n_estimators': 944, 'max_depth': 7, 'colsample_bytree': 0.8288810426477886, 'subsample': 0.6305632682905247, 'learning_rate': 0.06408047151269963, 'gamma': 0.005922461207833357, 'contamination': 0.12890673625625354}. Best is trial 3 with value: 0.1792.\n",
            "[I 2023-06-10 02:39:26,395] Trial 7 finished with value: 0.1936 and parameters: {'objective': 'reg:squarederror', 'n_estimators': 827, 'max_depth': 10, 'colsample_bytree': 0.6383041902825196, 'subsample': 0.6305426910766815, 'learning_rate': 0.0731359354076268, 'gamma': 0.011223843182853837, 'contamination': 0.18724404990399118}. Best is trial 3 with value: 0.1792.\n",
            "[I 2023-06-10 02:39:32,171] Trial 8 finished with value: 0.1806 and parameters: {'objective': 'reg:squarederror', 'n_estimators': 733, 'max_depth': 8, 'colsample_bytree': 0.8928295789710426, 'subsample': 0.7624141659358439, 'learning_rate': 0.049695924689441395, 'gamma': 0.006597223286563242, 'contamination': 0.3632748800268372}. Best is trial 3 with value: 0.1792.\n",
            "[I 2023-06-10 02:39:51,053] Trial 9 finished with value: 0.1828 and parameters: {'objective': 'reg:squaredlogerror', 'n_estimators': 1023, 'max_depth': 12, 'colsample_bytree': 0.8823351577307903, 'subsample': 0.9716355407392853, 'learning_rate': 0.05291429720921875, 'gamma': 0.0013720271368635548, 'contamination': 0.07163522531262083}. Best is trial 3 with value: 0.1792.\n",
            "[I 2023-06-10 02:40:45,850] Trial 10 finished with value: 0.1786 and parameters: {'objective': 'reg:squarederror', 'n_estimators': 1423, 'max_depth': 15, 'colsample_bytree': 0.774844252730585, 'subsample': 0.8323744553837358, 'learning_rate': 0.006894670112759252, 'gamma': 0.01673669960589795, 'contamination': 0.2695827140167099}. Best is trial 10 with value: 0.1786.\n",
            "[I 2023-06-10 02:41:38,112] Trial 11 finished with value: 0.1817 and parameters: {'objective': 'reg:squarederror', 'n_estimators': 1451, 'max_depth': 15, 'colsample_bytree': 0.7680158460517195, 'subsample': 0.8329586111111291, 'learning_rate': 0.009776386240308762, 'gamma': 0.017923147338458838, 'contamination': 0.28485608268589035}. Best is trial 10 with value: 0.1786.\n",
            "[I 2023-06-10 02:42:27,042] Trial 12 finished with value: 0.1772 and parameters: {'objective': 'reg:squarederror', 'n_estimators': 1394, 'max_depth': 14, 'colsample_bytree': 0.8177683430234365, 'subsample': 0.9933792859421187, 'learning_rate': 0.007326501302151414, 'gamma': 0.01804509992044264, 'contamination': 0.2562572535113322}. Best is trial 12 with value: 0.1772.\n",
            "[I 2023-06-10 02:43:17,689] Trial 13 finished with value: 0.178 and parameters: {'objective': 'reg:squarederror', 'n_estimators': 1252, 'max_depth': 15, 'colsample_bytree': 0.7890266775576613, 'subsample': 0.8310465619298234, 'learning_rate': 0.006354949798178784, 'gamma': 0.019442656545014914, 'contamination': 0.26248566774433846}. Best is trial 12 with value: 0.1772.\n",
            "[I 2023-06-10 02:43:55,341] Trial 14 finished with value: 0.1921 and parameters: {'objective': 'reg:squarederror', 'n_estimators': 1214, 'max_depth': 14, 'colsample_bytree': 0.826775343878009, 'subsample': 0.9036969780331788, 'learning_rate': 0.00198394614479612, 'gamma': 0.01901045609523016, 'contamination': 0.04136077580093797}. Best is trial 12 with value: 0.1772.\n",
            "[I 2023-06-10 02:44:12,998] Trial 15 finished with value: 0.1849 and parameters: {'objective': 'reg:squarederror', 'n_estimators': 1255, 'max_depth': 11, 'colsample_bytree': 0.7244542879630074, 'subsample': 0.7849242572595452, 'learning_rate': 0.021506815796208296, 'gamma': 0.015623122133809637, 'contamination': 0.23321637909163584}. Best is trial 12 with value: 0.1772.\n",
            "[I 2023-06-10 02:44:43,869] Trial 16 finished with value: 0.1952 and parameters: {'objective': 'reg:squarederror', 'n_estimators': 1297, 'max_depth': 14, 'colsample_bytree': 0.7062015468044264, 'subsample': 0.9486043843043022, 'learning_rate': 0.09948233192109016, 'gamma': 0.01999766521517317, 'contamination': 0.3209630689952532}. Best is trial 12 with value: 0.1772.\n",
            "[I 2023-06-10 02:45:01,306] Trial 17 finished with value: 0.1783 and parameters: {'objective': 'reg:squarederror', 'n_estimators': 1140, 'max_depth': 11, 'colsample_bytree': 0.8061151395083099, 'subsample': 0.9863700395630137, 'learning_rate': 0.01749658789512336, 'gamma': 0.014192363008777145, 'contamination': 0.3858633371230016}. Best is trial 12 with value: 0.1772.\n",
            "[I 2023-06-10 02:45:38,325] Trial 18 finished with value: 0.1838 and parameters: {'objective': 'reg:squarederror', 'n_estimators': 1322, 'max_depth': 14, 'colsample_bytree': 0.7981628470020421, 'subsample': 0.8859352282022007, 'learning_rate': 0.020211432378687465, 'gamma': 0.01798176919036928, 'contamination': 0.23139127487460245}. Best is trial 12 with value: 0.1772.\n",
            "[I 2023-06-10 02:46:11,353] Trial 19 finished with value: 0.1954 and parameters: {'objective': 'reg:squarederror', 'n_estimators': 1498, 'max_depth': 12, 'colsample_bytree': 0.8412751065333929, 'subsample': 0.8505073150736915, 'learning_rate': 0.0015561307142996205, 'gamma': 0.014329110612754898, 'contamination': 0.21170655625443047}. Best is trial 12 with value: 0.1772.\n",
            "[I 2023-06-10 02:46:33,075] Trial 20 finished with value: 0.1844 and parameters: {'objective': 'reg:squarederror', 'n_estimators': 1173, 'max_depth': 12, 'colsample_bytree': 0.6900371311936744, 'subsample': 0.9979655258029467, 'learning_rate': 0.028349037911975416, 'gamma': 0.018921018179448832, 'contamination': 0.30471072252261916}. Best is trial 12 with value: 0.1772.\n",
            "[I 2023-06-10 02:46:46,137] Trial 21 finished with value: 0.1797 and parameters: {'objective': 'reg:squarederror', 'n_estimators': 1130, 'max_depth': 10, 'colsample_bytree': 0.8025757610444219, 'subsample': 0.9431740736288808, 'learning_rate': 0.015594325097968131, 'gamma': 0.014387390058291791, 'contamination': 0.36112650580329064}. Best is trial 12 with value: 0.1772.\n",
            "[I 2023-06-10 02:47:02,519] Trial 22 finished with value: 0.1758 and parameters: {'objective': 'reg:squarederror', 'n_estimators': 1065, 'max_depth': 11, 'colsample_bytree': 0.7971900038676183, 'subsample': 0.9967472323663744, 'learning_rate': 0.013563230844123132, 'gamma': 0.016409075004386278, 'contamination': 0.3949849039525166}. Best is trial 22 with value: 0.1758.\n",
            "[I 2023-06-10 02:47:15,654] Trial 23 finished with value: 0.1755 and parameters: {'objective': 'reg:squarederror', 'n_estimators': 1055, 'max_depth': 10, 'colsample_bytree': 0.761622616695709, 'subsample': 0.9480288758533271, 'learning_rate': 0.011296836001491437, 'gamma': 0.016818442332961675, 'contamination': 0.3298470836808413}. Best is trial 23 with value: 0.1755.\n",
            "[I 2023-06-10 02:47:28,417] Trial 24 finished with value: 0.1766 and parameters: {'objective': 'reg:squarederror', 'n_estimators': 1053, 'max_depth': 10, 'colsample_bytree': 0.7528300954672463, 'subsample': 0.9474765990501104, 'learning_rate': 0.01473041768068362, 'gamma': 0.015914173573322695, 'contamination': 0.3323888627171073}. Best is trial 23 with value: 0.1755.\n",
            "[I 2023-06-10 02:47:41,271] Trial 25 finished with value: 0.1766 and parameters: {'objective': 'reg:squarederror', 'n_estimators': 1053, 'max_depth': 10, 'colsample_bytree': 0.7514923951367846, 'subsample': 0.9506048930104529, 'learning_rate': 0.014565017925936967, 'gamma': 0.01669190609364322, 'contamination': 0.33094274441353183}. Best is trial 23 with value: 0.1755.\n",
            "[I 2023-06-10 02:47:50,207] Trial 26 finished with value: 0.1808 and parameters: {'objective': 'reg:squarederror', 'n_estimators': 983, 'max_depth': 9, 'colsample_bytree': 0.681297928623821, 'subsample': 0.9339362588897919, 'learning_rate': 0.026681788517456482, 'gamma': 0.012906384090048902, 'contamination': 0.39870230144534075}. Best is trial 23 with value: 0.1755.\n",
            "[I 2023-06-10 02:47:59,872] Trial 27 finished with value: 0.1769 and parameters: {'objective': 'reg:squarederror', 'n_estimators': 1051, 'max_depth': 9, 'colsample_bytree': 0.7443682699473897, 'subsample': 0.9618563424648031, 'learning_rate': 0.013832371774390579, 'gamma': 0.015549432609424749, 'contamination': 0.3475054052413385}. Best is trial 23 with value: 0.1755.\n",
            "[I 2023-06-10 02:48:16,235] Trial 28 finished with value: 0.1819 and parameters: {'objective': 'reg:squarederror', 'n_estimators': 1108, 'max_depth': 11, 'colsample_bytree': 0.7739396352900582, 'subsample': 0.9136702148827914, 'learning_rate': 0.025040998511148677, 'gamma': 0.009899140448608842, 'contamination': 0.30057083160454884}. Best is trial 23 with value: 0.1755.\n",
            "[I 2023-06-10 02:48:23,335] Trial 29 finished with value: 0.1828 and parameters: {'objective': 'reg:squaredlogerror', 'n_estimators': 961, 'max_depth': 8, 'colsample_bytree': 0.7451735339357928, 'subsample': 0.9710042687949476, 'learning_rate': 0.03586336840317485, 'gamma': 0.013209965538817592, 'contamination': 0.3775214797661129}. Best is trial 23 with value: 0.1755.\n",
            "[I 2023-06-10 02:48:33,930] Trial 30 finished with value: 0.1789 and parameters: {'objective': 'reg:squarederror', 'n_estimators': 914, 'max_depth': 10, 'colsample_bytree': 0.6023327676152563, 'subsample': 0.9998424894972742, 'learning_rate': 0.021910657996834604, 'gamma': 0.016001702032552433, 'contamination': 0.34286065079429423}. Best is trial 23 with value: 0.1755.\n",
            "[I 2023-06-10 02:48:46,459] Trial 31 finished with value: 0.1755 and parameters: {'objective': 'reg:squarederror', 'n_estimators': 1047, 'max_depth': 10, 'colsample_bytree': 0.7450998133805782, 'subsample': 0.9475492232924372, 'learning_rate': 0.013052647860656191, 'gamma': 0.016551183278840274, 'contamination': 0.33088686821574653}. Best is trial 23 with value: 0.1755.\n",
            "[I 2023-06-10 02:48:56,341] Trial 32 finished with value: 0.1778 and parameters: {'objective': 'reg:squarederror', 'n_estimators': 1008, 'max_depth': 9, 'colsample_bytree': 0.7331515677669099, 'subsample': 0.925085878952538, 'learning_rate': 0.013121579632728378, 'gamma': 0.016920156686860217, 'contamination': 0.32121038427950244}. Best is trial 23 with value: 0.1755.\n",
            "[I 2023-06-10 02:49:09,679] Trial 33 finished with value: 0.1758 and parameters: {'objective': 'reg:squarederror', 'n_estimators': 1067, 'max_depth': 10, 'colsample_bytree': 0.7672221458059021, 'subsample': 0.9585774240872313, 'learning_rate': 0.010664727724708608, 'gamma': 0.015055599938309714, 'contamination': 0.39597254719929714}. Best is trial 23 with value: 0.1755.\n",
            "[I 2023-06-10 02:49:29,058] Trial 34 finished with value: 0.1897 and parameters: {'objective': 'reg:squaredlogerror', 'n_estimators': 1091, 'max_depth': 11, 'colsample_bytree': 0.7849652267393173, 'subsample': 0.9576968675679357, 'learning_rate': 0.0023262848622079575, 'gamma': 0.012399109952405132, 'contamination': 0.3946808391613048}. Best is trial 23 with value: 0.1755.\n",
            "[I 2023-06-10 02:49:52,684] Trial 35 finished with value: 0.1766 and parameters: {'objective': 'reg:squarederror', 'n_estimators': 1188, 'max_depth': 12, 'colsample_bytree': 0.8487051822094561, 'subsample': 0.9135604662194627, 'learning_rate': 0.009818134089217691, 'gamma': 0.014837713620709292, 'contamination': 0.3676823381216501}. Best is trial 23 with value: 0.1755.\n",
            "[I 2023-06-10 02:50:05,817] Trial 36 finished with value: 0.1786 and parameters: {'objective': 'reg:squarederror', 'n_estimators': 883, 'max_depth': 11, 'colsample_bytree': 0.7607017370417098, 'subsample': 0.9784642960788656, 'learning_rate': 0.02140645913307085, 'gamma': 0.013422362615001085, 'contamination': 0.37636227330954836}. Best is trial 23 with value: 0.1755.\n",
            "[I 2023-06-10 02:50:15,732] Trial 37 finished with value: 0.183 and parameters: {'objective': 'reg:squaredlogerror', 'n_estimators': 1092, 'max_depth': 9, 'colsample_bytree': 0.7233076866864405, 'subsample': 0.8911775200717933, 'learning_rate': 0.031858878746329373, 'gamma': 0.017305675067597136, 'contamination': 0.3503149398594154}. Best is trial 23 with value: 0.1755.\n",
            "[I 2023-06-10 02:50:26,124] Trial 38 finished with value: 0.1755 and parameters: {'objective': 'reg:squarederror', 'n_estimators': 805, 'max_depth': 10, 'colsample_bytree': 0.7863879184298241, 'subsample': 0.9318257917912284, 'learning_rate': 0.01059720233833067, 'gamma': 0.015354225105492995, 'contamination': 0.38497257057985884}. Best is trial 23 with value: 0.1755.\n",
            "[I 2023-06-10 02:50:30,997] Trial 39 finished with value: 0.1764 and parameters: {'objective': 'reg:squaredlogerror', 'n_estimators': 823, 'max_depth': 7, 'colsample_bytree': 0.8595764640701441, 'subsample': 0.9244161783681313, 'learning_rate': 0.018332895323299236, 'gamma': 0.018602441425826798, 'contamination': 0.36005461619123036}. Best is trial 23 with value: 0.1755.\n",
            "[I 2023-06-10 02:50:36,770] Trial 40 finished with value: 0.1836 and parameters: {'objective': 'reg:squarederror', 'n_estimators': 787, 'max_depth': 8, 'colsample_bytree': 0.8149832645528116, 'subsample': 0.9776429620028737, 'learning_rate': 0.039467856950894525, 'gamma': 0.016366420296246815, 'contamination': 0.30743436241512806}. Best is trial 23 with value: 0.1755.\n",
            "[I 2023-06-10 02:50:48,083] Trial 41 finished with value: 0.1755 and parameters: {'objective': 'reg:squarederror', 'n_estimators': 924, 'max_depth': 10, 'colsample_bytree': 0.7812708296628572, 'subsample': 0.9382655490834928, 'learning_rate': 0.011568027857364334, 'gamma': 0.015257463633905392, 'contamination': 0.398669796903363}. Best is trial 23 with value: 0.1755.\n",
            "[I 2023-06-10 02:51:00,150] Trial 42 finished with value: 0.1764 and parameters: {'objective': 'reg:squarederror', 'n_estimators': 920, 'max_depth': 10, 'colsample_bytree': 0.7914761923237916, 'subsample': 0.9336185203061675, 'learning_rate': 0.006329886234205058, 'gamma': 0.017165229945730606, 'contamination': 0.37689686634200026}. Best is trial 23 with value: 0.1755.\n",
            "[I 2023-06-10 02:51:13,055] Trial 43 finished with value: 0.1752 and parameters: {'objective': 'reg:squarederror', 'n_estimators': 778, 'max_depth': 11, 'colsample_bytree': 0.7801003036062194, 'subsample': 0.9708569755017089, 'learning_rate': 0.011127380950551213, 'gamma': 0.015449748297724173, 'contamination': 0.39969438117149303}. Best is trial 43 with value: 0.1752.\n",
            "[I 2023-06-10 02:51:20,577] Trial 44 finished with value: 0.1789 and parameters: {'objective': 'reg:squarederror', 'n_estimators': 704, 'max_depth': 9, 'colsample_bytree': 0.7763068970195395, 'subsample': 0.8676750790986658, 'learning_rate': 0.00551304613466834, 'gamma': 0.013898930390584156, 'contamination': 0.35075952909328273}. Best is trial 43 with value: 0.1752.\n",
            "[I 2023-06-10 02:51:30,143] Trial 45 finished with value: 0.1738 and parameters: {'objective': 'reg:squarederror', 'n_estimators': 764, 'max_depth': 10, 'colsample_bytree': 0.8254593779430132, 'subsample': 0.8970505979565921, 'learning_rate': 0.010367924038156673, 'gamma': 0.01516804368070868, 'contamination': 0.37484951278425893}. Best is trial 45 with value: 0.1738.\n",
            "[I 2023-06-10 02:51:41,594] Trial 46 finished with value: 0.18 and parameters: {'objective': 'reg:squarederror', 'n_estimators': 746, 'max_depth': 11, 'colsample_bytree': 0.8277063561648322, 'subsample': 0.9111257113295762, 'learning_rate': 0.024365279571249118, 'gamma': 0.017606918737186134, 'contamination': 0.3668116891937012}. Best is trial 45 with value: 0.1738.\n",
            "[I 2023-06-10 02:51:56,616] Trial 47 finished with value: 0.1761 and parameters: {'objective': 'reg:squarederror', 'n_estimators': 790, 'max_depth': 12, 'colsample_bytree': 0.870203052730219, 'subsample': 0.8945718126424778, 'learning_rate': 0.018236471018956972, 'gamma': 0.012052505276570844, 'contamination': 0.2785784249394785}. Best is trial 45 with value: 0.1738.\n",
            "[I 2023-06-10 02:52:07,328] Trial 48 finished with value: 0.1744 and parameters: {'objective': 'reg:squaredlogerror', 'n_estimators': 853, 'max_depth': 10, 'colsample_bytree': 0.8380217885620695, 'subsample': 0.9729305954229861, 'learning_rate': 0.00926183606548317, 'gamma': 0.01498367869613532, 'contamination': 0.33575030375689047}. Best is trial 45 with value: 0.1738.\n",
            "[I 2023-06-10 02:52:16,567] Trial 49 finished with value: 0.1755 and parameters: {'objective': 'reg:squaredlogerror', 'n_estimators': 857, 'max_depth': 9, 'colsample_bytree': 0.9133077534467358, 'subsample': 0.9681910912167623, 'learning_rate': 0.005226240915773468, 'gamma': 0.011031882533357799, 'contamination': 0.2913914512467421}. Best is trial 45 with value: 0.1738.\n",
            "[I 2023-06-10 02:52:38,362] Trial 50 finished with value: 0.1741 and parameters: {'objective': 'reg:squaredlogerror', 'n_estimators': 759, 'max_depth': 13, 'colsample_bytree': 0.8417627468153909, 'subsample': 0.978915569003511, 'learning_rate': 0.007917412703407768, 'gamma': 0.018094337841058832, 'contamination': 0.3336540922459245}. Best is trial 45 with value: 0.1738.\n",
            "[I 2023-06-10 02:52:55,278] Trial 51 finished with value: 0.6168 and parameters: {'objective': 'reg:squaredlogerror', 'n_estimators': 759, 'max_depth': 13, 'colsample_bytree': 0.8370613622632902, 'subsample': 0.9786746746758298, 'learning_rate': 0.0010067788800998817, 'gamma': 0.018480969697516843, 'contamination': 0.33542324908051424}. Best is trial 45 with value: 0.1738.\n",
            "[I 2023-06-10 02:53:12,132] Trial 52 finished with value: 0.1752 and parameters: {'objective': 'reg:squaredlogerror', 'n_estimators': 760, 'max_depth': 12, 'colsample_bytree': 0.8173936177418427, 'subsample': 0.9611743262046146, 'learning_rate': 0.008156431072065087, 'gamma': 0.017694348075791014, 'contamination': 0.3126340400100589}. Best is trial 45 with value: 0.1738.\n",
            "[I 2023-06-10 02:53:34,253] Trial 53 finished with value: 0.1741 and parameters: {'objective': 'reg:squaredlogerror', 'n_estimators': 770, 'max_depth': 13, 'colsample_bytree': 0.8204128715153488, 'subsample': 0.9858720219095406, 'learning_rate': 0.008277637410524829, 'gamma': 0.017680090794016907, 'contamination': 0.3179721080075485}. Best is trial 45 with value: 0.1738.\n",
            "[I 2023-06-10 02:53:56,993] Trial 54 finished with value: 0.1744 and parameters: {'objective': 'reg:squaredlogerror', 'n_estimators': 769, 'max_depth': 13, 'colsample_bytree': 0.8200281672803642, 'subsample': 0.988671488949836, 'learning_rate': 0.00724589792916998, 'gamma': 0.019422230540383556, 'contamination': 0.3134591792106688}. Best is trial 45 with value: 0.1738.\n",
            "[I 2023-06-10 02:54:19,048] Trial 55 finished with value: 0.1744 and parameters: {'objective': 'reg:squaredlogerror', 'n_estimators': 724, 'max_depth': 13, 'colsample_bytree': 0.8539026726492999, 'subsample': 0.9851401183071843, 'learning_rate': 0.005258809164922301, 'gamma': 0.019284357037743574, 'contamination': 0.3173493338093076}. Best is trial 45 with value: 0.1738.\n",
            "[I 2023-06-10 02:54:39,830] Trial 56 finished with value: 0.1744 and parameters: {'objective': 'reg:squaredlogerror', 'n_estimators': 710, 'max_depth': 13, 'colsample_bytree': 0.8500859048753482, 'subsample': 0.9856882486813539, 'learning_rate': 0.0053384942157534785, 'gamma': 0.01974812959815986, 'contamination': 0.2818979601509207}. Best is trial 45 with value: 0.1738.\n",
            "[I 2023-06-10 02:55:05,918] Trial 57 finished with value: 0.1764 and parameters: {'objective': 'reg:squaredlogerror', 'n_estimators': 834, 'max_depth': 14, 'colsample_bytree': 0.8694724038794582, 'subsample': 0.9876852054926657, 'learning_rate': 0.01762316590287545, 'gamma': 0.019262648414865725, 'contamination': 0.2955010727520166}. Best is trial 45 with value: 0.1738.\n",
            "[I 2023-06-10 02:55:26,643] Trial 58 finished with value: 0.1772 and parameters: {'objective': 'reg:squaredlogerror', 'n_estimators': 724, 'max_depth': 13, 'colsample_bytree': 0.8349487892478744, 'subsample': 0.9997512411746956, 'learning_rate': 0.004299063284025387, 'gamma': 0.019956910697412674, 'contamination': 0.3192144317847985}. Best is trial 45 with value: 0.1738.\n",
            "[I 2023-06-10 02:55:51,304] Trial 59 finished with value: 0.1761 and parameters: {'objective': 'reg:squaredlogerror', 'n_estimators': 861, 'max_depth': 13, 'colsample_bytree': 0.8143582208992621, 'subsample': 0.9818164992908248, 'learning_rate': 0.007295234540418423, 'gamma': 0.018666397796108878, 'contamination': 0.2717523922903829}. Best is trial 45 with value: 0.1738.\n",
            "[I 2023-06-10 02:56:10,413] Trial 60 finished with value: 0.3348 and parameters: {'objective': 'reg:squaredlogerror', 'n_estimators': 809, 'max_depth': 13, 'colsample_bytree': 0.8814741305445092, 'subsample': 0.9641863157531376, 'learning_rate': 0.0016397317455503439, 'gamma': 0.018153590501660023, 'contamination': 0.3122050102677696}. Best is trial 45 with value: 0.1738.\n",
            "[I 2023-06-10 02:56:35,358] Trial 61 finished with value: 0.1764 and parameters: {'objective': 'reg:squaredlogerror', 'n_estimators': 707, 'max_depth': 14, 'colsample_bytree': 0.8424826520287471, 'subsample': 0.9862136157899011, 'learning_rate': 0.004595515421375736, 'gamma': 0.01905806863740021, 'contamination': 0.28841257348739474}. Best is trial 45 with value: 0.1738.\n",
            "[I 2023-06-10 02:56:57,149] Trial 62 finished with value: 0.1744 and parameters: {'objective': 'reg:squaredlogerror', 'n_estimators': 734, 'max_depth': 13, 'colsample_bytree': 0.8454278882248542, 'subsample': 0.9838806346759812, 'learning_rate': 0.008386109750426923, 'gamma': 0.019595552190592714, 'contamination': 0.25974151882767366}. Best is trial 45 with value: 0.1738.\n",
            "[I 2023-06-10 02:57:18,683] Trial 63 finished with value: 0.1744 and parameters: {'objective': 'reg:squaredlogerror', 'n_estimators': 765, 'max_depth': 13, 'colsample_bytree': 0.8562355082851879, 'subsample': 0.9988073070595241, 'learning_rate': 0.008666824740271426, 'gamma': 0.01949475099924141, 'contamination': 0.2975162370069318}. Best is trial 45 with value: 0.1738.\n",
            "[I 2023-06-10 02:57:41,568] Trial 64 finished with value: 0.1758 and parameters: {'objective': 'reg:squaredlogerror', 'n_estimators': 725, 'max_depth': 14, 'colsample_bytree': 0.8226474974864942, 'subsample': 0.9565248707958802, 'learning_rate': 0.015545171886603325, 'gamma': 0.018280108311061777, 'contamination': 0.2789892996068245}. Best is trial 45 with value: 0.1738.\n",
            "[I 2023-06-10 02:58:08,031] Trial 65 finished with value: 0.1926 and parameters: {'objective': 'reg:squaredlogerror', 'n_estimators': 744, 'max_depth': 15, 'colsample_bytree': 0.8053420544110101, 'subsample': 0.9666039802303581, 'learning_rate': 0.0032682815210362953, 'gamma': 0.01776609500892455, 'contamination': 0.3417345463072503}. Best is trial 45 with value: 0.1738.\n",
            "[I 2023-06-10 02:58:32,706] Trial 66 finished with value: 0.1744 and parameters: {'objective': 'reg:squaredlogerror', 'n_estimators': 832, 'max_depth': 13, 'colsample_bytree': 0.8341053490463745, 'subsample': 0.942393931992725, 'learning_rate': 0.00567100585482154, 'gamma': 0.019920489170795204, 'contamination': 0.316326809401229}. Best is trial 45 with value: 0.1738.\n",
            "[I 2023-06-10 02:58:49,249] Trial 67 finished with value: 0.1758 and parameters: {'objective': 'reg:squaredlogerror', 'n_estimators': 810, 'max_depth': 12, 'colsample_bytree': 0.8627630684494184, 'subsample': 0.9870984364501915, 'learning_rate': 0.0159517001580077, 'gamma': 0.01893009178189722, 'contamination': 0.3538688422567614}. Best is trial 45 with value: 0.1738.\n",
            "[I 2023-06-10 02:59:08,156] Trial 68 finished with value: 0.3961 and parameters: {'objective': 'reg:squaredlogerror', 'n_estimators': 783, 'max_depth': 14, 'colsample_bytree': 0.8558675226911139, 'subsample': 0.9483611686769139, 'learning_rate': 0.0014682487489671193, 'gamma': 0.017515274230824305, 'contamination': 0.32745763164706265}. Best is trial 45 with value: 0.1738.\n",
            "[I 2023-06-10 02:59:27,476] Trial 69 finished with value: 0.1744 and parameters: {'objective': 'reg:squaredlogerror', 'n_estimators': 889, 'max_depth': 12, 'colsample_bytree': 0.8258674244892138, 'subsample': 0.9679799453374739, 'learning_rate': 0.008698942265442558, 'gamma': 0.018277824370649468, 'contamination': 0.339259438157705}. Best is trial 45 with value: 0.1738.\n",
            "[I 2023-06-10 02:59:46,343] Trial 70 finished with value: 0.1761 and parameters: {'objective': 'reg:squaredlogerror', 'n_estimators': 700, 'max_depth': 13, 'colsample_bytree': 0.8024194282494809, 'subsample': 0.988529776792318, 'learning_rate': 0.013567495465691855, 'gamma': 0.01925765951028419, 'contamination': 0.30578538788125065}. Best is trial 45 with value: 0.1738.\n",
            "[I 2023-06-10 03:00:07,049] Trial 71 finished with value: 0.1744 and parameters: {'objective': 'reg:squaredlogerror', 'n_estimators': 739, 'max_depth': 13, 'colsample_bytree': 0.8465420256377006, 'subsample': 0.975286628270104, 'learning_rate': 0.00924865962260513, 'gamma': 0.01952339874061042, 'contamination': 0.29023464216706873}. Best is trial 45 with value: 0.1738.\n",
            "[I 2023-06-10 03:00:28,976] Trial 72 finished with value: 0.1741 and parameters: {'objective': 'reg:squaredlogerror', 'n_estimators': 732, 'max_depth': 13, 'colsample_bytree': 0.8411924816230225, 'subsample': 0.985484922174484, 'learning_rate': 0.007114836447244438, 'gamma': 0.018642807623026027, 'contamination': 0.2570300966453653}. Best is trial 45 with value: 0.1738.\n",
            "[I 2023-06-10 03:00:56,139] Trial 73 finished with value: 0.1752 and parameters: {'objective': 'reg:squaredlogerror', 'n_estimators': 764, 'max_depth': 14, 'colsample_bytree': 0.8803119469119963, 'subsample': 0.999957129240579, 'learning_rate': 0.004482122387545063, 'gamma': 0.017098109524439072, 'contamination': 0.26909975582892065}. Best is trial 45 with value: 0.1738.\n",
            "[I 2023-06-10 03:01:17,055] Trial 74 finished with value: 0.1766 and parameters: {'objective': 'reg:squaredlogerror', 'n_estimators': 800, 'max_depth': 13, 'colsample_bytree': 0.8117205587496755, 'subsample': 0.9546490637799565, 'learning_rate': 0.012379254640249443, 'gamma': 0.018729295183257878, 'contamination': 0.3242590641336939}. Best is trial 45 with value: 0.1738.\n",
            "[I 2023-06-10 03:01:33,268] Trial 75 finished with value: 0.1764 and parameters: {'objective': 'reg:squaredlogerror', 'n_estimators': 846, 'max_depth': 12, 'colsample_bytree': 0.8291836309658797, 'subsample': 0.9744364581216953, 'learning_rate': 0.02064123062648325, 'gamma': 0.017712983462878796, 'contamination': 0.30136332763890744}. Best is trial 45 with value: 0.1738.\n",
            "[I 2023-06-10 03:01:50,350] Trial 76 finished with value: 0.1738 and parameters: {'objective': 'reg:squaredlogerror', 'n_estimators': 718, 'max_depth': 12, 'colsample_bytree': 0.8487543763347822, 'subsample': 0.9892066430566415, 'learning_rate': 0.006607216541983177, 'gamma': 0.016303452994451177, 'contamination': 0.25044230997355027}. Best is trial 45 with value: 0.1738.\n",
            "[I 2023-06-10 03:02:05,660] Trial 77 finished with value: 0.1758 and parameters: {'objective': 'reg:squaredlogerror', 'n_estimators': 773, 'max_depth': 12, 'colsample_bytree': 0.836022876537592, 'subsample': 0.956722737677301, 'learning_rate': 0.016662323985166705, 'gamma': 0.016768967210394843, 'contamination': 0.2470394171657717}. Best is trial 45 with value: 0.1738.\n",
            "[I 2023-06-10 03:02:21,064] Trial 78 finished with value: 0.1755 and parameters: {'objective': 'reg:squaredlogerror', 'n_estimators': 749, 'max_depth': 12, 'colsample_bytree': 0.7948298460989107, 'subsample': 0.9380622670396931, 'learning_rate': 0.012226375935624374, 'gamma': 0.017115388424422746, 'contamination': 0.3397171579836444}. Best is trial 45 with value: 0.1738.\n",
            "[I 2023-06-10 03:02:42,308] Trial 79 finished with value: 0.1741 and parameters: {'objective': 'reg:squaredlogerror', 'n_estimators': 726, 'max_depth': 13, 'colsample_bytree': 0.8225484720391191, 'subsample': 0.991592639134178, 'learning_rate': 0.008070231527623442, 'gamma': 0.016126840477529512, 'contamination': 0.24729449761491984}. Best is trial 45 with value: 0.1738.\n",
            "[I 2023-06-10 03:03:10,700] Trial 80 finished with value: 0.1749 and parameters: {'objective': 'reg:squaredlogerror', 'n_estimators': 814, 'max_depth': 14, 'colsample_bytree': 0.8190235251226717, 'subsample': 0.9220608552895128, 'learning_rate': 0.007960460491632026, 'gamma': 0.016134742278819246, 'contamination': 0.24817414408217528}. Best is trial 45 with value: 0.1738.\n",
            "[I 2023-06-10 03:03:30,791] Trial 81 finished with value: 0.1871 and parameters: {'objective': 'reg:squaredlogerror', 'n_estimators': 725, 'max_depth': 13, 'colsample_bytree': 0.8080004043932331, 'subsample': 0.9926428369760961, 'learning_rate': 0.0036234762051300584, 'gamma': 0.0157921898500753, 'contamination': 0.22655871416153728}. Best is trial 45 with value: 0.1738.\n",
            "[I 2023-06-10 03:03:52,430] Trial 82 finished with value: 0.1746 and parameters: {'objective': 'reg:squaredlogerror', 'n_estimators': 786, 'max_depth': 13, 'colsample_bytree': 0.8467271663756845, 'subsample': 0.9732746214402279, 'learning_rate': 0.010228529413121473, 'gamma': 0.01637760078724072, 'contamination': 0.1950074056178981}. Best is trial 45 with value: 0.1738.\n",
            "[I 2023-06-10 03:04:11,268] Trial 83 finished with value: 0.1746 and parameters: {'objective': 'reg:squaredlogerror', 'n_estimators': 726, 'max_depth': 13, 'colsample_bytree': 0.826618785146725, 'subsample': 0.9780214151763122, 'learning_rate': 0.013815393917863971, 'gamma': 0.014859291230730489, 'contamination': 0.35868127737194583}. Best is trial 45 with value: 0.1738.\n",
            "[I 2023-06-10 03:04:29,190] Trial 84 finished with value: 0.1744 and parameters: {'objective': 'reg:squaredlogerror', 'n_estimators': 754, 'max_depth': 12, 'colsample_bytree': 0.8690594245580954, 'subsample': 0.9913307415525072, 'learning_rate': 0.006268919119070832, 'gamma': 0.01803391028579135, 'contamination': 0.25642911408256636}. Best is trial 45 with value: 0.1738.\n",
            "[I 2023-06-10 03:04:53,508] Trial 85 finished with value: 0.1766 and parameters: {'objective': 'reg:squaredlogerror', 'n_estimators': 772, 'max_depth': 14, 'colsample_bytree': 0.8397350258962499, 'subsample': 0.9629216396665286, 'learning_rate': 0.018777321335513426, 'gamma': 0.01592909374346281, 'contamination': 0.2421526498312888}. Best is trial 45 with value: 0.1738.\n",
            "[I 2023-06-10 03:05:15,927] Trial 86 finished with value: 0.1789 and parameters: {'objective': 'reg:squaredlogerror', 'n_estimators': 796, 'max_depth': 13, 'colsample_bytree': 0.8527668966169126, 'subsample': 0.9489121097210973, 'learning_rate': 0.0037241861940208827, 'gamma': 0.01665842264442266, 'contamination': 0.2670042962003166}. Best is trial 45 with value: 0.1738.\n",
            "[I 2023-06-10 03:05:32,019] Trial 87 finished with value: 0.1758 and parameters: {'objective': 'reg:squaredlogerror', 'n_estimators': 719, 'max_depth': 12, 'colsample_bytree': 0.798264742293084, 'subsample': 0.9921379519282271, 'learning_rate': 0.011007162686287325, 'gamma': 0.017211398314113027, 'contamination': 0.30771541682918635}. Best is trial 45 with value: 0.1738.\n",
            "[I 2023-06-10 03:05:49,133] Trial 88 finished with value: 0.1758 and parameters: {'objective': 'reg:squaredlogerror', 'n_estimators': 866, 'max_depth': 12, 'colsample_bytree': 0.8182254108540913, 'subsample': 0.9795760697783028, 'learning_rate': 0.014905187114822154, 'gamma': 0.01862786614425907, 'contamination': 0.34609615669722593}. Best is trial 45 with value: 0.1738.\n",
            "[I 2023-06-10 03:06:01,591] Trial 89 finished with value: 0.1744 and parameters: {'objective': 'reg:squaredlogerror', 'n_estimators': 701, 'max_depth': 11, 'colsample_bytree': 0.8932327372915326, 'subsample': 0.9667667672808787, 'learning_rate': 0.006238807789299955, 'gamma': 0.018048118799199556, 'contamination': 0.3281042170171233}. Best is trial 45 with value: 0.1738.\n",
            "[I 2023-06-10 03:06:20,743] Trial 90 finished with value: 0.4079 and parameters: {'objective': 'reg:squaredlogerror', 'n_estimators': 842, 'max_depth': 13, 'colsample_bytree': 0.8610875975187178, 'subsample': 0.9400501027723212, 'learning_rate': 0.0013311926623568128, 'gamma': 0.019057171533667643, 'contamination': 0.3183489221998485}. Best is trial 45 with value: 0.1738.\n",
            "[I 2023-06-10 03:06:43,171] Trial 91 finished with value: 0.1744 and parameters: {'objective': 'reg:squaredlogerror', 'n_estimators': 753, 'max_depth': 13, 'colsample_bytree': 0.8489540789879538, 'subsample': 0.9915501708867432, 'learning_rate': 0.007210463033392527, 'gamma': 0.018511136208022916, 'contamination': 0.2846960873037492}. Best is trial 45 with value: 0.1738.\n",
            "[I 2023-06-10 03:07:08,748] Trial 92 finished with value: 0.1741 and parameters: {'objective': 'reg:squaredlogerror', 'n_estimators': 715, 'max_depth': 14, 'colsample_bytree': 0.8326258899544519, 'subsample': 0.98364384893265, 'learning_rate': 0.010323084971976117, 'gamma': 0.017418138630465103, 'contamination': 0.27775271138673213}. Best is trial 45 with value: 0.1738.\n",
            "[I 2023-06-10 03:07:35,135] Trial 93 finished with value: 0.1746 and parameters: {'objective': 'reg:squaredlogerror', 'n_estimators': 741, 'max_depth': 14, 'colsample_bytree': 0.8328386067827411, 'subsample': 0.9739551109164398, 'learning_rate': 0.009906493022635052, 'gamma': 0.01731871819933393, 'contamination': 0.26137794913690343}. Best is trial 45 with value: 0.1738.\n",
            "[I 2023-06-10 03:08:05,591] Trial 94 finished with value: 0.1761 and parameters: {'objective': 'reg:squaredlogerror', 'n_estimators': 719, 'max_depth': 15, 'colsample_bytree': 0.8229965233570296, 'subsample': 0.9570118683021318, 'learning_rate': 0.011903051918664755, 'gamma': 0.016170045875356844, 'contamination': 0.2726329707921119}. Best is trial 45 with value: 0.1738.\n",
            "[I 2023-06-10 03:08:31,949] Trial 95 finished with value: 0.1786 and parameters: {'objective': 'reg:squaredlogerror', 'n_estimators': 823, 'max_depth': 14, 'colsample_bytree': 0.8112995790719103, 'subsample': 0.9832886037812192, 'learning_rate': 0.016326154126743275, 'gamma': 0.015587313855123928, 'contamination': 0.2960866071757046}. Best is trial 45 with value: 0.1738.\n",
            "[I 2023-06-10 03:08:55,621] Trial 96 finished with value: 0.202 and parameters: {'objective': 'reg:squaredlogerror', 'n_estimators': 780, 'max_depth': 14, 'colsample_bytree': 0.8390031969489469, 'subsample': 0.9995456684158727, 'learning_rate': 0.0028197512038139394, 'gamma': 0.01452523924694545, 'contamination': 0.23847538301916418}. Best is trial 45 with value: 0.1738.\n",
            "[I 2023-06-10 03:09:16,975] Trial 97 finished with value: 0.1752 and parameters: {'objective': 'reg:squaredlogerror', 'n_estimators': 739, 'max_depth': 13, 'colsample_bytree': 0.7935501284842, 'subsample': 0.9657664521631506, 'learning_rate': 0.007489775195099189, 'gamma': 0.016707412089230225, 'contamination': 0.2534332996088334}. Best is trial 45 with value: 0.1738.\n",
            "[I 2023-06-10 03:09:26,230] Trial 98 finished with value: 0.1755 and parameters: {'objective': 'reg:squaredlogerror', 'n_estimators': 766, 'max_depth': 10, 'colsample_bytree': 0.8050976982476921, 'subsample': 0.9803967289472089, 'learning_rate': 0.013690800490283643, 'gamma': 0.017644221958067564, 'contamination': 0.22599881251889006}. Best is trial 45 with value: 0.1738.\n",
            "[I 2023-06-10 03:09:39,338] Trial 99 finished with value: 0.1735 and parameters: {'objective': 'reg:squaredlogerror', 'n_estimators': 797, 'max_depth': 11, 'colsample_bytree': 0.8332014895788236, 'subsample': 0.952256136589225, 'learning_rate': 0.009656502914862804, 'gamma': 0.01818150899235018, 'contamination': 0.3341426654504211}. Best is trial 99 with value: 0.1735.\n",
            "[I 2023-06-10 03:09:51,498] Trial 100 finished with value: 0.1786 and parameters: {'objective': 'reg:squaredlogerror', 'n_estimators': 799, 'max_depth': 11, 'colsample_bytree': 0.8311790792506532, 'subsample': 0.9520072733392497, 'learning_rate': 0.01945063109226016, 'gamma': 0.015128085503991051, 'contamination': 0.3338342109337578}. Best is trial 99 with value: 0.1735.\n",
            "[I 2023-06-10 03:10:04,325] Trial 101 finished with value: 0.1744 and parameters: {'objective': 'reg:squaredlogerror', 'n_estimators': 733, 'max_depth': 11, 'colsample_bytree': 0.8411524947269687, 'subsample': 0.9899554530341865, 'learning_rate': 0.009297879269794805, 'gamma': 0.018198780799371716, 'contamination': 0.32152909307243577}. Best is trial 99 with value: 0.1735.\n",
            "[I 2023-06-10 03:10:14,325] Trial 102 finished with value: 0.1828 and parameters: {'objective': 'reg:squaredlogerror', 'n_estimators': 711, 'max_depth': 10, 'colsample_bytree': 0.8218128848576618, 'subsample': 0.9693314507598395, 'learning_rate': 0.00399292069115999, 'gamma': 0.019111884040848886, 'contamination': 0.3118724964842782}. Best is trial 99 with value: 0.1735.\n",
            "[I 2023-06-10 03:10:29,943] Trial 103 finished with value: 0.1749 and parameters: {'objective': 'reg:squaredlogerror', 'n_estimators': 755, 'max_depth': 12, 'colsample_bytree': 0.8648315605735312, 'subsample': 0.9817936402035856, 'learning_rate': 0.012179566835336223, 'gamma': 0.017356873786422682, 'contamination': 0.34953461985570694}. Best is trial 99 with value: 0.1735.\n",
            "[I 2023-06-10 03:11:08,175] Trial 104 finished with value: 0.1752 and parameters: {'objective': 'reg:squaredlogerror', 'n_estimators': 818, 'max_depth': 15, 'colsample_bytree': 0.8523938750327889, 'subsample': 0.9614795912772037, 'learning_rate': 0.006724854226083438, 'gamma': 0.017815535373525523, 'contamination': 0.33375059394230094}. Best is trial 99 with value: 0.1735.\n",
            "[I 2023-06-10 03:11:28,727] Trial 105 finished with value: 0.1746 and parameters: {'objective': 'reg:squaredlogerror', 'n_estimators': 775, 'max_depth': 13, 'colsample_bytree': 0.8566901248695094, 'subsample': 0.9755020928496142, 'learning_rate': 0.0110852037602029, 'gamma': 0.016381082500036136, 'contamination': 0.3023376146911504}. Best is trial 99 with value: 0.1735.\n",
            "[I 2023-06-10 03:11:50,642] Trial 106 finished with value: 0.1744 and parameters: {'objective': 'reg:squaredlogerror', 'n_estimators': 794, 'max_depth': 13, 'colsample_bytree': 0.8310215044371144, 'subsample': 0.994441638991306, 'learning_rate': 0.009471638582488846, 'gamma': 0.018770839777785688, 'contamination': 0.27566989210823006}. Best is trial 99 with value: 0.1735.\n",
            "[I 2023-06-10 03:12:01,672] Trial 107 finished with value: 0.1755 and parameters: {'objective': 'reg:squaredlogerror', 'n_estimators': 700, 'max_depth': 11, 'colsample_bytree': 0.8122922286263868, 'subsample': 0.9460207532814239, 'learning_rate': 0.015119512122701457, 'gamma': 0.019433590057958493, 'contamination': 0.31022511078257703}. Best is trial 99 with value: 0.1735.\n",
            "[I 2023-06-10 03:12:19,022] Trial 108 finished with value: 0.1744 and parameters: {'objective': 'reg:squaredlogerror', 'n_estimators': 741, 'max_depth': 12, 'colsample_bytree': 0.8421832476646461, 'subsample': 0.9289274690313779, 'learning_rate': 0.005374277894376901, 'gamma': 0.016970835271938586, 'contamination': 0.29122149982880297}. Best is trial 99 with value: 0.1735.\n",
            "[I 2023-06-10 03:12:24,953] Trial 109 finished with value: 0.2095 and parameters: {'objective': 'reg:squaredlogerror', 'n_estimators': 723, 'max_depth': 8, 'colsample_bytree': 0.8755590290790505, 'subsample': 0.9840791399508838, 'learning_rate': 0.002992618902112918, 'gamma': 0.018493741740281115, 'contamination': 0.2848488415772389}. Best is trial 99 with value: 0.1735.\n",
            "[I 2023-06-10 03:12:36,389] Trial 110 finished with value: 0.1744 and parameters: {'objective': 'reg:squaredlogerror', 'n_estimators': 900, 'max_depth': 10, 'colsample_bytree': 0.8230924190557258, 'subsample': 0.9713175327903835, 'learning_rate': 0.007919322011633948, 'gamma': 0.017964566000833113, 'contamination': 0.32551903029105383}. Best is trial 99 with value: 0.1735.\n",
            "[I 2023-06-10 03:13:15,112] Trial 111 finished with value: 0.1741 and parameters: {'objective': 'reg:squaredlogerror', 'n_estimators': 1362, 'max_depth': 13, 'colsample_bytree': 0.850178069661527, 'subsample': 0.9864407874020648, 'learning_rate': 0.005362756007543864, 'gamma': 0.019681626771899018, 'contamination': 0.2803904286642194}. Best is trial 99 with value: 0.1735.\n",
            "[I 2023-06-10 03:13:52,929] Trial 112 finished with value: 0.1744 and parameters: {'objective': 'reg:squaredlogerror', 'n_estimators': 1311, 'max_depth': 13, 'colsample_bytree': 0.8616429079597321, 'subsample': 0.9903142608747284, 'learning_rate': 0.005261147331661854, 'gamma': 0.01921408379592942, 'contamination': 0.35676136263908265}. Best is trial 99 with value: 0.1735.\n",
            "[I 2023-06-10 03:14:22,764] Trial 113 finished with value: 0.1755 and parameters: {'objective': 'reg:squaredlogerror', 'n_estimators': 1165, 'max_depth': 13, 'colsample_bytree': 0.8473974667056031, 'subsample': 0.962556751528444, 'learning_rate': 0.010132364375150265, 'gamma': 0.019931451414464386, 'contamination': 0.2658485041558633}. Best is trial 99 with value: 0.1735.\n",
            "[I 2023-06-10 03:15:02,123] Trial 114 finished with value: 0.2383 and parameters: {'objective': 'reg:squaredlogerror', 'n_estimators': 1369, 'max_depth': 14, 'colsample_bytree': 0.8364165746419656, 'subsample': 0.9992672774383771, 'learning_rate': 0.00131702657123226, 'gamma': 0.018909994682670205, 'contamination': 0.2779017266238067}. Best is trial 99 with value: 0.1735.\n",
            "[I 2023-06-10 03:15:33,204] Trial 115 finished with value: 0.1817 and parameters: {'objective': 'reg:squaredlogerror', 'n_estimators': 1279, 'max_depth': 13, 'colsample_bytree': 0.8155069522598204, 'subsample': 0.9837690996485023, 'learning_rate': 0.017328541909507007, 'gamma': 0.019544744870934782, 'contamination': 0.3721111162971629}. Best is trial 99 with value: 0.1735.\n",
            "[I 2023-06-10 03:16:11,074] Trial 116 finished with value: 0.1755 and parameters: {'objective': 'reg:squaredlogerror', 'n_estimators': 1457, 'max_depth': 13, 'colsample_bytree': 0.854486196388208, 'subsample': 0.9722250535463361, 'learning_rate': 0.00738957861704098, 'gamma': 0.018237197027075186, 'contamination': 0.31697228541762484}. Best is trial 99 with value: 0.1735.\n",
            "[I 2023-06-10 03:16:35,535] Trial 117 finished with value: 0.1761 and parameters: {'objective': 'reg:squaredlogerror', 'n_estimators': 992, 'max_depth': 13, 'colsample_bytree': 0.8710206238631548, 'subsample': 0.9521639973667934, 'learning_rate': 0.013098812938718736, 'gamma': 0.017518226015111868, 'contamination': 0.30341205325474846}. Best is trial 99 with value: 0.1735.\n",
            "[I 2023-06-10 03:17:04,311] Trial 118 finished with value: 0.1744 and parameters: {'objective': 'reg:squaredlogerror', 'n_estimators': 1210, 'max_depth': 12, 'colsample_bytree': 0.8304067468422063, 'subsample': 0.992196273331226, 'learning_rate': 0.003431020707536127, 'gamma': 0.015535273229909068, 'contamination': 0.3668725227484811}. Best is trial 99 with value: 0.1735.\n",
            "[I 2023-06-10 03:17:11,864] Trial 119 finished with value: 0.1769 and parameters: {'objective': 'reg:squaredlogerror', 'n_estimators': 761, 'max_depth': 9, 'colsample_bytree': 0.8065235084497511, 'subsample': 0.9588819201454301, 'learning_rate': 0.008748114670706823, 'gamma': 0.016914293420654848, 'contamination': 0.3393380309179251}. Best is trial 99 with value: 0.1735.\n",
            "[I 2023-06-10 03:17:34,947] Trial 120 finished with value: 0.1783 and parameters: {'objective': 'reg:squaredlogerror', 'n_estimators': 786, 'max_depth': 14, 'colsample_bytree': 0.8429101140148535, 'subsample': 0.9405039380377215, 'learning_rate': 0.023130262863362623, 'gamma': 0.018381926420031475, 'contamination': 0.2974604642011328}. Best is trial 99 with value: 0.1735.\n",
            "[I 2023-06-10 03:17:56,169] Trial 121 finished with value: 0.1741 and parameters: {'objective': 'reg:squaredlogerror', 'n_estimators': 714, 'max_depth': 13, 'colsample_bytree': 0.8526369858368892, 'subsample': 0.9836774875449519, 'learning_rate': 0.005495077281133217, 'gamma': 0.019692325945838595, 'contamination': 0.26191820625077966}. Best is trial 99 with value: 0.1735.\n",
            "[I 2023-06-10 03:18:18,040] Trial 122 finished with value: 0.1738 and parameters: {'objective': 'reg:squaredlogerror', 'n_estimators': 732, 'max_depth': 13, 'colsample_bytree': 0.8603830625625568, 'subsample': 0.9787178137238484, 'learning_rate': 0.005843854740535016, 'gamma': 0.019506455000491793, 'contamination': 0.2572095468043193}. Best is trial 99 with value: 0.1735.\n",
            "[I 2023-06-10 03:18:38,083] Trial 123 finished with value: 0.1746 and parameters: {'objective': 'reg:squaredlogerror', 'n_estimators': 752, 'max_depth': 13, 'colsample_bytree': 0.8262432742563516, 'subsample': 0.9774466920175647, 'learning_rate': 0.011206892228782267, 'gamma': 0.019665599546218115, 'contamination': 0.2560533072502066}. Best is trial 99 with value: 0.1735.\n",
            "[I 2023-06-10 03:18:59,335] Trial 124 finished with value: 0.1741 and parameters: {'objective': 'reg:squaredlogerror', 'n_estimators': 713, 'max_depth': 13, 'colsample_bytree': 0.8649934809687263, 'subsample': 0.9672512625192059, 'learning_rate': 0.006190076606748777, 'gamma': 0.019956733208618037, 'contamination': 0.26072892029626116}. Best is trial 99 with value: 0.1735.\n",
            "[I 2023-06-10 03:19:09,413] Trial 125 finished with value: 0.1755 and parameters: {'objective': 'reg:squaredlogerror', 'n_estimators': 710, 'max_depth': 10, 'colsample_bytree': 0.8684001393258931, 'subsample': 0.9692450784873989, 'learning_rate': 0.005771828828208722, 'gamma': 0.019995797948397304, 'contamination': 0.2434811537009657}. Best is trial 99 with value: 0.1735.\n",
            "[I 2023-06-10 03:19:25,190] Trial 126 finished with value: 0.6277 and parameters: {'objective': 'reg:squaredlogerror', 'n_estimators': 734, 'max_depth': 13, 'colsample_bytree': 0.8601288646675144, 'subsample': 0.9639268488960069, 'learning_rate': 0.0010227310882149404, 'gamma': 0.019184923900634174, 'contamination': 0.2646597195872234}. Best is trial 99 with value: 0.1735.\n",
            "[I 2023-06-10 03:19:41,169] Trial 127 finished with value: 0.1944 and parameters: {'objective': 'reg:squaredlogerror', 'n_estimators': 716, 'max_depth': 12, 'colsample_bytree': 0.878907424170112, 'subsample': 0.9766798755172359, 'learning_rate': 0.0032753639141012113, 'gamma': 0.018944825921282563, 'contamination': 0.25290716228407867}. Best is trial 99 with value: 0.1735.\n",
            "[I 2023-06-10 03:20:05,068] Trial 128 finished with value: 0.1761 and parameters: {'objective': 'reg:squaredlogerror', 'n_estimators': 746, 'max_depth': 14, 'colsample_bytree': 0.8875562728406401, 'subsample': 0.9509738254663601, 'learning_rate': 0.013934261953166778, 'gamma': 0.01876589839274681, 'contamination': 0.23652268349157582}. Best is trial 99 with value: 0.1735.\n",
            "[I 2023-06-10 03:20:40,198] Trial 129 finished with value: 0.1764 and parameters: {'objective': 'reg:squaredlogerror', 'n_estimators': 1378, 'max_depth': 13, 'colsample_bytree': 0.8471169089725654, 'subsample': 0.9342233045270854, 'learning_rate': 0.008842785083575708, 'gamma': 0.01972488086737339, 'contamination': 0.27058679551427045}. Best is trial 99 with value: 0.1735.\n",
            "[I 2023-06-10 03:21:06,412] Trial 130 finished with value: 0.1749 and parameters: {'objective': 'reg:squarederror', 'n_estimators': 1027, 'max_depth': 13, 'colsample_bytree': 0.8742092516409752, 'subsample': 0.9941368987607621, 'learning_rate': 0.011246965837877073, 'gamma': 0.015927367926953893, 'contamination': 0.24617488832920192}. Best is trial 99 with value: 0.1735.\n",
            "[I 2023-06-10 03:21:29,028] Trial 131 finished with value: 0.1741 and parameters: {'objective': 'reg:squaredlogerror', 'n_estimators': 772, 'max_depth': 13, 'colsample_bytree': 0.8359527865015286, 'subsample': 0.9888919616027027, 'learning_rate': 0.006948127805006856, 'gamma': 0.01946221056805238, 'contamination': 0.26113150509198674}. Best is trial 99 with value: 0.1735.\n",
            "[I 2023-06-10 03:21:49,601] Trial 132 finished with value: 0.1741 and parameters: {'objective': 'reg:squaredlogerror', 'n_estimators': 700, 'max_depth': 13, 'colsample_bytree': 0.8335018792043354, 'subsample': 0.981803730358841, 'learning_rate': 0.007136892439878185, 'gamma': 0.019483317436464045, 'contamination': 0.26108468709852956}. Best is trial 99 with value: 0.1735.\n",
            "[I 2023-06-10 03:22:10,663] Trial 133 finished with value: 0.1738 and parameters: {'objective': 'reg:squaredlogerror', 'n_estimators': 700, 'max_depth': 13, 'colsample_bytree': 0.8369358471590882, 'subsample': 0.999724202252338, 'learning_rate': 0.006752855693185107, 'gamma': 0.019493166163698755, 'contamination': 0.2603448930697057}. Best is trial 99 with value: 0.1735.\n",
            "[I 2023-06-10 03:22:32,188] Trial 134 finished with value: 0.1755 and parameters: {'objective': 'reg:squaredlogerror', 'n_estimators': 732, 'max_depth': 13, 'colsample_bytree': 0.8626335915968525, 'subsample': 0.9959054445578449, 'learning_rate': 0.004623172784736064, 'gamma': 0.019954803524619695, 'contamination': 0.2523892300592313}. Best is trial 99 with value: 0.1735.\n",
            "[I 2023-06-10 03:22:53,295] Trial 135 finished with value: 0.1738 and parameters: {'objective': 'reg:squaredlogerror', 'n_estimators': 716, 'max_depth': 13, 'colsample_bytree': 0.8505820881498707, 'subsample': 0.9879656429781661, 'learning_rate': 0.005960809465574679, 'gamma': 0.018645102379977248, 'contamination': 0.2744868009953483}. Best is trial 99 with value: 0.1735.\n",
            "[I 2023-06-10 03:23:13,703] Trial 136 finished with value: 0.1841 and parameters: {'objective': 'reg:squaredlogerror', 'n_estimators': 719, 'max_depth': 13, 'colsample_bytree': 0.8520477012297455, 'subsample': 0.999055623717289, 'learning_rate': 0.003682480533193794, 'gamma': 0.018506788732798596, 'contamination': 0.28043460312802615}. Best is trial 99 with value: 0.1735.\n",
            "[I 2023-06-10 03:23:40,080] Trial 137 finished with value: 0.1746 and parameters: {'objective': 'reg:squaredlogerror', 'n_estimators': 734, 'max_depth': 14, 'colsample_bytree': 0.8456440550284784, 'subsample': 0.982609771151943, 'learning_rate': 0.009792266640861367, 'gamma': 0.017986671192782543, 'contamination': 0.2866534589479278}. Best is trial 99 with value: 0.1735.\n",
            "[I 2023-06-10 03:23:54,752] Trial 138 finished with value: 0.1749 and parameters: {'objective': 'reg:squaredlogerror', 'n_estimators': 716, 'max_depth': 12, 'colsample_bytree': 0.8584016691967059, 'subsample': 0.9679330000746413, 'learning_rate': 0.013029020341560579, 'gamma': 0.01886125326842335, 'contamination': 0.2727280401754998}. Best is trial 99 with value: 0.1735.\n",
            "[I 2023-06-10 03:24:22,896] Trial 139 finished with value: 0.1741 and parameters: {'objective': 'reg:squaredlogerror', 'n_estimators': 946, 'max_depth': 13, 'colsample_bytree': 0.8694155472770275, 'subsample': 0.9754959642672354, 'learning_rate': 0.005717541304261304, 'gamma': 0.0175407894207055, 'contamination': 0.22685475024529902}. Best is trial 99 with value: 0.1735.\n",
            "[I 2023-06-10 03:24:47,570] Trial 140 finished with value: 0.1752 and parameters: {'objective': 'reg:squaredlogerror', 'n_estimators': 757, 'max_depth': 14, 'colsample_bytree': 0.8226031782659914, 'subsample': 0.9882591935345161, 'learning_rate': 0.015457531154018269, 'gamma': 0.018484603628814527, 'contamination': 0.23675488157096422}. Best is trial 99 with value: 0.1735.\n",
            "[I 2023-06-10 03:25:10,132] Trial 141 finished with value: 0.1741 and parameters: {'objective': 'reg:squaredlogerror', 'n_estimators': 776, 'max_depth': 13, 'colsample_bytree': 0.83745888099102, 'subsample': 0.9875897907819172, 'learning_rate': 0.007241682354286355, 'gamma': 0.019231174722505795, 'contamination': 0.2630640215154654}. Best is trial 99 with value: 0.1735.\n",
            "[I 2023-06-10 03:25:29,814] Trial 142 finished with value: 0.202 and parameters: {'objective': 'reg:squaredlogerror', 'n_estimators': 749, 'max_depth': 13, 'colsample_bytree': 0.8506452463011179, 'subsample': 0.9581025162384099, 'learning_rate': 0.0029344117238598714, 'gamma': 0.01929352370243119, 'contamination': 0.2570821913849069}. Best is trial 99 with value: 0.1735.\n",
            "[I 2023-06-10 03:25:51,808] Trial 143 finished with value: 0.1746 and parameters: {'objective': 'reg:squaredlogerror', 'n_estimators': 769, 'max_depth': 13, 'colsample_bytree': 0.8383955735129411, 'subsample': 0.9801912888890069, 'learning_rate': 0.008604905914427351, 'gamma': 0.019658407739456655, 'contamination': 0.24851720032703556}. Best is trial 99 with value: 0.1735.\n",
            "[I 2023-06-10 03:26:13,816] Trial 144 finished with value: 0.1741 and parameters: {'objective': 'reg:squaredlogerror', 'n_estimators': 732, 'max_depth': 13, 'colsample_bytree': 0.8258505632193195, 'subsample': 0.9915665745502392, 'learning_rate': 0.00540655207099585, 'gamma': 0.018813263027230662, 'contamination': 0.2755730639777061}. Best is trial 99 with value: 0.1735.\n",
            "[I 2023-06-10 03:26:33,667] Trial 145 finished with value: 0.1769 and parameters: {'objective': 'reg:squaredlogerror', 'n_estimators': 712, 'max_depth': 13, 'colsample_bytree': 0.8134914722784721, 'subsample': 0.9985646026338674, 'learning_rate': 0.011248072111786056, 'gamma': 0.018147320202725123, 'contamination': 0.26439078917706055}. Best is trial 99 with value: 0.1735.\n",
            "[I 2023-06-10 03:26:50,261] Trial 146 finished with value: 0.1738 and parameters: {'objective': 'reg:squarederror', 'n_estimators': 702, 'max_depth': 12, 'colsample_bytree': 0.8433959216935177, 'subsample': 0.9666154512387308, 'learning_rate': 0.006652173777615155, 'gamma': 0.017878741156467103, 'contamination': 0.2809951184959253}. Best is trial 99 with value: 0.1735.\n",
            "[I 2023-06-10 03:27:05,914] Trial 147 finished with value: 0.2229 and parameters: {'objective': 'reg:squarederror', 'n_estimators': 701, 'max_depth': 12, 'colsample_bytree': 0.8647283042377156, 'subsample': 0.9669727345844213, 'learning_rate': 0.002764098356938793, 'gamma': 0.017911064919989485, 'contamination': 0.2827996882368604}. Best is trial 99 with value: 0.1735.\n",
            "[I 2023-06-10 03:27:17,926] Trial 148 finished with value: 0.1741 and parameters: {'objective': 'reg:squarederror', 'n_estimators': 700, 'max_depth': 11, 'colsample_bytree': 0.8430580475887262, 'subsample': 0.8670016867724668, 'learning_rate': 0.00971054250926379, 'gamma': 0.017139916365421736, 'contamination': 0.2940606411874883}. Best is trial 99 with value: 0.1735.\n",
            "[I 2023-06-10 03:27:34,644] Trial 149 finished with value: 0.1752 and parameters: {'objective': 'reg:squarederror', 'n_estimators': 723, 'max_depth': 12, 'colsample_bytree': 0.8536459714056909, 'subsample': 0.9554341353783715, 'learning_rate': 0.004811332632237656, 'gamma': 0.016452188627422742, 'contamination': 0.2696698162122894}. Best is trial 99 with value: 0.1735.\n",
            "[I 2023-06-10 03:27:49,871] Trial 150 finished with value: 0.1744 and parameters: {'objective': 'reg:squarederror', 'n_estimators': 742, 'max_depth': 12, 'colsample_bytree': 0.829608128821675, 'subsample': 0.9751266775269751, 'learning_rate': 0.012354072225473904, 'gamma': 0.017461675381679642, 'contamination': 0.2880668846999349}. Best is trial 99 with value: 0.1735.\n",
            "[I 2023-06-10 03:28:11,915] Trial 151 finished with value: 0.1741 and parameters: {'objective': 'reg:squarederror', 'n_estimators': 758, 'max_depth': 13, 'colsample_bytree': 0.8350521072602667, 'subsample': 0.9864691650780373, 'learning_rate': 0.007251357254811609, 'gamma': 0.01902616576154474, 'contamination': 0.2554836321586341}. Best is trial 99 with value: 0.1735.\n",
            "[I 2023-06-10 03:28:33,684] Trial 152 finished with value: 0.1741 and parameters: {'objective': 'reg:squaredlogerror', 'n_estimators': 727, 'max_depth': 13, 'colsample_bytree': 0.8448945230160883, 'subsample': 0.9816969971018084, 'learning_rate': 0.006543515394564662, 'gamma': 0.018295344203414016, 'contamination': 0.24416518008846547}. Best is trial 99 with value: 0.1735.\n",
            "[I 2023-06-10 03:28:54,556] Trial 153 finished with value: 0.1741 and parameters: {'objective': 'reg:squaredlogerror', 'n_estimators': 745, 'max_depth': 13, 'colsample_bytree': 0.8195132114904229, 'subsample': 0.9056554855216576, 'learning_rate': 0.008325571181761963, 'gamma': 0.01997360128931357, 'contamination': 0.2788483034364706}. Best is trial 99 with value: 0.1735.\n",
            "[I 2023-06-10 03:29:17,089] Trial 154 finished with value: 0.1749 and parameters: {'objective': 'reg:squaredlogerror', 'n_estimators': 788, 'max_depth': 13, 'colsample_bytree': 0.8559781961319072, 'subsample': 0.9192622938232938, 'learning_rate': 0.004724690306151776, 'gamma': 0.019421338558987998, 'contamination': 0.2629704602388985}. Best is trial 99 with value: 0.1735.\n",
            "[I 2023-06-10 03:29:44,456] Trial 155 finished with value: 0.1749 and parameters: {'objective': 'reg:squarederror', 'n_estimators': 767, 'max_depth': 14, 'colsample_bytree': 0.8314510096280463, 'subsample': 0.9999812096892164, 'learning_rate': 0.010614168421845073, 'gamma': 0.018573637871457386, 'contamination': 0.23123068306392858}. Best is trial 99 with value: 0.1735.\n",
            "[I 2023-06-10 03:30:00,533] Trial 156 finished with value: 0.4245 and parameters: {'objective': 'reg:squaredlogerror', 'n_estimators': 713, 'max_depth': 13, 'colsample_bytree': 0.8461174036429655, 'subsample': 0.973570546572481, 'learning_rate': 0.0015179274749785561, 'gamma': 0.017891223047879524, 'contamination': 0.2707137425800937}. Best is trial 99 with value: 0.1735.\n",
            "[I 2023-06-10 03:30:18,625] Trial 157 finished with value: 0.1825 and parameters: {'objective': 'reg:squaredlogerror', 'n_estimators': 803, 'max_depth': 13, 'colsample_bytree': 0.8385918378678481, 'subsample': 0.9638119042182387, 'learning_rate': 0.04821131254436157, 'gamma': 0.019584220316029584, 'contamination': 0.21524006731395226}. Best is trial 99 with value: 0.1735.\n",
            "[I 2023-06-10 03:30:32,180] Trial 158 finished with value: 0.1758 and parameters: {'objective': 'reg:squaredlogerror', 'n_estimators': 733, 'max_depth': 11, 'colsample_bytree': 0.8026447196008929, 'subsample': 0.987721748260193, 'learning_rate': 0.0063396676439991025, 'gamma': 0.01897599961912903, 'contamination': 0.25057328103587206}. Best is trial 99 with value: 0.1735.\n",
            "[I 2023-06-10 03:31:06,750] Trial 159 finished with value: 0.1761 and parameters: {'objective': 'reg:squaredlogerror', 'n_estimators': 1347, 'max_depth': 13, 'colsample_bytree': 0.8628904565002108, 'subsample': 0.9456140622307727, 'learning_rate': 0.00877917784867471, 'gamma': 0.016685672518301328, 'contamination': 0.2746642122415798}. Best is trial 99 with value: 0.1735.\n",
            "[I 2023-06-10 03:31:20,612] Trial 160 finished with value: 0.1764 and parameters: {'objective': 'reg:squaredlogerror', 'n_estimators': 718, 'max_depth': 12, 'colsample_bytree': 0.8181243354243333, 'subsample': 0.817902857475964, 'learning_rate': 0.013961518143172898, 'gamma': 0.017677922925848594, 'contamination': 0.2397445607354456}. Best is trial 99 with value: 0.1735.\n",
            "[I 2023-06-10 03:31:41,382] Trial 161 finished with value: 0.1741 and parameters: {'objective': 'reg:squaredlogerror', 'n_estimators': 701, 'max_depth': 13, 'colsample_bytree': 0.8364092022899264, 'subsample': 0.9821874831036542, 'learning_rate': 0.006596675749061825, 'gamma': 0.01937730751560525, 'contamination': 0.2585790320279683}. Best is trial 99 with value: 0.1735.\n",
            "[I 2023-06-10 03:32:02,425] Trial 162 finished with value: 0.1741 and parameters: {'objective': 'reg:squaredlogerror', 'n_estimators': 700, 'max_depth': 13, 'colsample_bytree': 0.8311637217163094, 'subsample': 0.9912614215116373, 'learning_rate': 0.006979267116926902, 'gamma': 0.019465396507886836, 'contamination': 0.2613445231115266}. Best is trial 99 with value: 0.1735.\n",
            "[I 2023-06-10 03:32:22,321] Trial 163 finished with value: 0.1947 and parameters: {'objective': 'reg:squaredlogerror', 'n_estimators': 746, 'max_depth': 13, 'colsample_bytree': 0.8505002431899239, 'subsample': 0.9774427166723865, 'learning_rate': 0.0031283406718596338, 'gamma': 0.018719883039311474, 'contamination': 0.2670071427744071}. Best is trial 99 with value: 0.1735.\n",
            "[I 2023-06-10 03:32:40,275] Trial 164 finished with value: 0.1786 and parameters: {'objective': 'reg:squaredlogerror', 'n_estimators': 726, 'max_depth': 13, 'colsample_bytree': 0.8270842630996952, 'subsample': 0.9677565936204582, 'learning_rate': 0.028045695565211574, 'gamma': 0.019666843825483747, 'contamination': 0.25047078619130564}. Best is trial 99 with value: 0.1735.\n",
            "[I 2023-06-10 03:33:01,449] Trial 165 finished with value: 0.1744 and parameters: {'objective': 'reg:squaredlogerror', 'n_estimators': 760, 'max_depth': 13, 'colsample_bytree': 0.8751758866981937, 'subsample': 0.9840584243895394, 'learning_rate': 0.01032530751837076, 'gamma': 0.018416401817388715, 'contamination': 0.28499627366924307}. Best is trial 99 with value: 0.1735.\n",
            "[I 2023-06-10 03:33:27,155] Trial 166 finished with value: 0.1758 and parameters: {'objective': 'reg:squaredlogerror', 'n_estimators': 700, 'max_depth': 14, 'colsample_bytree': 0.8103024661306228, 'subsample': 0.9599998720500953, 'learning_rate': 0.008344545290019746, 'gamma': 0.019072958553875908, 'contamination': 0.38262220809038966}. Best is trial 99 with value: 0.1735.\n",
            "[I 2023-06-10 03:33:48,529] Trial 167 finished with value: 0.1761 and parameters: {'objective': 'reg:squarederror', 'n_estimators': 742, 'max_depth': 13, 'colsample_bytree': 0.8399753749703753, 'subsample': 0.9926996845528917, 'learning_rate': 0.004465116254751175, 'gamma': 0.01814844828375832, 'contamination': 0.25770183182139095}. Best is trial 99 with value: 0.1735.\n",
            "[I 2023-06-10 03:34:26,018] Trial 168 finished with value: 0.268 and parameters: {'objective': 'reg:squaredlogerror', 'n_estimators': 1496, 'max_depth': 13, 'colsample_bytree': 0.8572672895505993, 'subsample': 0.9725996688217506, 'learning_rate': 0.0010774818202772202, 'gamma': 0.019985547113631527, 'contamination': 0.27796002173234396}. Best is trial 99 with value: 0.1735.\n",
            "[I 2023-06-10 03:34:42,381] Trial 169 finished with value: 0.1749 and parameters: {'objective': 'reg:squaredlogerror', 'n_estimators': 778, 'max_depth': 12, 'colsample_bytree': 0.8221489739462494, 'subsample': 0.9815736199907364, 'learning_rate': 0.012562501910705945, 'gamma': 0.01708055805394627, 'contamination': 0.24405157481369943}. Best is trial 99 with value: 0.1735.\n",
            "[I 2023-06-10 03:35:00,451] Trial 170 finished with value: 0.1755 and parameters: {'objective': 'reg:squaredlogerror', 'n_estimators': 718, 'max_depth': 13, 'colsample_bytree': 0.8460424750637665, 'subsample': 0.991686712453623, 'learning_rate': 0.0168635932038524, 'gamma': 0.016256709581681544, 'contamination': 0.2986139618107894}. Best is trial 99 with value: 0.1735.\n",
            "[I 2023-06-10 03:35:22,466] Trial 171 finished with value: 0.1738 and parameters: {'objective': 'reg:squaredlogerror', 'n_estimators': 737, 'max_depth': 13, 'colsample_bytree': 0.872116041663743, 'subsample': 0.9746181238381811, 'learning_rate': 0.006036439335981029, 'gamma': 0.017394829604397623, 'contamination': 0.22794184739220597}. Best is trial 99 with value: 0.1735.\n",
            "[I 2023-06-10 03:35:44,268] Trial 172 finished with value: 0.1738 and parameters: {'objective': 'reg:squaredlogerror', 'n_estimators': 735, 'max_depth': 13, 'colsample_bytree': 0.8699771683172421, 'subsample': 0.9768194607528676, 'learning_rate': 0.0066280364400253386, 'gamma': 0.017570303531153308, 'contamination': 0.2661065769849143}. Best is trial 99 with value: 0.1735.\n",
            "[I 2023-06-10 03:36:05,637] Trial 173 finished with value: 0.1749 and parameters: {'objective': 'reg:squaredlogerror', 'n_estimators': 735, 'max_depth': 13, 'colsample_bytree': 0.8825124239769104, 'subsample': 0.9713369925469143, 'learning_rate': 0.00490523232748294, 'gamma': 0.017246618338805548, 'contamination': 0.2679309014337349}. Best is trial 99 with value: 0.1735.\n",
            "[I 2023-06-10 03:36:26,585] Trial 174 finished with value: 0.1744 and parameters: {'objective': 'reg:squaredlogerror', 'n_estimators': 756, 'max_depth': 13, 'colsample_bytree': 0.867992573266907, 'subsample': 0.999789096293029, 'learning_rate': 0.009768503554231844, 'gamma': 0.01763061958984558, 'contamination': 0.35159887971728626}. Best is trial 99 with value: 0.1735.\n",
            "[I 2023-06-10 03:36:53,895] Trial 175 finished with value: 0.1746 and parameters: {'objective': 'reg:squaredlogerror', 'n_estimators': 770, 'max_depth': 14, 'colsample_bytree': 0.8625411247623207, 'subsample': 0.8990295851110666, 'learning_rate': 0.007912331353304165, 'gamma': 0.016905154349071725, 'contamination': 0.24966562743898568}. Best is trial 99 with value: 0.1735.\n",
            "[I 2023-06-10 03:37:27,569] Trial 176 finished with value: 0.1744 and parameters: {'objective': 'reg:squaredlogerror', 'n_estimators': 1127, 'max_depth': 13, 'colsample_bytree': 0.8886877682461736, 'subsample': 0.9598136075290957, 'learning_rate': 0.0033388357576991947, 'gamma': 0.01582511624779441, 'contamination': 0.36155873541630634}. Best is trial 99 with value: 0.1735.\n",
            "[I 2023-06-10 03:37:49,233] Trial 177 finished with value: 0.1738 and parameters: {'objective': 'reg:squaredlogerror', 'n_estimators': 727, 'max_depth': 13, 'colsample_bytree': 0.8986344479173606, 'subsample': 0.976116634947698, 'learning_rate': 0.005804349670592078, 'gamma': 0.017859642166342123, 'contamination': 0.23925634911225802}. Best is trial 99 with value: 0.1735.\n",
            "[I 2023-06-10 03:38:08,999] Trial 178 finished with value: 0.1749 and parameters: {'objective': 'reg:squaredlogerror', 'n_estimators': 727, 'max_depth': 13, 'colsample_bytree': 0.8812780108180399, 'subsample': 0.9493660373015632, 'learning_rate': 0.011399505001826736, 'gamma': 0.017440110415563696, 'contamination': 0.23294614968436636}. Best is trial 99 with value: 0.1735.\n",
            "[I 2023-06-10 03:38:40,955] Trial 179 finished with value: 0.1746 and parameters: {'objective': 'reg:squarederror', 'n_estimators': 715, 'max_depth': 15, 'colsample_bytree': 0.8952063904889782, 'subsample': 0.9710337434759111, 'learning_rate': 0.00543384200172705, 'gamma': 0.01784889728381483, 'contamination': 0.23957570121927044}. Best is trial 99 with value: 0.1735.\n",
            "[I 2023-06-10 03:39:01,960] Trial 180 finished with value: 0.1744 and parameters: {'objective': 'reg:squaredlogerror', 'n_estimators': 745, 'max_depth': 13, 'colsample_bytree': 0.9048367503786761, 'subsample': 0.9644257163358609, 'learning_rate': 0.009267375255047478, 'gamma': 0.01672479058409029, 'contamination': 0.22188239137127613}. Best is trial 99 with value: 0.1735.\n",
            "[I 2023-06-10 03:39:23,655] Trial 181 finished with value: 0.1738 and parameters: {'objective': 'reg:squaredlogerror', 'n_estimators': 732, 'max_depth': 13, 'colsample_bytree': 0.8699789473687608, 'subsample': 0.9806312391026307, 'learning_rate': 0.006377778507612893, 'gamma': 0.01821906536801423, 'contamination': 0.2554931507857062}. Best is trial 99 with value: 0.1735.\n",
            "[I 2023-06-10 03:39:44,180] Trial 182 finished with value: 0.1819 and parameters: {'objective': 'reg:squaredlogerror', 'n_estimators': 735, 'max_depth': 13, 'colsample_bytree': 0.8760364541480963, 'subsample': 0.9763618394579068, 'learning_rate': 0.003742704185112452, 'gamma': 0.018182150985571535, 'contamination': 0.23396759573468545}. Best is trial 99 with value: 0.1735.\n",
            "[I 2023-06-10 03:40:05,751] Trial 183 finished with value: 0.1738 and parameters: {'objective': 'reg:squaredlogerror', 'n_estimators': 718, 'max_depth': 13, 'colsample_bytree': 0.8655396444728943, 'subsample': 0.9797688615852191, 'learning_rate': 0.0065463053027230425, 'gamma': 0.017364736674428977, 'contamination': 0.25016732329807584}. Best is trial 99 with value: 0.1735.\n",
            "[I 2023-06-10 03:40:27,851] Trial 184 finished with value: 0.1729 and parameters: {'objective': 'reg:squaredlogerror', 'n_estimators': 749, 'max_depth': 13, 'colsample_bytree': 0.9249354433411884, 'subsample': 0.9800545273293602, 'learning_rate': 0.008286964251563946, 'gamma': 0.01732844536929686, 'contamination': 0.24318319215446815}. Best is trial 184 with value: 0.1729.\n",
            "[I 2023-06-10 03:40:48,329] Trial 185 finished with value: 0.1735 and parameters: {'objective': 'reg:squaredlogerror', 'n_estimators': 750, 'max_depth': 13, 'colsample_bytree': 0.9188199048471719, 'subsample': 0.8833020402917148, 'learning_rate': 0.008578986008150633, 'gamma': 0.01733700130191836, 'contamination': 0.24140967671347408}. Best is trial 184 with value: 0.1729.\n",
            "[I 2023-06-10 03:41:04,111] Trial 186 finished with value: 0.1735 and parameters: {'objective': 'reg:squaredlogerror', 'n_estimators': 752, 'max_depth': 12, 'colsample_bytree': 0.9265988065908386, 'subsample': 0.8733040532529552, 'learning_rate': 0.01161599368306826, 'gamma': 0.01727777446120625, 'contamination': 0.24427766217985294}. Best is trial 184 with value: 0.1729.\n",
            "[I 2023-06-10 03:41:19,971] Trial 187 finished with value: 0.1729 and parameters: {'objective': 'reg:squaredlogerror', 'n_estimators': 754, 'max_depth': 12, 'colsample_bytree': 0.9312751367804541, 'subsample': 0.9536109109835522, 'learning_rate': 0.012390386407311476, 'gamma': 0.01703302607448499, 'contamination': 0.2424727150487431}. Best is trial 184 with value: 0.1729.\n",
            "[I 2023-06-10 03:41:35,562] Trial 188 finished with value: 0.1741 and parameters: {'objective': 'reg:squaredlogerror', 'n_estimators': 792, 'max_depth': 12, 'colsample_bytree': 0.9146362357386848, 'subsample': 0.8923945725127127, 'learning_rate': 0.015001232176289177, 'gamma': 0.017073909821464135, 'contamination': 0.22166592215370481}. Best is trial 184 with value: 0.1729.\n",
            "[I 2023-06-10 03:41:51,664] Trial 189 finished with value: 0.1732 and parameters: {'objective': 'reg:squaredlogerror', 'n_estimators': 760, 'max_depth': 12, 'colsample_bytree': 0.9304833761427979, 'subsample': 0.9012479943268953, 'learning_rate': 0.011276106213148309, 'gamma': 0.01768860188500439, 'contamination': 0.24116016546368352}. Best is trial 184 with value: 0.1729.\n",
            "[I 2023-06-10 03:42:07,306] Trial 190 finished with value: 0.1732 and parameters: {'objective': 'reg:squaredlogerror', 'n_estimators': 755, 'max_depth': 12, 'colsample_bytree': 0.9380610404260025, 'subsample': 0.883263365849048, 'learning_rate': 0.012339217477498346, 'gamma': 0.017342428804885058, 'contamination': 0.23027220790734632}. Best is trial 184 with value: 0.1729.\n",
            "[I 2023-06-10 03:42:23,104] Trial 191 finished with value: 0.1732 and parameters: {'objective': 'reg:squaredlogerror', 'n_estimators': 754, 'max_depth': 12, 'colsample_bytree': 0.9318704807349395, 'subsample': 0.8829769856864245, 'learning_rate': 0.012366520072802097, 'gamma': 0.017468976629364506, 'contamination': 0.23000927344549946}. Best is trial 184 with value: 0.1729.\n",
            "[I 2023-06-10 03:42:37,844] Trial 192 finished with value: 0.1789 and parameters: {'objective': 'reg:squaredlogerror', 'n_estimators': 758, 'max_depth': 12, 'colsample_bytree': 0.9329328864196242, 'subsample': 0.8820080881122053, 'learning_rate': 0.0189484070505495, 'gamma': 0.01731281241873855, 'contamination': 0.23109970713553638}. Best is trial 184 with value: 0.1729.\n",
            "[I 2023-06-10 03:42:52,946] Trial 193 finished with value: 0.1741 and parameters: {'objective': 'reg:squaredlogerror', 'n_estimators': 748, 'max_depth': 12, 'colsample_bytree': 0.9303882493639839, 'subsample': 0.8793504313083393, 'learning_rate': 0.012311541516430387, 'gamma': 0.016527830453907398, 'contamination': 0.21335733651972805}. Best is trial 184 with value: 0.1729.\n",
            "[I 2023-06-10 03:43:08,968] Trial 194 finished with value: 0.1744 and parameters: {'objective': 'reg:squaredlogerror', 'n_estimators': 781, 'max_depth': 12, 'colsample_bytree': 0.9444042273321638, 'subsample': 0.8853368209835443, 'learning_rate': 0.013641357162669576, 'gamma': 0.017713905790171413, 'contamination': 0.23814659565682753}. Best is trial 184 with value: 0.1729.\n",
            "[I 2023-06-10 03:43:24,691] Trial 195 finished with value: 0.1732 and parameters: {'objective': 'reg:squaredlogerror', 'n_estimators': 758, 'max_depth': 12, 'colsample_bytree': 0.9197642878526462, 'subsample': 0.8770916512306954, 'learning_rate': 0.011516692205100756, 'gamma': 0.017062092968912264, 'contamination': 0.22715405801235955}. Best is trial 184 with value: 0.1729.\n",
            "[I 2023-06-10 03:43:39,555] Trial 196 finished with value: 0.1744 and parameters: {'objective': 'reg:squaredlogerror', 'n_estimators': 756, 'max_depth': 12, 'colsample_bytree': 0.9243411732513196, 'subsample': 0.8744452001129412, 'learning_rate': 0.01546409750451714, 'gamma': 0.016837524481279755, 'contamination': 0.2243990680826111}. Best is trial 184 with value: 0.1729.\n",
            "[I 2023-06-10 03:43:54,862] Trial 197 finished with value: 0.1732 and parameters: {'objective': 'reg:squaredlogerror', 'n_estimators': 743, 'max_depth': 12, 'colsample_bytree': 0.9203487135034291, 'subsample': 0.8916906764351834, 'learning_rate': 0.011599449747925782, 'gamma': 0.017224170820653046, 'contamination': 0.218291979708035}. Best is trial 184 with value: 0.1729.\n",
            "[I 2023-06-10 03:44:11,190] Trial 198 finished with value: 0.1729 and parameters: {'objective': 'reg:squarederror', 'n_estimators': 779, 'max_depth': 12, 'colsample_bytree': 0.9209948832067192, 'subsample': 0.9008290741902009, 'learning_rate': 0.011561507266704978, 'gamma': 0.0169774668699238, 'contamination': 0.2026306772383416}. Best is trial 184 with value: 0.1729.\n",
            "[I 2023-06-10 03:44:27,380] Trial 199 finished with value: 0.1755 and parameters: {'objective': 'reg:squarederror', 'n_estimators': 812, 'max_depth': 12, 'colsample_bytree': 0.9436285474999614, 'subsample': 0.9001350538059227, 'learning_rate': 0.016913452390078305, 'gamma': 0.016539777519653735, 'contamination': 0.20464398470946307}. Best is trial 184 with value: 0.1729.\n",
            "[I 2023-06-10 03:44:43,212] Trial 200 finished with value: 0.1732 and parameters: {'objective': 'reg:squarederror', 'n_estimators': 776, 'max_depth': 12, 'colsample_bytree': 0.923296650322667, 'subsample': 0.8909771253343555, 'learning_rate': 0.011522591884406973, 'gamma': 0.017015333199909204, 'contamination': 0.2182718129588575}. Best is trial 184 with value: 0.1729.\n",
            "[I 2023-06-10 03:44:59,631] Trial 201 finished with value: 0.1732 and parameters: {'objective': 'reg:squarederror', 'n_estimators': 787, 'max_depth': 12, 'colsample_bytree': 0.9217839256503438, 'subsample': 0.8897708543636524, 'learning_rate': 0.011495173708062448, 'gamma': 0.01722087760440943, 'contamination': 0.21515619422185622}. Best is trial 184 with value: 0.1729.\n",
            "[I 2023-06-10 03:45:15,838] Trial 202 finished with value: 0.1749 and parameters: {'objective': 'reg:squarederror', 'n_estimators': 786, 'max_depth': 12, 'colsample_bytree': 0.9211732251268681, 'subsample': 0.8960904246443374, 'learning_rate': 0.013194511012433054, 'gamma': 0.01689700589761603, 'contamination': 0.2164335655144784}. Best is trial 184 with value: 0.1729.\n",
            "[I 2023-06-10 03:45:31,935] Trial 203 finished with value: 0.1738 and parameters: {'objective': 'reg:squarederror', 'n_estimators': 792, 'max_depth': 12, 'colsample_bytree': 0.9388998463405097, 'subsample': 0.8875426752133833, 'learning_rate': 0.011809933361990061, 'gamma': 0.01717588475491514, 'contamination': 0.20645239644284843}. Best is trial 184 with value: 0.1729.\n",
            "[I 2023-06-10 03:45:48,512] Trial 204 finished with value: 0.1732 and parameters: {'objective': 'reg:squarederror', 'n_estimators': 802, 'max_depth': 12, 'colsample_bytree': 0.9118564325655032, 'subsample': 0.9076799210293286, 'learning_rate': 0.01113467913714627, 'gamma': 0.016360577272105766, 'contamination': 0.22046374778610126}. Best is trial 184 with value: 0.1729.\n",
            "[I 2023-06-10 03:46:05,401] Trial 205 finished with value: 0.1732 and parameters: {'objective': 'reg:squarederror', 'n_estimators': 803, 'max_depth': 12, 'colsample_bytree': 0.9212984024635297, 'subsample': 0.8907355751614567, 'learning_rate': 0.011205609477173133, 'gamma': 0.01622309973215818, 'contamination': 0.21861560298571547}. Best is trial 184 with value: 0.1729.\n",
            "[I 2023-06-10 03:46:21,824] Trial 206 finished with value: 0.1738 and parameters: {'objective': 'reg:squarederror', 'n_estimators': 833, 'max_depth': 12, 'colsample_bytree': 0.9146534217102075, 'subsample': 0.9041664158574286, 'learning_rate': 0.01483842070959968, 'gamma': 0.01649048678512278, 'contamination': 0.20802896291916684}. Best is trial 184 with value: 0.1729.\n",
            "[I 2023-06-10 03:46:38,522] Trial 207 finished with value: 0.1735 and parameters: {'objective': 'reg:squarederror', 'n_estimators': 808, 'max_depth': 12, 'colsample_bytree': 0.9266993753117457, 'subsample': 0.9127442807122554, 'learning_rate': 0.011980572617606001, 'gamma': 0.01609292908553729, 'contamination': 0.2178452786352337}. Best is trial 184 with value: 0.1729.\n",
            "[I 2023-06-10 03:46:55,678] Trial 208 finished with value: 0.1732 and parameters: {'objective': 'reg:squarederror', 'n_estimators': 805, 'max_depth': 12, 'colsample_bytree': 0.9238304804317661, 'subsample': 0.9084423254113598, 'learning_rate': 0.0109803004460277, 'gamma': 0.015745132548387393, 'contamination': 0.21985882274587504}. Best is trial 184 with value: 0.1729.\n",
            "[I 2023-06-10 03:47:12,308] Trial 209 finished with value: 0.1735 and parameters: {'objective': 'reg:squarederror', 'n_estimators': 821, 'max_depth': 12, 'colsample_bytree': 0.9237023492800222, 'subsample': 0.9099878009472003, 'learning_rate': 0.011842477442499317, 'gamma': 0.016040883114066033, 'contamination': 0.2204136438198849}. Best is trial 184 with value: 0.1729.\n",
            "[I 2023-06-10 03:47:29,149] Trial 210 finished with value: 0.1746 and parameters: {'objective': 'reg:squarederror', 'n_estimators': 821, 'max_depth': 12, 'colsample_bytree': 0.925386136978772, 'subsample': 0.909335025132354, 'learning_rate': 0.01361005344613619, 'gamma': 0.016054338883711123, 'contamination': 0.21910401530884394}. Best is trial 184 with value: 0.1729.\n",
            "[I 2023-06-10 03:47:46,062] Trial 211 finished with value: 0.1726 and parameters: {'objective': 'reg:squarederror', 'n_estimators': 809, 'max_depth': 12, 'colsample_bytree': 0.9190478580829745, 'subsample': 0.8913024928163675, 'learning_rate': 0.010880770949447467, 'gamma': 0.016191544708351192, 'contamination': 0.19803338852964436}. Best is trial 211 with value: 0.1726.\n",
            "[I 2023-06-10 03:48:02,587] Trial 212 finished with value: 0.1735 and parameters: {'objective': 'reg:squarederror', 'n_estimators': 812, 'max_depth': 12, 'colsample_bytree': 0.9193055308378602, 'subsample': 0.9113062928817793, 'learning_rate': 0.01181338181033699, 'gamma': 0.015626229122764672, 'contamination': 0.19797458051447875}. Best is trial 211 with value: 0.1726.\n",
            "[I 2023-06-10 03:48:19,604] Trial 213 finished with value: 0.1735 and parameters: {'objective': 'reg:squarederror', 'n_estimators': 808, 'max_depth': 12, 'colsample_bytree': 0.919284729133101, 'subsample': 0.9150305221477032, 'learning_rate': 0.01188368103908613, 'gamma': 0.01552819353201565, 'contamination': 0.2011044511469465}. Best is trial 211 with value: 0.1726.\n",
            "[I 2023-06-10 03:48:36,294] Trial 214 finished with value: 0.1732 and parameters: {'objective': 'reg:squarederror', 'n_estimators': 807, 'max_depth': 12, 'colsample_bytree': 0.9190530211363361, 'subsample': 0.913076361993356, 'learning_rate': 0.012053057308281226, 'gamma': 0.015291077161575205, 'contamination': 0.1969543290697681}. Best is trial 211 with value: 0.1726.\n",
            "[I 2023-06-10 03:48:52,887] Trial 215 finished with value: 0.1746 and parameters: {'objective': 'reg:squarederror', 'n_estimators': 850, 'max_depth': 12, 'colsample_bytree': 0.9196909632598305, 'subsample': 0.9160075780550102, 'learning_rate': 0.01589779593971631, 'gamma': 0.015574712399634823, 'contamination': 0.19072323209665193}. Best is trial 211 with value: 0.1726.\n",
            "[I 2023-06-10 03:49:09,236] Trial 216 finished with value: 0.1746 and parameters: {'objective': 'reg:squarederror', 'n_estimators': 805, 'max_depth': 12, 'colsample_bytree': 0.907912644882797, 'subsample': 0.9129943084563489, 'learning_rate': 0.013760257911685128, 'gamma': 0.015112789576956293, 'contamination': 0.19904808867742046}. Best is trial 211 with value: 0.1726.\n",
            "[I 2023-06-10 03:49:26,131] Trial 217 finished with value: 0.1738 and parameters: {'objective': 'reg:squarederror', 'n_estimators': 833, 'max_depth': 12, 'colsample_bytree': 0.9334237239390383, 'subsample': 0.8935398486318449, 'learning_rate': 0.011914360443388016, 'gamma': 0.015836919269946046, 'contamination': 0.2135119191988425}. Best is trial 211 with value: 0.1726.\n",
            "[I 2023-06-10 03:49:43,003] Trial 218 finished with value: 0.1732 and parameters: {'objective': 'reg:squarederror', 'n_estimators': 815, 'max_depth': 12, 'colsample_bytree': 0.9141566053294481, 'subsample': 0.905662687122792, 'learning_rate': 0.011142312405193814, 'gamma': 0.01614390165499124, 'contamination': 0.2004328105466338}. Best is trial 211 with value: 0.1726.\n",
            "[I 2023-06-10 03:49:59,459] Trial 219 finished with value: 0.1792 and parameters: {'objective': 'reg:squarederror', 'n_estimators': 822, 'max_depth': 12, 'colsample_bytree': 0.910318635702324, 'subsample': 0.902148501548943, 'learning_rate': 0.019940865311430765, 'gamma': 0.016245821897265228, 'contamination': 0.2088654107706506}. Best is trial 211 with value: 0.1726.\n",
            "[I 2023-06-10 03:50:15,216] Trial 220 finished with value: 0.1755 and parameters: {'objective': 'reg:squarederror', 'n_estimators': 801, 'max_depth': 12, 'colsample_bytree': 0.9246914641544373, 'subsample': 0.9073576645588933, 'learning_rate': 0.01768132983096325, 'gamma': 0.016074129204369198, 'contamination': 0.20092627190027643}. Best is trial 211 with value: 0.1726.\n",
            "[I 2023-06-10 03:50:31,727] Trial 221 finished with value: 0.1732 and parameters: {'objective': 'reg:squarederror', 'n_estimators': 806, 'max_depth': 12, 'colsample_bytree': 0.9172398323678007, 'subsample': 0.9218438578199947, 'learning_rate': 0.011639787005794964, 'gamma': 0.015334026241449509, 'contamination': 0.1911161630245609}. Best is trial 211 with value: 0.1726.\n",
            "[I 2023-06-10 03:50:48,841] Trial 222 finished with value: 0.1735 and parameters: {'objective': 'reg:squarederror', 'n_estimators': 819, 'max_depth': 12, 'colsample_bytree': 0.9314627556948832, 'subsample': 0.9213439555115532, 'learning_rate': 0.011447820739028171, 'gamma': 0.014710213516435885, 'contamination': 0.1881647460327608}. Best is trial 211 with value: 0.1726.\n",
            "[I 2023-06-10 03:51:06,071] Trial 223 finished with value: 0.1729 and parameters: {'objective': 'reg:squarederror', 'n_estimators': 846, 'max_depth': 12, 'colsample_bytree': 0.9383005133816803, 'subsample': 0.8895256628989374, 'learning_rate': 0.011055714876913203, 'gamma': 0.015462309055736817, 'contamination': 0.19350842350161915}. Best is trial 211 with value: 0.1726.\n",
            "[I 2023-06-10 03:51:19,694] Trial 224 finished with value: 0.1735 and parameters: {'objective': 'reg:squarederror', 'n_estimators': 874, 'max_depth': 11, 'colsample_bytree': 0.9394160865542196, 'subsample': 0.8908543274749816, 'learning_rate': 0.013931089188925274, 'gamma': 0.0164234137236354, 'contamination': 0.17952776778636545}. Best is trial 211 with value: 0.1726.\n",
            "[I 2023-06-10 03:51:37,258] Trial 225 finished with value: 0.1726 and parameters: {'objective': 'reg:squarederror', 'n_estimators': 840, 'max_depth': 12, 'colsample_bytree': 0.9129139974396224, 'subsample': 0.8875122028501078, 'learning_rate': 0.010357003698140127, 'gamma': 0.016751503456921033, 'contamination': 0.2174560513638437}. Best is trial 211 with value: 0.1726.\n",
            "[I 2023-06-10 03:51:54,635] Trial 226 finished with value: 0.1744 and parameters: {'objective': 'reg:squarederror', 'n_estimators': 857, 'max_depth': 12, 'colsample_bytree': 0.9066737076858347, 'subsample': 0.8784697804756011, 'learning_rate': 0.010453301542382797, 'gamma': 0.016858438034205038, 'contamination': 0.21115748639739496}. Best is trial 211 with value: 0.1726.\n",
            "[I 2023-06-10 03:52:07,643] Trial 227 finished with value: 0.1729 and parameters: {'objective': 'reg:squarederror', 'n_estimators': 840, 'max_depth': 11, 'colsample_bytree': 0.9491632014954244, 'subsample': 0.8902120368963258, 'learning_rate': 0.01567959159929152, 'gamma': 0.01664971963441584, 'contamination': 0.1939379162530822}. Best is trial 211 with value: 0.1726.\n",
            "[I 2023-06-10 03:52:20,031] Trial 228 finished with value: 0.1732 and parameters: {'objective': 'reg:squarederror', 'n_estimators': 793, 'max_depth': 11, 'colsample_bytree': 0.9497634999101786, 'subsample': 0.8881750351574541, 'learning_rate': 0.0154045700909957, 'gamma': 0.015302339071454266, 'contamination': 0.190673068126853}. Best is trial 211 with value: 0.1726.\n",
            "[I 2023-06-10 03:52:33,131] Trial 229 finished with value: 0.1735 and parameters: {'objective': 'reg:squarederror', 'n_estimators': 845, 'max_depth': 11, 'colsample_bytree': 0.9493185210043237, 'subsample': 0.8882455335454139, 'learning_rate': 0.01558855079434495, 'gamma': 0.0143382424769425, 'contamination': 0.19182093231469624}. Best is trial 211 with value: 0.1726.\n",
            "[I 2023-06-10 03:52:45,602] Trial 230 finished with value: 0.1732 and parameters: {'objective': 'reg:squarederror', 'n_estimators': 793, 'max_depth': 11, 'colsample_bytree': 0.9489358480315989, 'subsample': 0.8977765229513095, 'learning_rate': 0.015051441774758433, 'gamma': 0.015376413665057008, 'contamination': 0.18328847864802214}. Best is trial 211 with value: 0.1726.\n",
            "[I 2023-06-10 03:52:58,030] Trial 231 finished with value: 0.1729 and parameters: {'objective': 'reg:squarederror', 'n_estimators': 791, 'max_depth': 11, 'colsample_bytree': 0.9570176017377636, 'subsample': 0.8972315211080445, 'learning_rate': 0.014008986042866049, 'gamma': 0.014881469433797841, 'contamination': 0.18765246707874347}. Best is trial 211 with value: 0.1726.\n",
            "[I 2023-06-10 03:53:10,322] Trial 232 finished with value: 0.1738 and parameters: {'objective': 'reg:squarederror', 'n_estimators': 797, 'max_depth': 11, 'colsample_bytree': 0.949353751305087, 'subsample': 0.899352644230407, 'learning_rate': 0.017588330349682282, 'gamma': 0.015157879838591575, 'contamination': 0.1840650335012065}. Best is trial 211 with value: 0.1726.\n",
            "[I 2023-06-10 03:53:23,867] Trial 233 finished with value: 0.1738 and parameters: {'objective': 'reg:squarederror', 'n_estimators': 838, 'max_depth': 11, 'colsample_bytree': 0.9576630687981176, 'subsample': 0.8944261367715874, 'learning_rate': 0.015035836019921731, 'gamma': 0.015394538404204138, 'contamination': 0.1773485461032618}. Best is trial 211 with value: 0.1726.\n",
            "[I 2023-06-10 03:53:36,814] Trial 234 finished with value: 0.1729 and parameters: {'objective': 'reg:squarederror', 'n_estimators': 794, 'max_depth': 11, 'colsample_bytree': 0.9355536926714644, 'subsample': 0.8885560516396558, 'learning_rate': 0.014560756343951299, 'gamma': 0.014884199385171904, 'contamination': 0.19500426634999218}. Best is trial 211 with value: 0.1726.\n",
            "[I 2023-06-10 03:53:49,573] Trial 235 finished with value: 0.1732 and parameters: {'objective': 'reg:squarederror', 'n_estimators': 784, 'max_depth': 11, 'colsample_bytree': 0.9359647981901789, 'subsample': 0.8880836634005942, 'learning_rate': 0.014304083769427824, 'gamma': 0.014801462659743211, 'contamination': 0.19256531396948195}. Best is trial 211 with value: 0.1726.\n",
            "[I 2023-06-10 03:54:02,837] Trial 236 finished with value: 0.1744 and parameters: {'objective': 'reg:squarederror', 'n_estimators': 828, 'max_depth': 11, 'colsample_bytree': 0.9124982533512638, 'subsample': 0.902000799078493, 'learning_rate': 0.016603292394081128, 'gamma': 0.015089134673618143, 'contamination': 0.1985465017188345}. Best is trial 211 with value: 0.1726.\n",
            "[I 2023-06-10 03:54:15,335] Trial 237 finished with value: 0.1786 and parameters: {'objective': 'reg:squarederror', 'n_estimators': 783, 'max_depth': 11, 'colsample_bytree': 0.9540997623669731, 'subsample': 0.8967708508185219, 'learning_rate': 0.021426894731392154, 'gamma': 0.015417968680603453, 'contamination': 0.18309931862965861}. Best is trial 211 with value: 0.1726.\n",
            "[I 2023-06-10 03:54:31,229] Trial 238 finished with value: 0.1778 and parameters: {'objective': 'reg:squarederror', 'n_estimators': 796, 'max_depth': 12, 'colsample_bytree': 0.9359791021624583, 'subsample': 0.885540612043636, 'learning_rate': 0.018810585422544827, 'gamma': 0.013794672775275844, 'contamination': 0.16918956392426585}. Best is trial 211 with value: 0.1726.\n",
            "[I 2023-06-10 03:54:43,855] Trial 239 finished with value: 0.1726 and parameters: {'objective': 'reg:squarederror', 'n_estimators': 775, 'max_depth': 11, 'colsample_bytree': 0.9611158785346303, 'subsample': 0.8693544283482458, 'learning_rate': 0.01361746518260681, 'gamma': 0.01581598968496978, 'contamination': 0.195259593101165}. Best is trial 211 with value: 0.1726.\n",
            "[I 2023-06-10 03:54:59,487] Trial 240 finished with value: 0.1738 and parameters: {'objective': 'reg:squarederror', 'n_estimators': 777, 'max_depth': 12, 'colsample_bytree': 0.9628664302055556, 'subsample': 0.8675889403056025, 'learning_rate': 0.01359464116925907, 'gamma': 0.014717490727606962, 'contamination': 0.20738953039204377}. Best is trial 211 with value: 0.1726.\n",
            "[I 2023-06-10 03:55:12,250] Trial 241 finished with value: 0.1735 and parameters: {'objective': 'reg:squarederror', 'n_estimators': 805, 'max_depth': 11, 'colsample_bytree': 0.9433106628976806, 'subsample': 0.8790148819396032, 'learning_rate': 0.015490056156127826, 'gamma': 0.015725797957965606, 'contamination': 0.19414586972157916}. Best is trial 211 with value: 0.1726.\n",
            "[I 2023-06-10 03:55:24,750] Trial 242 finished with value: 0.1726 and parameters: {'objective': 'reg:squarederror', 'n_estimators': 777, 'max_depth': 11, 'colsample_bytree': 0.9320927117856246, 'subsample': 0.8974873416372228, 'learning_rate': 0.013376260729565909, 'gamma': 0.016603508050836373, 'contamination': 0.2023526058328036}. Best is trial 211 with value: 0.1726.\n",
            "[I 2023-06-10 03:55:37,693] Trial 243 finished with value: 0.172 and parameters: {'objective': 'reg:squarederror', 'n_estimators': 773, 'max_depth': 11, 'colsample_bytree': 0.9305476653945159, 'subsample': 0.8898241869504235, 'learning_rate': 0.01021630213549606, 'gamma': 0.016635129888131536, 'contamination': 0.20409011497439503}. Best is trial 243 with value: 0.172.\n",
            "[I 2023-06-10 03:55:53,960] Trial 244 finished with value: 0.1726 and parameters: {'objective': 'reg:squarederror', 'n_estimators': 773, 'max_depth': 12, 'colsample_bytree': 0.9297840991333113, 'subsample': 0.9062701021319471, 'learning_rate': 0.010166224049481807, 'gamma': 0.016604683628515544, 'contamination': 0.203763650634404}. Best is trial 243 with value: 0.172.\n",
            "[I 2023-06-10 03:56:10,905] Trial 245 finished with value: 0.1726 and parameters: {'objective': 'reg:squarederror', 'n_estimators': 777, 'max_depth': 12, 'colsample_bytree': 0.9368869874630456, 'subsample': 0.9035619490135335, 'learning_rate': 0.009803175225941667, 'gamma': 0.01661659948045173, 'contamination': 0.2035037937878865}. Best is trial 243 with value: 0.172.\n",
            "[I 2023-06-10 03:56:27,534] Trial 246 finished with value: 0.1723 and parameters: {'objective': 'reg:squarederror', 'n_estimators': 772, 'max_depth': 12, 'colsample_bytree': 0.9313702890178062, 'subsample': 0.8908998850240932, 'learning_rate': 0.009979211846882127, 'gamma': 0.016659313826741056, 'contamination': 0.2102486048065524}. Best is trial 243 with value: 0.172.\n",
            "[I 2023-06-10 03:56:40,748] Trial 247 finished with value: 0.1723 and parameters: {'objective': 'reg:squarederror', 'n_estimators': 777, 'max_depth': 11, 'colsample_bytree': 0.9328042151115459, 'subsample': 0.8731572811710643, 'learning_rate': 0.009377239111603954, 'gamma': 0.016637097706905593, 'contamination': 0.20963650845457915}. Best is trial 243 with value: 0.172.\n",
            "[I 2023-06-10 03:56:53,703] Trial 248 finished with value: 0.172 and parameters: {'objective': 'reg:squarederror', 'n_estimators': 772, 'max_depth': 11, 'colsample_bytree': 0.9328765030872722, 'subsample': 0.8725413929599977, 'learning_rate': 0.009889903653324011, 'gamma': 0.016832290309034718, 'contamination': 0.21015241179111846}. Best is trial 243 with value: 0.172.\n",
            "[I 2023-06-10 03:57:06,669] Trial 249 finished with value: 0.1723 and parameters: {'objective': 'reg:squarederror', 'n_estimators': 771, 'max_depth': 11, 'colsample_bytree': 0.9333993694730383, 'subsample': 0.8711643893709899, 'learning_rate': 0.009906404118096164, 'gamma': 0.01670526089063539, 'contamination': 0.20681719405075852}. Best is trial 243 with value: 0.172.\n",
            "[I 2023-06-10 03:57:19,727] Trial 250 finished with value: 0.1726 and parameters: {'objective': 'reg:squarederror', 'n_estimators': 773, 'max_depth': 11, 'colsample_bytree': 0.9324659398068347, 'subsample': 0.8612016045419507, 'learning_rate': 0.00967871975680652, 'gamma': 0.016812687666694078, 'contamination': 0.20621212705338487}. Best is trial 243 with value: 0.172.\n",
            "[I 2023-06-10 03:57:32,822] Trial 251 finished with value: 0.1726 and parameters: {'objective': 'reg:squarederror', 'n_estimators': 772, 'max_depth': 11, 'colsample_bytree': 0.9339381849813433, 'subsample': 0.8624118483566184, 'learning_rate': 0.009483767596993709, 'gamma': 0.01686913873968842, 'contamination': 0.20776372393887144}. Best is trial 243 with value: 0.172.\n",
            "[I 2023-06-10 03:57:45,945] Trial 252 finished with value: 0.1726 and parameters: {'objective': 'reg:squarederror', 'n_estimators': 771, 'max_depth': 11, 'colsample_bytree': 0.9373569437681113, 'subsample': 0.8671818002185162, 'learning_rate': 0.009172188385438013, 'gamma': 0.016673629026028355, 'contamination': 0.20635177620768058}. Best is trial 243 with value: 0.172.\n",
            "[I 2023-06-10 03:57:58,934] Trial 253 finished with value: 0.1729 and parameters: {'objective': 'reg:squarederror', 'n_estimators': 771, 'max_depth': 11, 'colsample_bytree': 0.9359689412571295, 'subsample': 0.8671653182841748, 'learning_rate': 0.009269415530679177, 'gamma': 0.016643199022840893, 'contamination': 0.20622182842721992}. Best is trial 243 with value: 0.172.\n",
            "[I 2023-06-10 03:58:11,982] Trial 254 finished with value: 0.1726 and parameters: {'objective': 'reg:squarederror', 'n_estimators': 766, 'max_depth': 11, 'colsample_bytree': 0.9365378627081757, 'subsample': 0.8601613890489125, 'learning_rate': 0.009328177032135548, 'gamma': 0.016624973585420262, 'contamination': 0.20540522830201033}. Best is trial 243 with value: 0.172.\n",
            "[I 2023-06-10 03:58:25,167] Trial 255 finished with value: 0.1726 and parameters: {'objective': 'reg:squarederror', 'n_estimators': 768, 'max_depth': 11, 'colsample_bytree': 0.9378509193311668, 'subsample': 0.8609696591649982, 'learning_rate': 0.009045946578281793, 'gamma': 0.016695766042185044, 'contamination': 0.20711319813530066}. Best is trial 243 with value: 0.172.\n",
            "[I 2023-06-10 03:58:38,123] Trial 256 finished with value: 0.1726 and parameters: {'objective': 'reg:squarederror', 'n_estimators': 769, 'max_depth': 11, 'colsample_bytree': 0.9406463166334601, 'subsample': 0.8624649043968983, 'learning_rate': 0.009174666578996935, 'gamma': 0.016605962312693037, 'contamination': 0.20615429349980458}. Best is trial 243 with value: 0.172.\n",
            "[I 2023-06-10 03:58:51,237] Trial 257 finished with value: 0.1723 and parameters: {'objective': 'reg:squarederror', 'n_estimators': 769, 'max_depth': 11, 'colsample_bytree': 0.9401500750797815, 'subsample': 0.8584155584870488, 'learning_rate': 0.009042100792518699, 'gamma': 0.016606080916218444, 'contamination': 0.20792280622120765}. Best is trial 243 with value: 0.172.\n",
            "[I 2023-06-10 03:59:04,400] Trial 258 finished with value: 0.1723 and parameters: {'objective': 'reg:squarederror', 'n_estimators': 773, 'max_depth': 11, 'colsample_bytree': 0.9427023579352115, 'subsample': 0.8571433440098608, 'learning_rate': 0.009006420352121777, 'gamma': 0.016763116517106515, 'contamination': 0.20686274002567748}. Best is trial 243 with value: 0.172.\n",
            "[I 2023-06-10 03:59:17,535] Trial 259 finished with value: 0.1723 and parameters: {'objective': 'reg:squarederror', 'n_estimators': 769, 'max_depth': 11, 'colsample_bytree': 0.9630430102472888, 'subsample': 0.8597749402524242, 'learning_rate': 0.009342365358653192, 'gamma': 0.016642408042550284, 'contamination': 0.20519232176770896}. Best is trial 243 with value: 0.172.\n",
            "[I 2023-06-10 03:59:30,747] Trial 260 finished with value: 0.172 and parameters: {'objective': 'reg:squarederror', 'n_estimators': 772, 'max_depth': 11, 'colsample_bytree': 0.9443140500755636, 'subsample': 0.8585071115126416, 'learning_rate': 0.008626365963354596, 'gamma': 0.01659439733654396, 'contamination': 0.20604292931369805}. Best is trial 243 with value: 0.172.\n",
            "[I 2023-06-10 03:59:43,903] Trial 261 finished with value: 0.1723 and parameters: {'objective': 'reg:squarederror', 'n_estimators': 771, 'max_depth': 11, 'colsample_bytree': 0.9386797831012831, 'subsample': 0.8532477696339257, 'learning_rate': 0.009408029659387201, 'gamma': 0.01660256070472005, 'contamination': 0.20466887490090857}. Best is trial 243 with value: 0.172.\n",
            "[I 2023-06-10 03:59:57,021] Trial 262 finished with value: 0.1723 and parameters: {'objective': 'reg:squarederror', 'n_estimators': 771, 'max_depth': 11, 'colsample_bytree': 0.9630385631821612, 'subsample': 0.8598559365658476, 'learning_rate': 0.009332376030327667, 'gamma': 0.01663285979498556, 'contamination': 0.20645102606520935}. Best is trial 243 with value: 0.172.\n",
            "[I 2023-06-10 04:00:10,267] Trial 263 finished with value: 0.172 and parameters: {'objective': 'reg:squarederror', 'n_estimators': 774, 'max_depth': 11, 'colsample_bytree': 0.9666846191764538, 'subsample': 0.8536464797882187, 'learning_rate': 0.008861412192939828, 'gamma': 0.01679248401991222, 'contamination': 0.20992287383233701}. Best is trial 243 with value: 0.172.\n",
            "[I 2023-06-10 04:00:23,462] Trial 264 finished with value: 0.172 and parameters: {'objective': 'reg:squarederror', 'n_estimators': 772, 'max_depth': 11, 'colsample_bytree': 0.9643483362205983, 'subsample': 0.8557116694791941, 'learning_rate': 0.008812563510179006, 'gamma': 0.01660237101673215, 'contamination': 0.2080922072812577}. Best is trial 243 with value: 0.172.\n",
            "[I 2023-06-10 04:00:36,445] Trial 265 finished with value: 0.1726 and parameters: {'objective': 'reg:squarederror', 'n_estimators': 773, 'max_depth': 11, 'colsample_bytree': 0.9640321559170865, 'subsample': 0.8575141838098652, 'learning_rate': 0.009263959167792164, 'gamma': 0.016560990323266522, 'contamination': 0.20794853943305225}. Best is trial 243 with value: 0.172.\n",
            "[I 2023-06-10 04:00:49,576] Trial 266 finished with value: 0.1726 and parameters: {'objective': 'reg:squarederror', 'n_estimators': 767, 'max_depth': 11, 'colsample_bytree': 0.9779731780183911, 'subsample': 0.8571181846694683, 'learning_rate': 0.008896628658568636, 'gamma': 0.016421284838368282, 'contamination': 0.21208308098825587}. Best is trial 243 with value: 0.172.\n",
            "[I 2023-06-10 04:01:02,714] Trial 267 finished with value: 0.172 and parameters: {'objective': 'reg:squarederror', 'n_estimators': 772, 'max_depth': 11, 'colsample_bytree': 0.9666854776446142, 'subsample': 0.8519515098964274, 'learning_rate': 0.009070365966492293, 'gamma': 0.016677445595162346, 'contamination': 0.20396880986236393}. Best is trial 243 with value: 0.172.\n",
            "[I 2023-06-10 04:01:15,821] Trial 268 finished with value: 0.1723 and parameters: {'objective': 'reg:squarederror', 'n_estimators': 771, 'max_depth': 11, 'colsample_bytree': 0.9726773140946684, 'subsample': 0.8501500938828195, 'learning_rate': 0.008690578595868078, 'gamma': 0.016728117292926822, 'contamination': 0.20383624667053557}. Best is trial 243 with value: 0.172.\n",
            "[I 2023-06-10 04:01:27,875] Trial 269 finished with value: 0.1764 and parameters: {'objective': 'reg:squarederror', 'n_estimators': 778, 'max_depth': 11, 'colsample_bytree': 0.974379914571093, 'subsample': 0.8422594465210814, 'learning_rate': 0.03662979634758946, 'gamma': 0.016764755045586777, 'contamination': 0.2030614784320796}. Best is trial 243 with value: 0.172.\n",
            "[I 2023-06-10 04:01:41,183] Trial 270 finished with value: 0.172 and parameters: {'objective': 'reg:squarederror', 'n_estimators': 774, 'max_depth': 11, 'colsample_bytree': 0.9643382123892578, 'subsample': 0.8520356562064773, 'learning_rate': 0.008452492621972197, 'gamma': 0.016295978051960532, 'contamination': 0.20983989039405254}. Best is trial 243 with value: 0.172.\n",
            "[I 2023-06-10 04:01:54,478] Trial 271 finished with value: 0.1723 and parameters: {'objective': 'reg:squarederror', 'n_estimators': 779, 'max_depth': 11, 'colsample_bytree': 0.9595686279295529, 'subsample': 0.8445512837861068, 'learning_rate': 0.008473915393652274, 'gamma': 0.016175136749516934, 'contamination': 0.2114991693555514}. Best is trial 243 with value: 0.172.\n",
            "[I 2023-06-10 04:02:06,513] Trial 272 finished with value: 0.18 and parameters: {'objective': 'reg:squarederror', 'n_estimators': 779, 'max_depth': 11, 'colsample_bytree': 0.9620438879485417, 'subsample': 0.8493288679625166, 'learning_rate': 0.030351314004103982, 'gamma': 0.016211303411266052, 'contamination': 0.21236875073095066}. Best is trial 243 with value: 0.172.\n",
            "[I 2023-06-10 04:02:20,049] Trial 273 finished with value: 0.172 and parameters: {'objective': 'reg:squarederror', 'n_estimators': 782, 'max_depth': 11, 'colsample_bytree': 0.9623356429698595, 'subsample': 0.8433306049770597, 'learning_rate': 0.008175084572091316, 'gamma': 0.016194924569375498, 'contamination': 0.20070455630176176}. Best is trial 243 with value: 0.172.\n",
            "[I 2023-06-10 04:02:32,248] Trial 274 finished with value: 0.1797 and parameters: {'objective': 'reg:squarederror', 'n_estimators': 782, 'max_depth': 11, 'colsample_bytree': 0.9716692492559516, 'subsample': 0.8480121778187188, 'learning_rate': 0.026280039919495346, 'gamma': 0.016010956689578495, 'contamination': 0.20200369756599929}. Best is trial 243 with value: 0.172.\n",
            "[I 2023-06-10 04:02:45,950] Trial 275 finished with value: 0.1723 and parameters: {'objective': 'reg:squarederror', 'n_estimators': 785, 'max_depth': 11, 'colsample_bytree': 0.9681023798507177, 'subsample': 0.8523790586374804, 'learning_rate': 0.007675331102379954, 'gamma': 0.0163354368809853, 'contamination': 0.2130730184353355}. Best is trial 243 with value: 0.172.\n",
            "[I 2023-06-10 04:02:57,870] Trial 276 finished with value: 0.1808 and parameters: {'objective': 'reg:squarederror', 'n_estimators': 788, 'max_depth': 11, 'colsample_bytree': 0.9689224266287978, 'subsample': 0.8426810429156992, 'learning_rate': 0.08021419436125257, 'gamma': 0.016147522199279264, 'contamination': 0.1972219656555451}. Best is trial 243 with value: 0.172.\n",
            "[I 2023-06-10 04:03:11,484] Trial 277 finished with value: 0.1723 and parameters: {'objective': 'reg:squarederror', 'n_estimators': 781, 'max_depth': 11, 'colsample_bytree': 0.9851251311585385, 'subsample': 0.8530189757424895, 'learning_rate': 0.00786958386240564, 'gamma': 0.01628896816229552, 'contamination': 0.21417761303082225}. Best is trial 243 with value: 0.172.\n",
            "[I 2023-06-10 04:03:25,026] Trial 278 finished with value: 0.1723 and parameters: {'objective': 'reg:squarederror', 'n_estimators': 788, 'max_depth': 11, 'colsample_bytree': 0.9790528183626218, 'subsample': 0.8527040629487539, 'learning_rate': 0.008052613701176523, 'gamma': 0.015933018039799206, 'contamination': 0.2140010736505343}. Best is trial 243 with value: 0.172.\n",
            "[I 2023-06-10 04:03:38,855] Trial 279 finished with value: 0.1723 and parameters: {'objective': 'reg:squarederror', 'n_estimators': 790, 'max_depth': 11, 'colsample_bytree': 0.9819456003513141, 'subsample': 0.8521917161026245, 'learning_rate': 0.007553904682332366, 'gamma': 0.015924400872467808, 'contamination': 0.21429572933952337}. Best is trial 243 with value: 0.172.\n",
            "[I 2023-06-10 04:03:52,471] Trial 280 finished with value: 0.172 and parameters: {'objective': 'reg:squarederror', 'n_estimators': 793, 'max_depth': 11, 'colsample_bytree': 0.9825198561051912, 'subsample': 0.853856663309225, 'learning_rate': 0.007905795164598023, 'gamma': 0.01591787747945182, 'contamination': 0.21341499120689464}. Best is trial 243 with value: 0.172.\n",
            "[I 2023-06-10 04:04:06,032] Trial 281 finished with value: 0.1723 and parameters: {'objective': 'reg:squarederror', 'n_estimators': 789, 'max_depth': 11, 'colsample_bytree': 0.9837222081503637, 'subsample': 0.8518565567454285, 'learning_rate': 0.00793205217609811, 'gamma': 0.015978891793858595, 'contamination': 0.21357691572738674}. Best is trial 243 with value: 0.172.\n",
            "[I 2023-06-10 04:04:19,863] Trial 282 finished with value: 0.172 and parameters: {'objective': 'reg:squarederror', 'n_estimators': 792, 'max_depth': 11, 'colsample_bytree': 0.9839160033025631, 'subsample': 0.8522583307075243, 'learning_rate': 0.0074823068765065455, 'gamma': 0.015848362497176038, 'contamination': 0.2133122818865792}. Best is trial 243 with value: 0.172.\n",
            "[I 2023-06-10 04:04:33,637] Trial 283 finished with value: 0.1723 and parameters: {'objective': 'reg:squarederror', 'n_estimators': 787, 'max_depth': 11, 'colsample_bytree': 0.9807639670580436, 'subsample': 0.8524203302513963, 'learning_rate': 0.00830909807670355, 'gamma': 0.015959953202485378, 'contamination': 0.21214145965066603}. Best is trial 243 with value: 0.172.\n",
            "[I 2023-06-10 04:04:47,470] Trial 284 finished with value: 0.1723 and parameters: {'objective': 'reg:squarederror', 'n_estimators': 792, 'max_depth': 11, 'colsample_bytree': 0.978154983201477, 'subsample': 0.8509300073455216, 'learning_rate': 0.00749270358924227, 'gamma': 0.01579893821954854, 'contamination': 0.21360256958994964}. Best is trial 243 with value: 0.172.\n",
            "[I 2023-06-10 04:05:00,693] Trial 285 finished with value: 0.1723 and parameters: {'objective': 'reg:squarederror', 'n_estimators': 758, 'max_depth': 11, 'colsample_bytree': 0.9884407410077293, 'subsample': 0.8418721139610466, 'learning_rate': 0.00758788423779408, 'gamma': 0.016328476522586968, 'contamination': 0.22334869000993102}. Best is trial 243 with value: 0.172.\n",
            "[I 2023-06-10 04:05:13,946] Trial 286 finished with value: 0.1723 and parameters: {'objective': 'reg:squarederror', 'n_estimators': 760, 'max_depth': 11, 'colsample_bytree': 0.987000979351612, 'subsample': 0.8532450864905333, 'learning_rate': 0.007839373421910921, 'gamma': 0.015819947874239272, 'contamination': 0.21183919103871968}. Best is trial 243 with value: 0.172.\n",
            "[I 2023-06-10 04:05:26,333] Trial 287 finished with value: 0.1772 and parameters: {'objective': 'reg:squarederror', 'n_estimators': 790, 'max_depth': 11, 'colsample_bytree': 0.9698936904766124, 'subsample': 0.8419059521715029, 'learning_rate': 0.024920029365653552, 'gamma': 0.01626138634773279, 'contamination': 0.22433633583977874}. Best is trial 243 with value: 0.172.\n",
            "[I 2023-06-10 04:05:41,056] Trial 288 finished with value: 0.1761 and parameters: {'objective': 'reg:squarederror', 'n_estimators': 792, 'max_depth': 11, 'colsample_bytree': 0.9996097308874184, 'subsample': 0.8540833277068306, 'learning_rate': 0.00409004166008359, 'gamma': 0.01629163292497335, 'contamination': 0.21248555695055799}. Best is trial 243 with value: 0.172.\n",
            "[I 2023-06-10 04:05:54,394] Trial 289 finished with value: 0.172 and parameters: {'objective': 'reg:squarederror', 'n_estimators': 763, 'max_depth': 11, 'colsample_bytree': 0.9685448468777909, 'subsample': 0.8344267672844952, 'learning_rate': 0.007461081887095438, 'gamma': 0.015909660057630143, 'contamination': 0.21607106951362032}. Best is trial 243 with value: 0.172.\n",
            "[I 2023-06-10 04:06:06,089] Trial 290 finished with value: 0.1819 and parameters: {'objective': 'reg:squarederror', 'n_estimators': 758, 'max_depth': 11, 'colsample_bytree': 0.9672539188648681, 'subsample': 0.8365306217225732, 'learning_rate': 0.04256129803393717, 'gamma': 0.016331441934450172, 'contamination': 0.22217189148862368}. Best is trial 243 with value: 0.172.\n",
            "[I 2023-06-10 04:06:19,563] Trial 291 finished with value: 0.1723 and parameters: {'objective': 'reg:squarederror', 'n_estimators': 764, 'max_depth': 11, 'colsample_bytree': 0.978589585726921, 'subsample': 0.8453838336496196, 'learning_rate': 0.007378655918356762, 'gamma': 0.015863544189859344, 'contamination': 0.21449524949821547}. Best is trial 243 with value: 0.172.\n",
            "[I 2023-06-10 04:06:33,722] Trial 292 finished with value: 0.1744 and parameters: {'objective': 'reg:squarederror', 'n_estimators': 764, 'max_depth': 11, 'colsample_bytree': 0.971760070958484, 'subsample': 0.8570946943343283, 'learning_rate': 0.004687295194096803, 'gamma': 0.016316071141333165, 'contamination': 0.22468319956632307}. Best is trial 243 with value: 0.172.\n",
            "[I 2023-06-10 04:06:47,414] Trial 293 finished with value: 0.172 and parameters: {'objective': 'reg:squarederror', 'n_estimators': 784, 'max_depth': 11, 'colsample_bytree': 0.95637342273525, 'subsample': 0.8331628758771887, 'learning_rate': 0.007407211364131355, 'gamma': 0.009554568756439322, 'contamination': 0.2124071614262712}. Best is trial 243 with value: 0.172.\n",
            "[I 2023-06-10 04:07:01,289] Trial 294 finished with value: 0.1735 and parameters: {'objective': 'reg:squarederror', 'n_estimators': 761, 'max_depth': 11, 'colsample_bytree': 0.957592360499871, 'subsample': 0.8311889590803982, 'learning_rate': 0.005292155795252483, 'gamma': 0.010167634392426564, 'contamination': 0.2003384086565246}. Best is trial 243 with value: 0.172.\n",
            "[I 2023-06-10 04:07:15,051] Trial 295 finished with value: 0.172 and parameters: {'objective': 'reg:squarederror', 'n_estimators': 780, 'max_depth': 11, 'colsample_bytree': 0.9642329630603454, 'subsample': 0.8343451155700031, 'learning_rate': 0.007689883848139206, 'gamma': 0.016854576210025687, 'contamination': 0.21050142157763682}. Best is trial 243 with value: 0.172.\n",
            "[I 2023-06-10 04:07:28,989] Trial 296 finished with value: 0.1758 and parameters: {'objective': 'reg:squarederror', 'n_estimators': 746, 'max_depth': 11, 'colsample_bytree': 0.964758168744984, 'subsample': 0.8332676786332398, 'learning_rate': 0.004307234902395347, 'gamma': 0.008837707317286479, 'contamination': 0.20879659050741448}. Best is trial 243 with value: 0.172.\n",
            "[I 2023-06-10 04:07:40,906] Trial 297 finished with value: 0.1825 and parameters: {'objective': 'reg:squarederror', 'n_estimators': 768, 'max_depth': 11, 'colsample_bytree': 0.9595067531609908, 'subsample': 0.8378793197071697, 'learning_rate': 0.032499417748438036, 'gamma': 0.01702935448503703, 'contamination': 0.2210808831130275}. Best is trial 243 with value: 0.172.\n",
            "[I 2023-06-10 04:07:51,274] Trial 298 finished with value: 0.1729 and parameters: {'objective': 'reg:squarederror', 'n_estimators': 782, 'max_depth': 10, 'colsample_bytree': 0.9522776167213811, 'subsample': 0.84684441801111, 'learning_rate': 0.0067909077267225715, 'gamma': 0.01685949071113136, 'contamination': 0.19925028893585534}. Best is trial 243 with value: 0.172.\n",
            "[I 2023-06-10 04:08:05,923] Trial 299 finished with value: 0.1726 and parameters: {'objective': 'reg:squarederror', 'n_estimators': 816, 'max_depth': 11, 'colsample_bytree': 0.9908079749140105, 'subsample': 0.8230193966960229, 'learning_rate': 0.00605664193190417, 'gamma': 0.0053835774284455105, 'contamination': 0.20839128174370414}. Best is trial 243 with value: 0.172.\n",
            "[I 2023-06-10 04:08:17,320] Trial 300 finished with value: 0.1833 and parameters: {'objective': 'reg:squarederror', 'n_estimators': 749, 'max_depth': 11, 'colsample_bytree': 0.9662869747839936, 'subsample': 0.8695341841072345, 'learning_rate': 0.058563056753121456, 'gamma': 0.011864979767143903, 'contamination': 0.18729235992119003}. Best is trial 243 with value: 0.172.\n",
            "[I 2023-06-10 04:08:31,119] Trial 301 finished with value: 0.1723 and parameters: {'objective': 'reg:squarederror', 'n_estimators': 801, 'max_depth': 11, 'colsample_bytree': 0.9544077205235375, 'subsample': 0.8385202586882481, 'learning_rate': 0.00806853000943844, 'gamma': 0.009174233815129952, 'contamination': 0.225382830998196}. Best is trial 243 with value: 0.172.\n",
            "[I 2023-06-10 04:08:45,215] Trial 302 finished with value: 0.1841 and parameters: {'objective': 'reg:squarederror', 'n_estimators': 764, 'max_depth': 11, 'colsample_bytree': 0.9737010316146729, 'subsample': 0.8619059525655837, 'learning_rate': 0.003479748446669025, 'gamma': 0.017044159240016295, 'contamination': 0.19979836322950792}. Best is trial 243 with value: 0.172.\n",
            "[I 2023-06-10 04:08:58,542] Trial 303 finished with value: 0.1723 and parameters: {'objective': 'reg:squarederror', 'n_estimators': 781, 'max_depth': 11, 'colsample_bytree': 0.9674301725818295, 'subsample': 0.8450234739285295, 'learning_rate': 0.008510165092007202, 'gamma': 0.017033287468205864, 'contamination': 0.21632673439265238}. Best is trial 243 with value: 0.172.\n",
            "[I 2023-06-10 04:09:12,164] Trial 304 finished with value: 0.1732 and parameters: {'objective': 'reg:squarederror', 'n_estimators': 749, 'max_depth': 11, 'colsample_bytree': 0.9591046040759893, 'subsample': 0.8263291460315689, 'learning_rate': 0.005609060945753414, 'gamma': 0.012592655297629584, 'contamination': 0.2079363872571025}. Best is trial 243 with value: 0.172.\n",
            "[I 2023-06-10 04:09:25,641] Trial 305 finished with value: 0.1723 and parameters: {'objective': 'reg:squarederror', 'n_estimators': 801, 'max_depth': 11, 'colsample_bytree': 0.9467870455259593, 'subsample': 0.8584416133255808, 'learning_rate': 0.009266467548636512, 'gamma': 0.016344891704014677, 'contamination': 0.21826436827047835}. Best is trial 243 with value: 0.172.\n",
            "[I 2023-06-10 04:09:39,241] Trial 306 finished with value: 0.172 and parameters: {'objective': 'reg:squarederror', 'n_estimators': 771, 'max_depth': 11, 'colsample_bytree': 0.9730467612731727, 'subsample': 0.8688668850938965, 'learning_rate': 0.0076130405986747, 'gamma': 0.01650491217042023, 'contamination': 0.19751179859029383}. Best is trial 243 with value: 0.172.\n",
            "[I 2023-06-10 04:09:53,311] Trial 307 finished with value: 0.2114 and parameters: {'objective': 'reg:squarederror', 'n_estimators': 762, 'max_depth': 11, 'colsample_bytree': 0.9552241119713444, 'subsample': 0.8711925089508813, 'learning_rate': 0.002718734798247316, 'gamma': 0.013098261594380307, 'contamination': 0.19822802351991123}. Best is trial 243 with value: 0.172.\n",
            "[I 2023-06-10 04:10:07,132] Trial 308 finished with value: 0.1723 and parameters: {'objective': 'reg:squarederror', 'n_estimators': 771, 'max_depth': 11, 'colsample_bytree': 0.970665010819049, 'subsample': 0.8718461215975664, 'learning_rate': 0.006323847165293439, 'gamma': 0.013733102376285392, 'contamination': 0.18955505952022003}. Best is trial 243 with value: 0.172.\n",
            "[I 2023-06-10 04:10:18,697] Trial 309 finished with value: 0.1814 and parameters: {'objective': 'reg:squarederror', 'n_estimators': 749, 'max_depth': 11, 'colsample_bytree': 0.9611927508986309, 'subsample': 0.8363147183873807, 'learning_rate': 0.04447063764330028, 'gamma': 0.010413551371387282, 'contamination': 0.20217887745596494}. Best is trial 243 with value: 0.172.\n",
            "[I 2023-06-10 04:10:28,588] Trial 310 finished with value: 0.1723 and parameters: {'objective': 'reg:squarederror', 'n_estimators': 781, 'max_depth': 10, 'colsample_bytree': 0.9755731318877318, 'subsample': 0.845837725654326, 'learning_rate': 0.00949989006039485, 'gamma': 0.016537830561840067, 'contamination': 0.19317263704380758}. Best is trial 243 with value: 0.172.\n",
            "[I 2023-06-10 04:10:41,029] Trial 311 finished with value: 0.1806 and parameters: {'objective': 'reg:squarederror', 'n_estimators': 820, 'max_depth': 11, 'colsample_bytree': 0.9535763943686332, 'subsample': 0.861667905089743, 'learning_rate': 0.028790629006406998, 'gamma': 0.01687203218216566, 'contamination': 0.20937365390054946}. Best is trial 243 with value: 0.172.\n",
            "[I 2023-06-10 04:11:02,158] Trial 312 finished with value: 0.1723 and parameters: {'objective': 'reg:squarederror', 'n_estimators': 1228, 'max_depth': 11, 'colsample_bytree': 0.96599231296794, 'subsample': 0.8658484509984222, 'learning_rate': 0.004878575353205737, 'gamma': 0.01063748348028546, 'contamination': 0.2284754795978388}. Best is trial 243 with value: 0.172.\n",
            "[I 2023-06-10 04:11:14,178] Trial 313 finished with value: 0.1797 and parameters: {'objective': 'reg:squarederror', 'n_estimators': 799, 'max_depth': 11, 'colsample_bytree': 0.9698834949644181, 'subsample': 0.8725637253369217, 'learning_rate': 0.03978019158648831, 'gamma': 0.016523543958676737, 'contamination': 0.18314861274959995}. Best is trial 243 with value: 0.172.\n",
            "[I 2023-06-10 04:11:27,298] Trial 314 finished with value: 0.172 and parameters: {'objective': 'reg:squarederror', 'n_estimators': 766, 'max_depth': 11, 'colsample_bytree': 0.9460058459205365, 'subsample': 0.8276179991367545, 'learning_rate': 0.007071787529108668, 'gamma': 0.016981663605580247, 'contamination': 0.2018371416149641}. Best is trial 243 with value: 0.172.\n",
            "[I 2023-06-10 04:11:39,623] Trial 315 finished with value: 0.1723 and parameters: {'objective': 'reg:squarederror', 'n_estimators': 762, 'max_depth': 11, 'colsample_bytree': 0.9473330240427495, 'subsample': 0.8338320174415718, 'learning_rate': 0.009923696459815804, 'gamma': 0.017113092691559268, 'contamination': 0.1983230647437764}. Best is trial 243 with value: 0.172.\n",
            "[I 2023-06-10 04:11:50,924] Trial 316 finished with value: 0.1778 and parameters: {'objective': 'reg:squarederror', 'n_estimators': 743, 'max_depth': 11, 'colsample_bytree': 0.9459347801179664, 'subsample': 0.8268225456396477, 'learning_rate': 0.020834145949418348, 'gamma': 0.01688065122139582, 'contamination': 0.17291467910594294}. Best is trial 243 with value: 0.172.\n",
            "[I 2023-06-10 04:12:04,382] Trial 317 finished with value: 0.1726 and parameters: {'objective': 'reg:squarederror', 'n_estimators': 773, 'max_depth': 11, 'colsample_bytree': 0.9559981328346927, 'subsample': 0.8429335924858328, 'learning_rate': 0.006197233951006777, 'gamma': 0.0018141052232974117, 'contamination': 0.20479323905920255}. Best is trial 243 with value: 0.172.\n",
            "[I 2023-06-10 04:12:15,070] Trial 318 finished with value: 0.1792 and parameters: {'objective': 'reg:squarederror', 'n_estimators': 757, 'max_depth': 10, 'colsample_bytree': 0.9942457106169836, 'subsample': 0.8208172536289821, 'learning_rate': 0.003957728374627146, 'gamma': 0.012320043687738428, 'contamination': 0.20321657067619595}. Best is trial 243 with value: 0.172.\n",
            "[I 2023-06-10 04:12:26,272] Trial 319 finished with value: 0.1806 and parameters: {'objective': 'reg:squarederror', 'n_estimators': 745, 'max_depth': 11, 'colsample_bytree': 0.9464816953186431, 'subsample': 0.830282467596834, 'learning_rate': 0.03290542836388125, 'gamma': 0.015682437703661477, 'contamination': 0.18899960344266037}. Best is trial 243 with value: 0.172.\n",
            "[I 2023-06-10 04:12:39,862] Trial 320 finished with value: 0.2681 and parameters: {'objective': 'reg:squarederror', 'n_estimators': 767, 'max_depth': 11, 'colsample_bytree': 0.9587172133483907, 'subsample': 0.8599654042810984, 'learning_rate': 0.0021075902461149968, 'gamma': 0.009647796596179752, 'contamination': 0.1969921942534384}. Best is trial 243 with value: 0.172.\n",
            "[I 2023-06-10 04:12:52,104] Trial 321 finished with value: 0.1838 and parameters: {'objective': 'reg:squarederror', 'n_estimators': 799, 'max_depth': 11, 'colsample_bytree': 0.9834018530291045, 'subsample': 0.8466773416002323, 'learning_rate': 0.04964831231503798, 'gamma': 0.004055655128803506, 'contamination': 0.21912214331798333}. Best is trial 243 with value: 0.172.\n",
            "[I 2023-06-10 04:13:05,404] Trial 322 finished with value: 0.172 and parameters: {'objective': 'reg:squarederror', 'n_estimators': 782, 'max_depth': 11, 'colsample_bytree': 0.9759219708290576, 'subsample': 0.8731755206365893, 'learning_rate': 0.009924219784654593, 'gamma': 0.017291937743212193, 'contamination': 0.2073336923502482}. Best is trial 243 with value: 0.172.\n",
            "[I 2023-06-10 04:13:19,056] Trial 323 finished with value: 0.1723 and parameters: {'objective': 'reg:squarederror', 'n_estimators': 811, 'max_depth': 11, 'colsample_bytree': 0.9744191179927895, 'subsample': 0.876304268283103, 'learning_rate': 0.009626443684100318, 'gamma': 0.017524549986057954, 'contamination': 0.1915220951366859}. Best is trial 243 with value: 0.172.\n",
            "[I 2023-06-10 04:13:33,062] Trial 324 finished with value: 0.1723 and parameters: {'objective': 'reg:squarederror', 'n_estimators': 792, 'max_depth': 11, 'colsample_bytree': 0.986943033778567, 'subsample': 0.8666046554234094, 'learning_rate': 0.006797341156205243, 'gamma': 0.010892861661037284, 'contamination': 0.20540619009640762}. Best is trial 243 with value: 0.172.\n",
            "[I 2023-06-10 04:13:45,964] Trial 325 finished with value: 0.172 and parameters: {'objective': 'reg:squarederror', 'n_estimators': 760, 'max_depth': 11, 'colsample_bytree': 0.9938951383846323, 'subsample': 0.8741601619205353, 'learning_rate': 0.009840171506023964, 'gamma': 0.017295678778807964, 'contamination': 0.18267026838300973}. Best is trial 243 with value: 0.172.\n",
            "[I 2023-06-10 04:13:57,366] Trial 326 finished with value: 0.1836 and parameters: {'objective': 'reg:squarederror', 'n_estimators': 746, 'max_depth': 11, 'colsample_bytree': 0.9926450681055526, 'subsample': 0.8725455518302936, 'learning_rate': 0.05788175888513328, 'gamma': 0.017248311034258473, 'contamination': 0.17825305793457197}. Best is trial 243 with value: 0.172.\n",
            "[I 2023-06-10 04:14:09,230] Trial 327 finished with value: 0.1794 and parameters: {'objective': 'reg:squarederror', 'n_estimators': 758, 'max_depth': 11, 'colsample_bytree': 0.9935307936626967, 'subsample': 0.8752702927022443, 'learning_rate': 0.02389576590620838, 'gamma': 0.017466648692839766, 'contamination': 0.18939038895853125}. Best is trial 243 with value: 0.172.\n",
            "[I 2023-06-10 04:14:21,339] Trial 328 finished with value: 0.1778 and parameters: {'objective': 'reg:squarederror', 'n_estimators': 787, 'max_depth': 11, 'colsample_bytree': 0.9977794919241649, 'subsample': 0.8142729045648922, 'learning_rate': 0.025960967694751515, 'gamma': 0.017023109125267794, 'contamination': 0.09966693156659095}. Best is trial 243 with value: 0.172.\n",
            "[I 2023-06-10 04:14:37,253] Trial 329 finished with value: 0.1732 and parameters: {'objective': 'reg:squarederror', 'n_estimators': 973, 'max_depth': 11, 'colsample_bytree': 0.9803399391080393, 'subsample': 0.8633662262026979, 'learning_rate': 0.009970338745764024, 'gamma': 0.01710806567593614, 'contamination': 0.017837377745269722}. Best is trial 243 with value: 0.172.\n",
            "[I 2023-06-10 04:14:51,285] Trial 330 finished with value: 0.1732 and parameters: {'objective': 'reg:squarederror', 'n_estimators': 763, 'max_depth': 11, 'colsample_bytree': 0.9450332240981497, 'subsample': 0.8576799937959595, 'learning_rate': 0.0053928746369757774, 'gamma': 0.013438714666091197, 'contamination': 0.17910996372897767}. Best is trial 243 with value: 0.172.\n",
            "[I 2023-06-10 04:15:04,657] Trial 331 finished with value: 0.1732 and parameters: {'objective': 'reg:squarederror', 'n_estimators': 1078, 'max_depth': 10, 'colsample_bytree': 0.9516918336219216, 'subsample': 0.8115988503495325, 'learning_rate': 0.010019233261410233, 'gamma': 0.0075265839547185975, 'contamination': 0.22519578049295935}. Best is trial 243 with value: 0.172.\n",
            "[I 2023-06-10 04:15:17,658] Trial 332 finished with value: 0.1723 and parameters: {'objective': 'reg:squarederror', 'n_estimators': 741, 'max_depth': 11, 'colsample_bytree': 0.965072236844179, 'subsample': 0.8364300054512366, 'learning_rate': 0.007729689176520015, 'gamma': 0.016617498578698802, 'contamination': 0.19509951934671327}. Best is trial 243 with value: 0.172.\n",
            "[I 2023-06-10 04:15:31,246] Trial 333 finished with value: 0.4784 and parameters: {'objective': 'reg:squarederror', 'n_estimators': 772, 'max_depth': 11, 'colsample_bytree': 0.9863809952592181, 'subsample': 0.8758178794008342, 'learning_rate': 0.0012672646080991758, 'gamma': 0.014348476343422597, 'contamination': 0.15140755782842386}. Best is trial 243 with value: 0.172.\n",
            "[I 2023-06-10 04:15:44,525] Trial 334 finished with value: 0.1723 and parameters: {'objective': 'reg:squarederror', 'n_estimators': 802, 'max_depth': 11, 'colsample_bytree': 0.9775848604246461, 'subsample': 0.8658970343910108, 'learning_rate': 0.010250120382359777, 'gamma': 0.011404192127229047, 'contamination': 0.20959452186558913}. Best is trial 243 with value: 0.172.\n",
            "[I 2023-06-10 04:15:58,408] Trial 335 finished with value: 0.1726 and parameters: {'objective': 'reg:squarederror', 'n_estimators': 784, 'max_depth': 11, 'colsample_bytree': 0.9543069902084286, 'subsample': 0.858469295331446, 'learning_rate': 0.006770396238146559, 'gamma': 0.006585721586060458, 'contamination': 0.21855663931330116}. Best is trial 243 with value: 0.172.\n",
            "[I 2023-06-10 04:16:13,578] Trial 336 finished with value: 0.1746 and parameters: {'objective': 'reg:squarederror', 'n_estimators': 822, 'max_depth': 11, 'colsample_bytree': 0.9616873135139972, 'subsample': 0.8563587949907712, 'learning_rate': 0.0041984064046784175, 'gamma': 0.011515790235858303, 'contamination': 0.1864798441589221}. Best is trial 243 with value: 0.172.\n",
            "[I 2023-06-10 04:16:26,866] Trial 337 finished with value: 0.172 and parameters: {'objective': 'reg:squarederror', 'n_estimators': 751, 'max_depth': 11, 'colsample_bytree': 0.948104938354647, 'subsample': 0.8670334415661407, 'learning_rate': 0.007470462873552326, 'gamma': 0.008346638374659814, 'contamination': 0.19925718276453985}. Best is trial 243 with value: 0.172.\n",
            "[I 2023-06-10 04:16:40,428] Trial 338 finished with value: 0.1732 and parameters: {'objective': 'reg:squarederror', 'n_estimators': 738, 'max_depth': 11, 'colsample_bytree': 0.9451476508144383, 'subsample': 0.8688359823888661, 'learning_rate': 0.005332739556036883, 'gamma': 0.009361108064597801, 'contamination': 0.1971841178150717}. Best is trial 243 with value: 0.172.\n",
            "[I 2023-06-10 04:16:52,122] Trial 339 finished with value: 0.1849 and parameters: {'objective': 'reg:squarederror', 'n_estimators': 761, 'max_depth': 11, 'colsample_bytree': 0.9430715568345471, 'subsample': 0.8767088083384784, 'learning_rate': 0.06565352166712753, 'gamma': 0.010193709628446816, 'contamination': 0.16869332831048578}. Best is trial 243 with value: 0.172.\n",
            "[I 2023-06-10 04:17:03,801] Trial 340 finished with value: 0.1819 and parameters: {'objective': 'reg:squarederror', 'n_estimators': 751, 'max_depth': 11, 'colsample_bytree': 0.9508984030390891, 'subsample': 0.8309768626641674, 'learning_rate': 0.027779971088359445, 'gamma': 0.0176420794209905, 'contamination': 0.18406139520604428}. Best is trial 243 with value: 0.172.\n",
            "[I 2023-06-10 04:17:17,423] Trial 341 finished with value: 0.1962 and parameters: {'objective': 'reg:squarederror', 'n_estimators': 937, 'max_depth': 11, 'colsample_bytree': 0.7595362643223577, 'subsample': 0.8388284195372624, 'learning_rate': 0.09798566222013985, 'gamma': 0.008012882382532803, 'contamination': 0.23087393366652997}. Best is trial 243 with value: 0.172.\n",
            "[I 2023-06-10 04:17:31,174] Trial 342 finished with value: 0.172 and parameters: {'objective': 'reg:squarederror', 'n_estimators': 782, 'max_depth': 11, 'colsample_bytree': 0.9918875995833744, 'subsample': 0.8491976953705624, 'learning_rate': 0.007527291350300306, 'gamma': 0.017193561311378263, 'contamination': 0.20117116983128525}. Best is trial 243 with value: 0.172.\n",
            "[I 2023-06-10 04:17:43,457] Trial 343 finished with value: 0.1792 and parameters: {'objective': 'reg:squarederror', 'n_estimators': 792, 'max_depth': 11, 'colsample_bytree': 0.9889377648808434, 'subsample': 0.8786913841173151, 'learning_rate': 0.04689810709693889, 'gamma': 0.008379053775957686, 'contamination': 0.19604077692635247}. Best is trial 243 with value: 0.172.\n",
            "[I 2023-06-10 04:17:49,934] Trial 344 finished with value: 0.1849 and parameters: {'objective': 'reg:squarederror', 'n_estimators': 1033, 'max_depth': 7, 'colsample_bytree': 0.9760514598384935, 'subsample': 0.8469818795742907, 'learning_rate': 0.0029385185021084757, 'gamma': 0.010943806062157748, 'contamination': 0.21312762210013886}. Best is trial 243 with value: 0.172.\n",
            "[I 2023-06-10 04:18:03,441] Trial 345 finished with value: 0.1726 and parameters: {'objective': 'reg:squarederror', 'n_estimators': 807, 'max_depth': 11, 'colsample_bytree': 0.9979492267381246, 'subsample': 0.7880559558280028, 'learning_rate': 0.006968074882387808, 'gamma': 0.008837450830696376, 'contamination': 0.21953203853841857}. Best is trial 243 with value: 0.172.\n",
            "[I 2023-06-10 04:18:16,752] Trial 346 finished with value: 0.1723 and parameters: {'objective': 'reg:squarederror', 'n_estimators': 780, 'max_depth': 11, 'colsample_bytree': 0.9827366092296045, 'subsample': 0.8647184561171696, 'learning_rate': 0.007439714205748445, 'gamma': 0.008109404065750923, 'contamination': 0.19789234236304404}. Best is trial 243 with value: 0.172.\n",
            "[I 2023-06-10 04:18:30,532] Trial 347 finished with value: 0.1741 and parameters: {'objective': 'reg:squarederror', 'n_estimators': 751, 'max_depth': 11, 'colsample_bytree': 0.970693800562075, 'subsample': 0.8246669763477239, 'learning_rate': 0.004872206675553417, 'gamma': 0.017383975500312423, 'contamination': 0.2080299058028561}. Best is trial 243 with value: 0.172.\n",
            "[I 2023-06-10 04:18:39,422] Trial 348 finished with value: 0.1806 and parameters: {'objective': 'reg:squarederror', 'n_estimators': 739, 'max_depth': 10, 'colsample_bytree': 0.9916283243639809, 'subsample': 0.8489991207529608, 'learning_rate': 0.0385439054201887, 'gamma': 0.017024182960955016, 'contamination': 0.18625268231241995}. Best is trial 243 with value: 0.172.\n",
            "[I 2023-06-10 04:18:51,812] Trial 349 finished with value: 0.1726 and parameters: {'objective': 'reg:squarederror', 'n_estimators': 785, 'max_depth': 11, 'colsample_bytree': 0.9808133169513227, 'subsample': 0.8683819963601318, 'learning_rate': 0.012777503349323621, 'gamma': 0.008502018247577844, 'contamination': 0.1650033287051101}. Best is trial 243 with value: 0.172.\n",
            "[I 2023-06-10 04:19:03,974] Trial 350 finished with value: 0.1783 and parameters: {'objective': 'reg:squarederror', 'n_estimators': 801, 'max_depth': 11, 'colsample_bytree': 0.9556113224446874, 'subsample': 0.8399284054228645, 'learning_rate': 0.023278287759311334, 'gamma': 0.009986644351697641, 'contamination': 0.17783011499902587}. Best is trial 243 with value: 0.172.\n",
            "[I 2023-06-10 04:19:15,325] Trial 351 finished with value: 0.1814 and parameters: {'objective': 'reg:squarederror', 'n_estimators': 759, 'max_depth': 11, 'colsample_bytree': 0.901376401711867, 'subsample': 0.8795599493777928, 'learning_rate': 0.03159195046033855, 'gamma': 0.007639003921498074, 'contamination': 0.22460666491131098}. Best is trial 243 with value: 0.172.\n",
            "[I 2023-06-10 04:19:27,123] Trial 352 finished with value: 0.1849 and parameters: {'objective': 'reg:squarederror', 'n_estimators': 819, 'max_depth': 11, 'colsample_bytree': 0.7285785200018119, 'subsample': 0.8585209679986961, 'learning_rate': 0.05195384943502967, 'gamma': 0.017568464614590006, 'contamination': 0.2023205559806764}. Best is trial 243 with value: 0.172.\n",
            "[I 2023-06-10 04:19:40,036] Trial 353 finished with value: 0.1723 and parameters: {'objective': 'reg:squarederror', 'n_estimators': 773, 'max_depth': 11, 'colsample_bytree': 0.9987534101620067, 'subsample': 0.8327964069208637, 'learning_rate': 0.007994538690735055, 'gamma': 0.009455878429930018, 'contamination': 0.2132202952863122}. Best is trial 243 with value: 0.172.\n",
            "[I 2023-06-10 04:19:54,433] Trial 354 finished with value: 0.1726 and parameters: {'objective': 'reg:squarederror', 'n_estimators': 791, 'max_depth': 11, 'colsample_bytree': 0.9659153990956201, 'subsample': 0.8707655658987183, 'learning_rate': 0.005881344190854001, 'gamma': 0.015693312941550377, 'contamination': 0.19249201375168823}. Best is trial 243 with value: 0.172.\n",
            "[I 2023-06-10 04:20:06,962] Trial 355 finished with value: 0.1726 and parameters: {'objective': 'reg:squarederror', 'n_estimators': 755, 'max_depth': 11, 'colsample_bytree': 0.973985584490911, 'subsample': 0.8103745441333988, 'learning_rate': 0.010179658616967697, 'gamma': 0.01784728152537078, 'contamination': 0.2012113744105221}. Best is trial 243 with value: 0.172.\n",
            "[I 2023-06-10 04:20:18,393] Trial 356 finished with value: 0.1778 and parameters: {'objective': 'reg:squarederror', 'n_estimators': 735, 'max_depth': 11, 'colsample_bytree': 0.9440903196538919, 'subsample': 0.8528798076720439, 'learning_rate': 0.022958782012325547, 'gamma': 0.01610670663872045, 'contamination': 0.21944388002994084}. Best is trial 243 with value: 0.172.\n",
            "[I 2023-06-10 04:20:32,928] Trial 357 finished with value: 0.183 and parameters: {'objective': 'reg:squarederror', 'n_estimators': 778, 'max_depth': 11, 'colsample_bytree': 0.9871122802103591, 'subsample': 0.8402584083730553, 'learning_rate': 0.0034852486807188396, 'gamma': 0.006756129108657131, 'contamination': 0.21021123062425934}. Best is trial 243 with value: 0.172.\n",
            "[I 2023-06-10 04:20:45,302] Trial 358 finished with value: 0.1761 and parameters: {'objective': 'reg:squarederror', 'n_estimators': 766, 'max_depth': 11, 'colsample_bytree': 0.7894280021801169, 'subsample': 0.6377565010347036, 'learning_rate': 0.007666372132050843, 'gamma': 0.016957850985895164, 'contamination': 0.23000670923674688}. Best is trial 243 with value: 0.172.\n",
            "[I 2023-06-10 04:20:58,270] Trial 359 finished with value: 0.1723 and parameters: {'objective': 'reg:squarederror', 'n_estimators': 793, 'max_depth': 11, 'colsample_bytree': 0.959752033958741, 'subsample': 0.8644327413840586, 'learning_rate': 0.012839457165712127, 'gamma': 0.01643958649744159, 'contamination': 0.19076217721603092}. Best is trial 243 with value: 0.172.\n",
            "[I 2023-06-10 04:21:11,442] Trial 360 finished with value: 0.1764 and parameters: {'objective': 'reg:squarederror', 'n_estimators': 809, 'max_depth': 11, 'colsample_bytree': 0.6907176387125181, 'subsample': 0.8489312140815356, 'learning_rate': 0.010322812908028483, 'gamma': 0.009072539961716879, 'contamination': 0.2019679316720499}. Best is trial 243 with value: 0.172.\n",
            "[I 2023-06-10 04:21:21,661] Trial 361 finished with value: 0.1741 and parameters: {'objective': 'reg:squarederror', 'n_estimators': 750, 'max_depth': 10, 'colsample_bytree': 0.9509003117662428, 'subsample': 0.8241399164443254, 'learning_rate': 0.005615010553222695, 'gamma': 0.009603003535869651, 'contamination': 0.21199135305312894}. Best is trial 243 with value: 0.172.\n",
            "[I 2023-06-10 04:21:33,683] Trial 362 finished with value: 0.1758 and parameters: {'objective': 'reg:squarederror', 'n_estimators': 777, 'max_depth': 11, 'colsample_bytree': 0.9698037881984883, 'subsample': 0.8779660019541266, 'learning_rate': 0.018669819554956862, 'gamma': 0.017211879195766677, 'contamination': 0.21849727146608688}. Best is trial 243 with value: 0.172.\n",
            "[I 2023-06-10 04:21:46,624] Trial 363 finished with value: 0.1758 and parameters: {'objective': 'reg:squarederror', 'n_estimators': 762, 'max_depth': 11, 'colsample_bytree': 0.7413900654632981, 'subsample': 0.8566985832273514, 'learning_rate': 0.008514452007800339, 'gamma': 0.016922925482973826, 'contamination': 0.18205496314564415}. Best is trial 243 with value: 0.172.\n",
            "[I 2023-06-10 04:21:58,015] Trial 364 finished with value: 0.1786 and parameters: {'objective': 'reg:squarederror', 'n_estimators': 736, 'max_depth': 11, 'colsample_bytree': 0.9751281966270057, 'subsample': 0.8033667301245145, 'learning_rate': 0.02149225815315912, 'gamma': 0.012112695194868163, 'contamination': 0.19744497792378649}. Best is trial 243 with value: 0.172.\n",
            "[I 2023-06-10 04:22:10,796] Trial 365 finished with value: 0.1726 and parameters: {'objective': 'reg:squarederror', 'n_estimators': 797, 'max_depth': 11, 'colsample_bytree': 0.9627920278680764, 'subsample': 0.7467043947505304, 'learning_rate': 0.010487390247591964, 'gamma': 0.016028194474552913, 'contamination': 0.20762732050898774}. Best is trial 243 with value: 0.172.\n",
            "[I 2023-06-10 04:22:30,067] Trial 366 finished with value: 0.1726 and parameters: {'objective': 'reg:squarederror', 'n_estimators': 1167, 'max_depth': 11, 'colsample_bytree': 0.9440746747103881, 'subsample': 0.83208592845929, 'learning_rate': 0.006825774875107519, 'gamma': 0.01644290054156867, 'contamination': 0.2258597119048772}. Best is trial 243 with value: 0.172.\n",
            "[I 2023-06-10 04:22:43,999] Trial 367 finished with value: 0.5478 and parameters: {'objective': 'reg:squarederror', 'n_estimators': 823, 'max_depth': 11, 'colsample_bytree': 0.9901079028778944, 'subsample': 0.8716452550657512, 'learning_rate': 0.001048753971684321, 'gamma': 0.015597670380955999, 'contamination': 0.11833229521159355}. Best is trial 243 with value: 0.172.\n",
            "[I 2023-06-10 04:22:58,139] Trial 368 finished with value: 0.1786 and parameters: {'objective': 'reg:squarederror', 'n_estimators': 782, 'max_depth': 11, 'colsample_bytree': 0.9535507480860673, 'subsample': 0.8453992169645864, 'learning_rate': 0.0038151949080176485, 'gamma': 0.009648646192411809, 'contamination': 0.20422212795716072}. Best is trial 243 with value: 0.172.\n",
            "[I 2023-06-10 04:23:09,653] Trial 369 finished with value: 0.1797 and parameters: {'objective': 'reg:squarederror', 'n_estimators': 763, 'max_depth': 11, 'colsample_bytree': 0.9792568339843569, 'subsample': 0.86337730352936, 'learning_rate': 0.03413157224081828, 'gamma': 0.011670394124457958, 'contamination': 0.21631172254981967}. Best is trial 243 with value: 0.172.\n",
            "[I 2023-06-10 04:23:19,971] Trial 370 finished with value: 0.1822 and parameters: {'objective': 'reg:squarederror', 'n_estimators': 901, 'max_depth': 10, 'colsample_bytree': 0.7191205350596652, 'subsample': 0.8814013985316068, 'learning_rate': 0.02635286323730127, 'gamma': 0.010502968306673854, 'contamination': 0.06961859599776907}. Best is trial 243 with value: 0.172.\n",
            "[I 2023-06-10 04:23:39,064] Trial 371 finished with value: 0.1811 and parameters: {'objective': 'reg:squarederror', 'n_estimators': 1269, 'max_depth': 11, 'colsample_bytree': 0.9652991876684229, 'subsample': 0.8178916202192129, 'learning_rate': 0.028779644801764995, 'gamma': 0.011117499753689392, 'contamination': 0.19239315456324935}. Best is trial 243 with value: 0.172.\n",
            "[I 2023-06-10 04:23:50,689] Trial 372 finished with value: 0.178 and parameters: {'objective': 'reg:squarederror', 'n_estimators': 748, 'max_depth': 11, 'colsample_bytree': 0.9538350194913461, 'subsample': 0.8547216783098062, 'learning_rate': 0.03693633060948713, 'gamma': 0.00987043606792346, 'contamination': 0.23344399853810635}. Best is trial 243 with value: 0.172.\n",
            "[I 2023-06-10 04:24:03,390] Trial 373 finished with value: 0.1744 and parameters: {'objective': 'reg:squarederror', 'n_estimators': 778, 'max_depth': 11, 'colsample_bytree': 0.8874987214081067, 'subsample': 0.8408084538576076, 'learning_rate': 0.012978881589828174, 'gamma': 0.01733823124148318, 'contamination': 0.1750959192645021}. Best is trial 243 with value: 0.172.\n",
            "[I 2023-06-10 04:24:15,067] Trial 374 finished with value: 0.1847 and parameters: {'objective': 'reg:squarederror', 'n_estimators': 806, 'max_depth': 11, 'colsample_bytree': 0.6547861313433143, 'subsample': 0.8666658135903446, 'learning_rate': 0.034748627275423376, 'gamma': 0.01671980969727397, 'contamination': 0.21066896423752254}. Best is trial 243 with value: 0.172.\n",
            "[I 2023-06-10 04:24:26,718] Trial 375 finished with value: 0.1806 and parameters: {'objective': 'reg:squarederror', 'n_estimators': 766, 'max_depth': 11, 'colsample_bytree': 0.9416168394817559, 'subsample': 0.8516163640417395, 'learning_rate': 0.04007450306764672, 'gamma': 0.014165975478598537, 'contamination': 0.19839861471255493}. Best is trial 243 with value: 0.172.\n",
            "[I 2023-06-10 04:24:38,814] Trial 376 finished with value: 0.1792 and parameters: {'objective': 'reg:squarederror', 'n_estimators': 794, 'max_depth': 11, 'colsample_bytree': 0.982134225147784, 'subsample': 0.8285779551741921, 'learning_rate': 0.030049457985735564, 'gamma': 0.016233914927585084, 'contamination': 0.22110071860487593}. Best is trial 243 with value: 0.172.\n",
            "[I 2023-06-10 04:24:51,453] Trial 377 finished with value: 0.172 and parameters: {'objective': 'reg:squarederror', 'n_estimators': 731, 'max_depth': 11, 'colsample_bytree': 0.9702397894515218, 'subsample': 0.8614914198144557, 'learning_rate': 0.00855168877534346, 'gamma': 0.01775888752830147, 'contamination': 0.1853874837667977}. Best is trial 243 with value: 0.172.\n",
            "[I 2023-06-10 04:25:02,582] Trial 378 finished with value: 0.1819 and parameters: {'objective': 'reg:squarederror', 'n_estimators': 727, 'max_depth': 11, 'colsample_bytree': 0.9990678913955408, 'subsample': 0.8769961097749825, 'learning_rate': 0.041823383923221796, 'gamma': 0.01804716462503708, 'contamination': 0.1716856893686741}. Best is trial 243 with value: 0.172.\n",
            "[I 2023-06-10 04:25:15,562] Trial 379 finished with value: 0.172 and parameters: {'objective': 'reg:squarederror', 'n_estimators': 750, 'max_depth': 11, 'colsample_bytree': 0.9726893438562028, 'subsample': 0.8440609952697755, 'learning_rate': 0.007722237460383106, 'gamma': 0.017942903501562742, 'contamination': 0.18643354011907792}. Best is trial 243 with value: 0.172.\n",
            "[I 2023-06-10 04:25:38,485] Trial 380 finished with value: 0.1755 and parameters: {'objective': 'reg:squarederror', 'n_estimators': 1430, 'max_depth': 11, 'colsample_bytree': 0.7842095382733429, 'subsample': 0.8353135152060878, 'learning_rate': 0.005394096241455836, 'gamma': 0.017797239268583512, 'contamination': 0.18167565293267812}. Best is trial 243 with value: 0.172.\n",
            "[I 2023-06-10 04:25:49,581] Trial 381 finished with value: 0.1822 and parameters: {'objective': 'reg:squarederror', 'n_estimators': 734, 'max_depth': 11, 'colsample_bytree': 0.9724976638002836, 'subsample': 0.845522635492728, 'learning_rate': 0.04562007953816157, 'gamma': 0.01778300765263229, 'contamination': 0.1866060972191024}. Best is trial 243 with value: 0.172.\n",
            "[I 2023-06-10 04:26:02,300] Trial 382 finished with value: 0.172 and parameters: {'objective': 'reg:squarederror', 'n_estimators': 744, 'max_depth': 11, 'colsample_bytree': 0.9871460862159659, 'subsample': 0.8226019420150454, 'learning_rate': 0.007367720361374695, 'gamma': 0.008453919339901502, 'contamination': 0.16307950851156147}. Best is trial 243 with value: 0.172.\n",
            "[I 2023-06-10 04:26:15,979] Trial 383 finished with value: 0.1913 and parameters: {'objective': 'reg:squarederror', 'n_estimators': 732, 'max_depth': 11, 'colsample_bytree': 0.9867468963876511, 'subsample': 0.8197483056513676, 'learning_rate': 0.003309400390641229, 'gamma': 0.008547854448890961, 'contamination': 0.16310732182998616}. Best is trial 243 with value: 0.172.\n",
            "[I 2023-06-10 04:26:29,371] Trial 384 finished with value: 0.1726 and parameters: {'objective': 'reg:squarederror', 'n_estimators': 746, 'max_depth': 11, 'colsample_bytree': 0.97920132370294, 'subsample': 0.8259288591037892, 'learning_rate': 0.006493708298767883, 'gamma': 0.008261670244866433, 'contamination': 0.15577573185233545}. Best is trial 243 with value: 0.172.\n",
            "[I 2023-06-10 04:26:42,172] Trial 385 finished with value: 0.172 and parameters: {'objective': 'reg:squarederror', 'n_estimators': 726, 'max_depth': 11, 'colsample_bytree': 0.9936823262308381, 'subsample': 0.8343154833763082, 'learning_rate': 0.007447911818459221, 'gamma': 0.009247584359166833, 'contamination': 0.17348889524302633}. Best is trial 243 with value: 0.172.\n",
            "[I 2023-06-10 04:26:52,394] Trial 386 finished with value: 0.1775 and parameters: {'objective': 'reg:squarederror', 'n_estimators': 731, 'max_depth': 10, 'colsample_bytree': 0.9916823449766086, 'subsample': 0.8319654879077182, 'learning_rate': 0.004336245611149665, 'gamma': 0.018144252373890037, 'contamination': 0.179332619839622}. Best is trial 243 with value: 0.172.\n",
            "[I 2023-06-10 04:27:05,118] Trial 387 finished with value: 0.1766 and parameters: {'objective': 'reg:squarederror', 'n_estimators': 717, 'max_depth': 11, 'colsample_bytree': 0.7696640411220581, 'subsample': 0.8402375241074003, 'learning_rate': 0.00682880959626879, 'gamma': 0.00760315836675578, 'contamination': 0.1716327739416555}. Best is trial 243 with value: 0.172.\n",
            "[I 2023-06-10 04:27:16,074] Trial 388 finished with value: 0.18 and parameters: {'objective': 'reg:squarederror', 'n_estimators': 725, 'max_depth': 11, 'colsample_bytree': 0.9903734501681387, 'subsample': 0.8160182674342131, 'learning_rate': 0.04353158457660482, 'gamma': 0.009189868545169308, 'contamination': 0.1669191490374757}. Best is trial 243 with value: 0.172.\n",
            "[I 2023-06-10 04:27:26,995] Trial 389 finished with value: 0.1841 and parameters: {'objective': 'reg:squarederror', 'n_estimators': 747, 'max_depth': 11, 'colsample_bytree': 0.9988466097987423, 'subsample': 0.707825116109167, 'learning_rate': 0.03601320340411809, 'gamma': 0.008826658395801846, 'contamination': 0.16229941693670813}. Best is trial 243 with value: 0.172.\n",
            "[I 2023-06-10 04:27:39,611] Trial 390 finished with value: 0.1723 and parameters: {'objective': 'reg:squarederror', 'n_estimators': 742, 'max_depth': 11, 'colsample_bytree': 0.9727172466247749, 'subsample': 0.825933404577285, 'learning_rate': 0.0076313846702519466, 'gamma': 0.010141878817035675, 'contamination': 0.14708796058193627}. Best is trial 243 with value: 0.172.\n",
            "[I 2023-06-10 04:27:52,870] Trial 391 finished with value: 0.1738 and parameters: {'objective': 'reg:squarederror', 'n_estimators': 726, 'max_depth': 11, 'colsample_bytree': 0.9833282852268751, 'subsample': 0.8366463007482462, 'learning_rate': 0.005144678025072144, 'gamma': 0.017676752870851683, 'contamination': 0.17480132511991597}. Best is trial 243 with value: 0.172.\n",
            "[I 2023-06-10 04:28:06,727] Trial 392 finished with value: 0.2193 and parameters: {'objective': 'reg:squarederror', 'n_estimators': 751, 'max_depth': 11, 'colsample_bytree': 0.9872667950600864, 'subsample': 0.8023935554560025, 'learning_rate': 0.002638589335028727, 'gamma': 0.008100813647152347, 'contamination': 0.1866051684867408}. Best is trial 243 with value: 0.172.\n",
            "[I 2023-06-10 04:28:19,146] Trial 393 finished with value: 0.1723 and parameters: {'objective': 'reg:squarederror', 'n_estimators': 752, 'max_depth': 11, 'colsample_bytree': 0.977426440786159, 'subsample': 0.8453701649649178, 'learning_rate': 0.010950654087413143, 'gamma': 0.008777776637420723, 'contamination': 0.18204827464469886}. Best is trial 243 with value: 0.172.\n",
            "[I 2023-06-10 04:28:30,106] Trial 394 finished with value: 0.183 and parameters: {'objective': 'reg:squarederror', 'n_estimators': 736, 'max_depth': 11, 'colsample_bytree': 0.9677351074199871, 'subsample': 0.8338295945954717, 'learning_rate': 0.07504455692549007, 'gamma': 0.009036857598055672, 'contamination': 0.1743950000642418}. Best is trial 243 with value: 0.172.\n",
            "[I 2023-06-10 04:28:43,310] Trial 395 finished with value: 0.1723 and parameters: {'objective': 'reg:squarederror', 'n_estimators': 753, 'max_depth': 11, 'colsample_bytree': 0.976184355161536, 'subsample': 0.8266494734701736, 'learning_rate': 0.007815399734403702, 'gamma': 0.00859343366476048, 'contamination': 0.15631193267206384}. Best is trial 243 with value: 0.172.\n",
            "[I 2023-06-10 04:28:56,559] Trial 396 finished with value: 0.1732 and parameters: {'objective': 'reg:squarederror', 'n_estimators': 722, 'max_depth': 11, 'colsample_bytree': 0.9949314358574171, 'subsample': 0.8097172028157592, 'learning_rate': 0.005691590578667156, 'gamma': 0.008239324342784727, 'contamination': 0.19389829840007963}. Best is trial 243 with value: 0.172.\n",
            "[I 2023-06-10 04:29:05,624] Trial 397 finished with value: 0.1797 and parameters: {'objective': 'reg:squarederror', 'n_estimators': 760, 'max_depth': 10, 'colsample_bytree': 0.8948930095020655, 'subsample': 0.8477548393911806, 'learning_rate': 0.0250772314185196, 'gamma': 0.009468343643611134, 'contamination': 0.14283342565577015}. Best is trial 243 with value: 0.172.\n",
            "[I 2023-06-10 04:29:17,295] Trial 398 finished with value: 0.1822 and parameters: {'objective': 'reg:squarederror', 'n_estimators': 788, 'max_depth': 11, 'colsample_bytree': 0.9651829991564932, 'subsample': 0.8181500246331679, 'learning_rate': 0.05500850420325667, 'gamma': 0.00794719323824393, 'contamination': 0.18730247901288377}. Best is trial 243 with value: 0.172.\n",
            "[I 2023-06-10 04:29:29,578] Trial 399 finished with value: 0.1825 and parameters: {'objective': 'reg:squarederror', 'n_estimators': 829, 'max_depth': 11, 'colsample_bytree': 0.9888106085656317, 'subsample': 0.8379121544250224, 'learning_rate': 0.06848876457748591, 'gamma': 0.009135781444838743, 'contamination': 0.16759676010320523}. Best is trial 243 with value: 0.172.\n",
            "[I 2023-06-10 04:29:41,489] Trial 400 finished with value: 0.1723 and parameters: {'objective': 'reg:squarederror', 'n_estimators': 739, 'max_depth': 11, 'colsample_bytree': 0.9998020637903647, 'subsample': 0.8430033942591632, 'learning_rate': 0.011057947910199574, 'gamma': 0.0084619937494295, 'contamination': 0.16280466742396582}. Best is trial 243 with value: 0.172.\n",
            "[I 2023-06-10 04:29:54,259] Trial 401 finished with value: 0.172 and parameters: {'objective': 'reg:squarederror', 'n_estimators': 757, 'max_depth': 11, 'colsample_bytree': 0.9826627817403658, 'subsample': 0.7944989535635723, 'learning_rate': 0.008259755039117299, 'gamma': 0.01740914010079966, 'contamination': 0.1941692826193926}. Best is trial 243 with value: 0.172.\n",
            "[I 2023-06-10 04:30:06,679] Trial 402 finished with value: 0.1723 and parameters: {'objective': 'reg:squarederror', 'n_estimators': 719, 'max_depth': 11, 'colsample_bytree': 0.9847025512354375, 'subsample': 0.7975038123188238, 'learning_rate': 0.007581684656639722, 'gamma': 0.01741610557331256, 'contamination': 0.1775529776977381}. Best is trial 243 with value: 0.172.\n",
            "[I 2023-06-10 04:30:18,694] Trial 403 finished with value: 0.1814 and parameters: {'objective': 'reg:squarederror', 'n_estimators': 1008, 'max_depth': 10, 'colsample_bytree': 0.9787217343517468, 'subsample': 0.8076881026013637, 'learning_rate': 0.030772064593839243, 'gamma': 0.018383541689149734, 'contamination': 0.19630434555413107}. Best is trial 243 with value: 0.172.\n",
            "[I 2023-06-10 04:30:32,457] Trial 404 finished with value: 0.2274 and parameters: {'objective': 'reg:squarederror', 'n_estimators': 755, 'max_depth': 11, 'colsample_bytree': 0.9677110083451982, 'subsample': 0.7978266141267373, 'learning_rate': 0.0025194951124399992, 'gamma': 0.017975087913598926, 'contamination': 0.18806795343128238}. Best is trial 243 with value: 0.172.\n",
            "[I 2023-06-10 04:30:43,612] Trial 405 finished with value: 0.1814 and parameters: {'objective': 'reg:squarederror', 'n_estimators': 741, 'max_depth': 11, 'colsample_bytree': 0.9729015352804248, 'subsample': 0.8204982536231903, 'learning_rate': 0.05148869545666214, 'gamma': 0.017454010124850212, 'contamination': 0.19149161105507448}. Best is trial 243 with value: 0.172.\n",
            "[I 2023-06-10 04:30:55,109] Trial 406 finished with value: 0.1822 and parameters: {'objective': 'reg:squarederror', 'n_estimators': 761, 'max_depth': 11, 'colsample_bytree': 0.9830407723024575, 'subsample': 0.8505056823390262, 'learning_rate': 0.053436042346070724, 'gamma': 0.017280417711689682, 'contamination': 0.18482865561354272}. Best is trial 243 with value: 0.172.\n",
            "[I 2023-06-10 04:31:06,776] Trial 407 finished with value: 0.1868 and parameters: {'objective': 'reg:squarederror', 'n_estimators': 785, 'max_depth': 11, 'colsample_bytree': 0.9583573091674632, 'subsample': 0.7867316690927791, 'learning_rate': 0.04860405673650063, 'gamma': 0.009961148006178679, 'contamination': 0.19750887955764504}. Best is trial 243 with value: 0.172.\n",
            "[I 2023-06-10 04:31:18,357] Trial 408 finished with value: 0.1732 and parameters: {'objective': 'reg:squarederror', 'n_estimators': 732, 'max_depth': 11, 'colsample_bytree': 0.9707272833963999, 'subsample': 0.8334822221709668, 'learning_rate': 0.012553246829879431, 'gamma': 0.01350042736239613, 'contamination': 0.17135803576131317}. Best is trial 243 with value: 0.172.\n",
            "[I 2023-06-10 04:31:32,929] Trial 409 finished with value: 0.1732 and parameters: {'objective': 'reg:squarederror', 'n_estimators': 812, 'max_depth': 11, 'colsample_bytree': 0.9943264299309746, 'subsample': 0.7738884278799982, 'learning_rate': 0.004982890330728651, 'gamma': 0.015261091201926385, 'contamination': 0.17895506816478862}. Best is trial 243 with value: 0.172.\n",
            "[I 2023-06-10 04:31:46,256] Trial 410 finished with value: 0.1718 and parameters: {'objective': 'reg:squarederror', 'n_estimators': 758, 'max_depth': 11, 'colsample_bytree': 0.9609664397472213, 'subsample': 0.8533504015048231, 'learning_rate': 0.008281622333649642, 'gamma': 0.010677879030123294, 'contamination': 0.19421243844072444}. Best is trial 410 with value: 0.1718.\n",
            "[I 2023-06-10 04:31:57,113] Trial 411 finished with value: 0.18 and parameters: {'objective': 'reg:squarederror', 'n_estimators': 717, 'max_depth': 11, 'colsample_bytree': 0.9615894259842336, 'subsample': 0.8526411954706318, 'learning_rate': 0.047726611978070266, 'gamma': 0.014528045014095702, 'contamination': 0.1900085867706286}. Best is trial 410 with value: 0.1718.\n",
            "[I 2023-06-10 04:32:10,483] Trial 412 finished with value: 0.1723 and parameters: {'objective': 'reg:squarederror', 'n_estimators': 743, 'max_depth': 11, 'colsample_bytree': 0.9820649628293817, 'subsample': 0.8418442384031499, 'learning_rate': 0.006986343667522199, 'gamma': 0.011052156045580804, 'contamination': 0.19872372487544288}. Best is trial 410 with value: 0.1718.\n",
            "[I 2023-06-10 04:32:23,660] Trial 413 finished with value: 0.1723 and parameters: {'objective': 'reg:squarederror', 'n_estimators': 758, 'max_depth': 11, 'colsample_bytree': 0.9603767551494005, 'subsample': 0.8620961875844025, 'learning_rate': 0.008506867630791072, 'gamma': 0.01215374997325932, 'contamination': 0.1553532597260682}. Best is trial 410 with value: 0.1718.\n",
            "[I 2023-06-10 04:32:29,800] Trial 414 finished with value: 0.1783 and parameters: {'objective': 'reg:squarederror', 'n_estimators': 755, 'max_depth': 8, 'colsample_bytree': 0.9733704495384716, 'subsample': 0.8281388861224248, 'learning_rate': 0.004854404619316757, 'gamma': 0.014155641556310807, 'contamination': 0.1814930712532782}. Best is trial 410 with value: 0.1718.\n",
            "[I 2023-06-10 04:32:41,858] Trial 415 finished with value: 0.1769 and parameters: {'objective': 'reg:squarederror', 'n_estimators': 796, 'max_depth': 11, 'colsample_bytree': 0.9922436650475812, 'subsample': 0.8539309008449437, 'learning_rate': 0.032923105634094764, 'gamma': 0.010515623610529847, 'contamination': 0.19428918389932456}. Best is trial 410 with value: 0.1718.\n",
            "[I 2023-06-10 04:32:58,152] Trial 416 finished with value: 0.1838 and parameters: {'objective': 'reg:squarederror', 'n_estimators': 1109, 'max_depth': 11, 'colsample_bytree': 0.967940682836808, 'subsample': 0.8445843068526472, 'learning_rate': 0.06291379449648517, 'gamma': 0.011887240143780614, 'contamination': 0.19968508563675047}. Best is trial 410 with value: 0.1718.\n",
            "[I 2023-06-10 04:33:11,906] Trial 417 finished with value: 0.1761 and parameters: {'objective': 'reg:squarederror', 'n_estimators': 777, 'max_depth': 11, 'colsample_bytree': 0.7494184358478406, 'subsample': 0.8632746505737832, 'learning_rate': 0.006778657579895955, 'gamma': 0.0073321135892657225, 'contamination': 0.18806289775688376}. Best is trial 410 with value: 0.1718.\n",
            "[I 2023-06-10 04:33:24,511] Trial 418 finished with value: 0.1755 and parameters: {'objective': 'reg:squarederror', 'n_estimators': 733, 'max_depth': 11, 'colsample_bytree': 0.7991700507065765, 'subsample': 0.8146073044007016, 'learning_rate': 0.0087826333051157, 'gamma': 0.007861759318716934, 'contamination': 0.2007584654421287}. Best is trial 410 with value: 0.1718.\n",
            "[I 2023-06-10 04:33:35,783] Trial 419 finished with value: 0.1814 and parameters: {'objective': 'reg:squarederror', 'n_estimators': 770, 'max_depth': 11, 'colsample_bytree': 0.7779357548257186, 'subsample': 0.850871384377168, 'learning_rate': 0.042331044962940836, 'gamma': 0.014002312174638116, 'contamination': 0.1749509881645678}. Best is trial 410 with value: 0.1718.\n",
            "[I 2023-06-10 04:33:49,659] Trial 420 finished with value: 0.1873 and parameters: {'objective': 'reg:squarederror', 'n_estimators': 746, 'max_depth': 11, 'colsample_bytree': 0.9569086563846938, 'subsample': 0.8348335490854863, 'learning_rate': 0.0034060168923548562, 'gamma': 0.014954614442855549, 'contamination': 0.21870172040624908}. Best is trial 410 with value: 0.1718.\n",
            "[I 2023-06-10 04:34:02,800] Trial 421 finished with value: 0.1723 and parameters: {'objective': 'reg:squarederror', 'n_estimators': 785, 'max_depth': 11, 'colsample_bytree': 0.9783214440545104, 'subsample': 0.858822220446026, 'learning_rate': 0.010845305067237888, 'gamma': 0.008790893694853884, 'contamination': 0.3725283271098335}. Best is trial 410 with value: 0.1718.\n",
            "[I 2023-06-10 04:34:14,892] Trial 422 finished with value: 0.1738 and parameters: {'objective': 'reg:squarederror', 'n_estimators': 759, 'max_depth': 11, 'colsample_bytree': 0.9851001946886926, 'subsample': 0.8391907036103443, 'learning_rate': 0.017250208200135335, 'gamma': 0.00948387851336478, 'contamination': 0.1594895967624859}. Best is trial 410 with value: 0.1718.\n",
            "[I 2023-06-10 04:34:30,992] Trial 423 finished with value: 0.1797 and parameters: {'objective': 'reg:squarederror', 'n_estimators': 1335, 'max_depth': 10, 'colsample_bytree': 0.9658258084588689, 'subsample': 0.7937905967774891, 'learning_rate': 0.01932413667508013, 'gamma': 0.009653879261985574, 'contamination': 0.23187901116008458}. Best is trial 410 with value: 0.1718.\n",
            "[I 2023-06-10 04:34:43,525] Trial 424 finished with value: 0.1778 and parameters: {'objective': 'reg:squarederror', 'n_estimators': 800, 'max_depth': 11, 'colsample_bytree': 0.9753993479060022, 'subsample': 0.8232607379618485, 'learning_rate': 0.02171553163174916, 'gamma': 0.005388941806754606, 'contamination': 0.19082991094195872}. Best is trial 410 with value: 0.1718.\n",
            "[I 2023-06-10 04:34:55,348] Trial 425 finished with value: 0.1755 and parameters: {'objective': 'reg:squarederror', 'n_estimators': 730, 'max_depth': 11, 'colsample_bytree': 0.7595305880080503, 'subsample': 0.8653252177540509, 'learning_rate': 0.012877359589115726, 'gamma': 0.003520143433069666, 'contamination': 0.383608448545943}. Best is trial 410 with value: 0.1718.\n",
            "[I 2023-06-10 04:35:09,091] Trial 426 finished with value: 0.1726 and parameters: {'objective': 'reg:squarederror', 'n_estimators': 764, 'max_depth': 11, 'colsample_bytree': 0.9505054258395723, 'subsample': 0.8043211632564088, 'learning_rate': 0.006178185431163859, 'gamma': 0.007947236355554632, 'contamination': 0.1839196960937932}. Best is trial 410 with value: 0.1718.\n",
            "[I 2023-06-10 04:35:22,636] Trial 427 finished with value: 0.172 and parameters: {'objective': 'reg:squarederror', 'n_estimators': 783, 'max_depth': 11, 'colsample_bytree': 0.9893740955910283, 'subsample': 0.8517479315315104, 'learning_rate': 0.008195243303969833, 'gamma': 0.010300611483124942, 'contamination': 0.20274217985990722}. Best is trial 410 with value: 0.1718.\n",
            "[I 2023-06-10 04:35:33,846] Trial 428 finished with value: 0.1726 and parameters: {'objective': 'reg:squarederror', 'n_estimators': 714, 'max_depth': 11, 'colsample_bytree': 0.9581984288282062, 'subsample': 0.6000256353156933, 'learning_rate': 0.01058897458442054, 'gamma': 0.012533558940317775, 'contamination': 0.14452344921079113}. Best is trial 410 with value: 0.1718.\n",
            "[I 2023-06-10 04:35:48,076] Trial 429 finished with value: 0.4849 and parameters: {'objective': 'reg:squarederror', 'n_estimators': 809, 'max_depth': 11, 'colsample_bytree': 0.9690594085127802, 'subsample': 0.8420750616962726, 'learning_rate': 0.001194879446408499, 'gamma': 0.0070993208994170635, 'contamination': 0.2143419423098697}. Best is trial 410 with value: 0.1718.\n",
            "[I 2023-06-10 04:36:01,692] Trial 430 finished with value: 0.1752 and parameters: {'objective': 'reg:squarederror', 'n_estimators': 752, 'max_depth': 11, 'colsample_bytree': 0.98340623792608, 'subsample': 0.7722756502232041, 'learning_rate': 0.004462414912333041, 'gamma': 0.012675141521091303, 'contamination': 0.06380089210498932}. Best is trial 410 with value: 0.1718.\n",
            "[I 2023-06-10 04:36:14,677] Trial 431 finished with value: 0.1723 and parameters: {'objective': 'reg:squarederror', 'n_estimators': 741, 'max_depth': 11, 'colsample_bytree': 0.9497483342044528, 'subsample': 0.8810806360196956, 'learning_rate': 0.008400661399567494, 'gamma': 0.012755447984119412, 'contamination': 0.136079861666952}. Best is trial 410 with value: 0.1718.\n",
            "[I 2023-06-10 04:36:26,096] Trial 432 finished with value: 0.1836 and parameters: {'objective': 'reg:squarederror', 'n_estimators': 769, 'max_depth': 11, 'colsample_bytree': 0.7393179642699752, 'subsample': 0.8728350189811486, 'learning_rate': 0.039692853196851105, 'gamma': 0.008436117063928945, 'contamination': 0.2243422727383849}. Best is trial 410 with value: 0.1718.\n",
            "[I 2023-06-10 04:36:38,921] Trial 433 finished with value: 0.1729 and parameters: {'objective': 'reg:squarederror', 'n_estimators': 790, 'max_depth': 11, 'colsample_bytree': 0.9762051475718141, 'subsample': 0.8569476531477108, 'learning_rate': 0.013794012603232202, 'gamma': 0.01774083642406389, 'contamination': 0.20253658777651914}. Best is trial 410 with value: 0.1718.\n",
            "[I 2023-06-10 04:36:57,706] Trial 434 finished with value: 0.1729 and parameters: {'objective': 'reg:squarederror', 'n_estimators': 1186, 'max_depth': 11, 'colsample_bytree': 0.9624787317444081, 'subsample': 0.6870965101937099, 'learning_rate': 0.00637484276512391, 'gamma': 0.015593725779098747, 'contamination': 0.1956586121391822}. Best is trial 410 with value: 0.1718.\n",
            "[I 2023-06-10 04:37:14,843] Trial 435 finished with value: 0.1783 and parameters: {'objective': 'reg:squarederror', 'n_estimators': 1148, 'max_depth': 11, 'colsample_bytree': 0.6270398602964757, 'subsample': 0.8476117833808671, 'learning_rate': 0.009717116957442784, 'gamma': 0.01282081683302527, 'contamination': 0.21420976357595534}. Best is trial 410 with value: 0.1718.\n",
            "[I 2023-06-10 04:37:27,310] Trial 436 finished with value: 0.1729 and parameters: {'objective': 'reg:squarederror', 'n_estimators': 776, 'max_depth': 11, 'colsample_bytree': 0.992020925500415, 'subsample': 0.8306431923485409, 'learning_rate': 0.011969940367809852, 'gamma': 0.006829741413683531, 'contamination': 0.16843401461200083}. Best is trial 410 with value: 0.1718.\n",
            "[I 2023-06-10 04:37:38,830] Trial 437 finished with value: 0.1783 and parameters: {'objective': 'reg:squarederror', 'n_estimators': 748, 'max_depth': 11, 'colsample_bytree': 0.9557142234344459, 'subsample': 0.8664504686686336, 'learning_rate': 0.02957808281344354, 'gamma': 0.018147643249011195, 'contamination': 0.18077896862659432}. Best is trial 410 with value: 0.1718.\n",
            "[I 2023-06-10 04:37:52,389] Trial 438 finished with value: 0.1786 and parameters: {'objective': 'reg:squarederror', 'n_estimators': 725, 'max_depth': 11, 'colsample_bytree': 0.98135868010367, 'subsample': 0.8132107879212261, 'learning_rate': 0.004072530133675944, 'gamma': 0.011585030264207801, 'contamination': 0.20586610570245076}. Best is trial 410 with value: 0.1718.\n",
            "[I 2023-06-10 04:38:01,919] Trial 439 finished with value: 0.1766 and parameters: {'objective': 'reg:squarederror', 'n_estimators': 801, 'max_depth': 10, 'colsample_bytree': 0.999159380929127, 'subsample': 0.8366834689680984, 'learning_rate': 0.02730495589751368, 'gamma': 0.00899464661191874, 'contamination': 0.1937240128951534}. Best is trial 410 with value: 0.1718.\n",
            "[I 2023-06-10 04:38:15,209] Trial 440 finished with value: 0.1783 and parameters: {'objective': 'reg:squarederror', 'n_estimators': 761, 'max_depth': 11, 'colsample_bytree': 0.7096394609229854, 'subsample': 0.824877660415873, 'learning_rate': 0.006888253956545001, 'gamma': 0.001490638619492484, 'contamination': 0.22504226193273932}. Best is trial 410 with value: 0.1718.\n",
            "[I 2023-06-10 04:38:28,558] Trial 441 finished with value: 0.172 and parameters: {'objective': 'reg:squarederror', 'n_estimators': 780, 'max_depth': 11, 'colsample_bytree': 0.9708444100419777, 'subsample': 0.8581413589912581, 'learning_rate': 0.008757453929527871, 'gamma': 0.009221458659216586, 'contamination': 0.3993816751839401}. Best is trial 410 with value: 0.1718.\n",
            "[I 2023-06-10 04:38:41,005] Trial 442 finished with value: 0.1723 and parameters: {'objective': 'reg:squarederror', 'n_estimators': 744, 'max_depth': 11, 'colsample_bytree': 0.966121002340702, 'subsample': 0.8459521029624372, 'learning_rate': 0.010811795153088957, 'gamma': 0.006302259455550863, 'contamination': 0.21456192640125432}. Best is trial 410 with value: 0.1718.\n",
            "[I 2023-06-10 04:38:52,863] Trial 443 finished with value: 0.1903 and parameters: {'objective': 'reg:squarederror', 'n_estimators': 812, 'max_depth': 11, 'colsample_bytree': 0.7886171909852412, 'subsample': 0.8708227944626952, 'learning_rate': 0.0816906885726597, 'gamma': 0.013464501029477036, 'contamination': 0.18522534225799567}. Best is trial 410 with value: 0.1718.\n",
            "[I 2023-06-10 04:39:06,691] Trial 444 finished with value: 0.1732 and parameters: {'objective': 'reg:squarederror', 'n_estimators': 763, 'max_depth': 11, 'colsample_bytree': 0.9891336279938733, 'subsample': 0.7536731899120888, 'learning_rate': 0.005670667713061538, 'gamma': 0.011043329744576438, 'contamination': 0.17485261804102628}. Best is trial 410 with value: 0.1718.\n",
            "[I 2023-06-10 04:39:19,567] Trial 445 finished with value: 0.1778 and parameters: {'objective': 'reg:squarederror', 'n_estimators': 826, 'max_depth': 11, 'colsample_bytree': 0.9535967795643076, 'subsample': 0.8521843493610151, 'learning_rate': 0.022655574638226175, 'gamma': 0.009945736845557182, 'contamination': 0.1619916293734661}. Best is trial 410 with value: 0.1718.\n",
            "[I 2023-06-10 04:39:33,385] Trial 446 finished with value: 0.1723 and parameters: {'objective': 'reg:squarederror', 'n_estimators': 791, 'max_depth': 11, 'colsample_bytree': 0.9772063767268244, 'subsample': 0.8632215533284336, 'learning_rate': 0.007450565913056987, 'gamma': 0.012859094176640249, 'contamination': 0.20236252360107473}. Best is trial 410 with value: 0.1718.\n",
            "[I 2023-06-10 04:39:46,922] Trial 447 finished with value: 0.2216 and parameters: {'objective': 'reg:squarederror', 'n_estimators': 730, 'max_depth': 11, 'colsample_bytree': 0.9584814025195202, 'subsample': 0.8822991721680585, 'learning_rate': 0.0026795572523851067, 'gamma': 0.017221514320227282, 'contamination': 0.08108925935468976}. Best is trial 410 with value: 0.1718.\n",
            "[I 2023-06-10 04:39:57,913] Trial 448 finished with value: 0.1797 and parameters: {'objective': 'reg:squarederror', 'n_estimators': 713, 'max_depth': 11, 'colsample_bytree': 0.9835641760325364, 'subsample': 0.8306317015749685, 'learning_rate': 0.03317444030947402, 'gamma': 0.013032892665129163, 'contamination': 0.19444567681728525}. Best is trial 410 with value: 0.1718.\n",
            "[I 2023-06-10 04:40:09,502] Trial 449 finished with value: 0.183 and parameters: {'objective': 'reg:squarederror', 'n_estimators': 771, 'max_depth': 11, 'colsample_bytree': 0.971893309422953, 'subsample': 0.7919882136432477, 'learning_rate': 0.0416730460723618, 'gamma': 0.011365929836853169, 'contamination': 0.3889861990447948}. Best is trial 410 with value: 0.1718.\n",
            "[I 2023-06-10 04:40:21,411] Trial 450 finished with value: 0.1726 and parameters: {'objective': 'reg:squarederror', 'n_estimators': 747, 'max_depth': 11, 'colsample_bytree': 0.9469817315130542, 'subsample': 0.8402602905638642, 'learning_rate': 0.01289963361328063, 'gamma': 0.01591059428488426, 'contamination': 0.1516554060017133}. Best is trial 410 with value: 0.1718.\n",
            "[I 2023-06-10 04:40:34,799] Trial 451 finished with value: 0.1723 and parameters: {'objective': 'reg:squarederror', 'n_estimators': 794, 'max_depth': 11, 'colsample_bytree': 0.9998118445181245, 'subsample': 0.8170349530723143, 'learning_rate': 0.009346522895473155, 'gamma': 0.00771009667330755, 'contamination': 0.20938689916216982}. Best is trial 410 with value: 0.1718.\n",
            "[I 2023-06-10 04:40:44,138] Trial 452 finished with value: 0.1794 and parameters: {'objective': 'reg:squarederror', 'n_estimators': 776, 'max_depth': 10, 'colsample_bytree': 0.9653761973183668, 'subsample': 0.8039333668894211, 'learning_rate': 0.035052451919641264, 'gamma': 0.007334194370728891, 'contamination': 0.23462167071915338}. Best is trial 410 with value: 0.1718.\n",
            "[I 2023-06-10 04:40:56,155] Trial 453 finished with value: 0.1755 and parameters: {'objective': 'reg:squarederror', 'n_estimators': 756, 'max_depth': 11, 'colsample_bytree': 0.7981444960183803, 'subsample': 0.8475817941440696, 'learning_rate': 0.010866246213319466, 'gamma': 0.015223630187692903, 'contamination': 0.04544686893538041}. Best is trial 410 with value: 0.1718.\n",
            "[I 2023-06-10 04:41:07,270] Trial 454 finished with value: 0.1806 and parameters: {'objective': 'reg:squarederror', 'n_estimators': 736, 'max_depth': 11, 'colsample_bytree': 0.9922219974665246, 'subsample': 0.8572457210706811, 'learning_rate': 0.03832729665022261, 'gamma': 0.010589045694246305, 'contamination': 0.21657558028672272}. Best is trial 410 with value: 0.1718.\n",
            "[I 2023-06-10 04:41:20,774] Trial 455 finished with value: 0.1746 and parameters: {'objective': 'reg:squarederror', 'n_estimators': 766, 'max_depth': 11, 'colsample_bytree': 0.89399983723709, 'subsample': 0.8633489474662317, 'learning_rate': 0.00603995989184905, 'gamma': 0.017030536151237917, 'contamination': 0.1910356434458095}. Best is trial 410 with value: 0.1718.\n",
            "[I 2023-06-10 04:41:34,446] Trial 456 finished with value: 0.1738 and parameters: {'objective': 'reg:squarederror', 'n_estimators': 784, 'max_depth': 11, 'colsample_bytree': 0.8874341771481042, 'subsample': 0.8757296555420322, 'learning_rate': 0.007885552540367383, 'gamma': 0.01864143858839447, 'contamination': 0.2021146389554743}. Best is trial 410 with value: 0.1718.\n",
            "[I 2023-06-10 04:41:47,400] Trial 457 finished with value: 0.1738 and parameters: {'objective': 'reg:squarederror', 'n_estimators': 805, 'max_depth': 11, 'colsample_bytree': 0.9612595272675157, 'subsample': 0.8389176734744453, 'learning_rate': 0.01421007645050737, 'gamma': 0.014602574531238357, 'contamination': 0.22273286520603847}. Best is trial 410 with value: 0.1718.\n",
            "[I 2023-06-10 04:41:57,967] Trial 458 finished with value: 0.1775 and parameters: {'objective': 'reg:squarederror', 'n_estimators': 753, 'max_depth': 10, 'colsample_bytree': 0.976650559999224, 'subsample': 0.7771479641349123, 'learning_rate': 0.004216437693913428, 'gamma': 0.017615319198134454, 'contamination': 0.18318102608008824}. Best is trial 410 with value: 0.1718.\n",
            "[I 2023-06-10 04:42:11,297] Trial 459 finished with value: 0.1723 and parameters: {'objective': 'reg:squarederror', 'n_estimators': 781, 'max_depth': 11, 'colsample_bytree': 0.9863166498842311, 'subsample': 0.9322470522892108, 'learning_rate': 0.010160025788438724, 'gamma': 0.008284159204520847, 'contamination': 0.208142670278767}. Best is trial 410 with value: 0.1718.\n",
            "[I 2023-06-10 04:42:24,080] Trial 460 finished with value: 0.1723 and parameters: {'objective': 'reg:squarederror', 'n_estimators': 721, 'max_depth': 11, 'colsample_bytree': 0.9511978226045896, 'subsample': 0.8687412717636622, 'learning_rate': 0.008238352362310542, 'gamma': 0.01786423496887098, 'contamination': 0.33170525644247223}. Best is trial 410 with value: 0.1718.\n",
            "[I 2023-06-10 04:42:37,139] Trial 461 finished with value: 0.1755 and parameters: {'objective': 'reg:squarederror', 'n_estimators': 818, 'max_depth': 11, 'colsample_bytree': 0.9704476708173353, 'subsample': 0.8281587774122002, 'learning_rate': 0.016133721662136738, 'gamma': 0.015750224968625867, 'contamination': 0.17135541022252584}. Best is trial 410 with value: 0.1718.\n",
            "[I 2023-06-10 04:42:48,824] Trial 462 finished with value: 0.1811 and parameters: {'objective': 'reg:squarederror', 'n_estimators': 763, 'max_depth': 11, 'colsample_bytree': 0.980567142997789, 'subsample': 0.7965255472734009, 'learning_rate': 0.035718399856797714, 'gamma': 0.0171728264727171, 'contamination': 0.19714294689179135}. Best is trial 410 with value: 0.1718.\n",
            "[I 2023-06-10 04:43:02,175] Trial 463 finished with value: 0.1794 and parameters: {'objective': 'reg:squarederror', 'n_estimators': 739, 'max_depth': 11, 'colsample_bytree': 0.683826817338171, 'subsample': 0.8480170104580761, 'learning_rate': 0.005303930552315863, 'gamma': 0.0028480090624659875, 'contamination': 0.21278061222147013}. Best is trial 410 with value: 0.1718.\n",
            "[I 2023-06-10 04:43:14,963] Trial 464 finished with value: 0.1732 and parameters: {'objective': 'reg:squarederror', 'n_estimators': 796, 'max_depth': 11, 'colsample_bytree': 0.9606620702925772, 'subsample': 0.8199527498966925, 'learning_rate': 0.012316717089376056, 'gamma': 0.00862390824555134, 'contamination': 0.19108418977692077}. Best is trial 410 with value: 0.1718.\n",
            "[I 2023-06-10 04:43:28,196] Trial 465 finished with value: 0.5255 and parameters: {'objective': 'reg:squarederror', 'n_estimators': 769, 'max_depth': 11, 'colsample_bytree': 0.8806386500370692, 'subsample': 0.8539441436215813, 'learning_rate': 0.001159413974875928, 'gamma': 0.013782307265710806, 'contamination': 0.20325170214054053}. Best is trial 410 with value: 0.1718.\n",
            "[I 2023-06-10 04:43:48,665] Trial 466 finished with value: 0.1836 and parameters: {'objective': 'reg:squarederror', 'n_estimators': 1396, 'max_depth': 11, 'colsample_bytree': 0.949729744266891, 'subsample': 0.8355390817193443, 'learning_rate': 0.048271610578606225, 'gamma': 0.010719708311215749, 'contamination': 0.2272831304493684}. Best is trial 410 with value: 0.1718.\n",
            "[I 2023-06-10 04:43:59,228] Trial 467 finished with value: 0.1792 and parameters: {'objective': 'reg:squarederror', 'n_estimators': 705, 'max_depth': 11, 'colsample_bytree': 0.9915171426788064, 'subsample': 0.8447287682632978, 'learning_rate': 0.046755998201701725, 'gamma': 0.016116403071416527, 'contamination': 0.21906525278417407}. Best is trial 410 with value: 0.1718.\n",
            "[I 2023-06-10 04:44:04,286] Trial 468 finished with value: 0.1775 and parameters: {'objective': 'reg:squarederror', 'n_estimators': 753, 'max_depth': 7, 'colsample_bytree': 0.9723414487637723, 'subsample': 0.8811230971980798, 'learning_rate': 0.007263485021340029, 'gamma': 0.01841712985430556, 'contamination': 0.1781761757925858}. Best is trial 410 with value: 0.1718.\n",
            "[I 2023-06-10 04:44:17,287] Trial 469 finished with value: 0.1726 and parameters: {'objective': 'reg:squarederror', 'n_estimators': 787, 'max_depth': 11, 'colsample_bytree': 0.9648459215724374, 'subsample': 0.8090452456726442, 'learning_rate': 0.009975844979124746, 'gamma': 0.013377836524645215, 'contamination': 0.017229678116915337}. Best is trial 410 with value: 0.1718.\n",
            "[I 2023-06-10 04:44:30,829] Trial 470 finished with value: 0.1916 and parameters: {'objective': 'reg:squarederror', 'n_estimators': 738, 'max_depth': 11, 'colsample_bytree': 0.9831792823657881, 'subsample': 0.785592595863483, 'learning_rate': 0.0032804246114236605, 'gamma': 0.006072807159294678, 'contamination': 0.16480329941106772}. Best is trial 410 with value: 0.1718.\n",
            "[I 2023-06-10 04:44:44,524] Trial 471 finished with value: 0.1764 and parameters: {'objective': 'reg:squarederror', 'n_estimators': 772, 'max_depth': 11, 'colsample_bytree': 0.7457644844423809, 'subsample': 0.8591721066934972, 'learning_rate': 0.006071339375607516, 'gamma': 0.005143201559462144, 'contamination': 0.3680464293092693}. Best is trial 410 with value: 0.1718.\n",
            "[I 2023-06-10 04:44:56,992] Trial 472 finished with value: 0.1849 and parameters: {'objective': 'reg:squarederror', 'n_estimators': 807, 'max_depth': 11, 'colsample_bytree': 0.9449850309747453, 'subsample': 0.8693954910866183, 'learning_rate': 0.05532936397946648, 'gamma': 0.004113381775961506, 'contamination': 0.2096720021196843}. Best is trial 410 with value: 0.1718.\n",
            "[I 2023-06-10 04:45:09,334] Trial 473 finished with value: 0.1797 and parameters: {'objective': 'reg:squarederror', 'n_estimators': 833, 'max_depth': 11, 'colsample_bytree': 0.7725027111461569, 'subsample': 0.734382938885701, 'learning_rate': 0.01933830051198331, 'gamma': 0.007176339302047941, 'contamination': 0.19888160143490802}. Best is trial 410 with value: 0.1718.\n",
            "[I 2023-06-10 04:45:20,349] Trial 474 finished with value: 0.1836 and parameters: {'objective': 'reg:squarederror', 'n_estimators': 727, 'max_depth': 11, 'colsample_bytree': 0.9028293767618175, 'subsample': 0.9285145266915619, 'learning_rate': 0.049578569904140765, 'gamma': 0.009358843346460866, 'contamination': 0.18768098467041539}. Best is trial 410 with value: 0.1718.\n",
            "[I 2023-06-10 04:45:32,396] Trial 475 finished with value: 0.1755 and parameters: {'objective': 'reg:squarederror', 'n_estimators': 756, 'max_depth': 11, 'colsample_bytree': 0.7340394022721057, 'subsample': 0.6707634762182683, 'learning_rate': 0.008715952430552391, 'gamma': 0.017481772602766597, 'contamination': 0.347130870069262}. Best is trial 410 with value: 0.1718.\n",
            "[I 2023-06-10 04:45:44,194] Trial 476 finished with value: 0.1817 and parameters: {'objective': 'reg:squarederror', 'n_estimators': 782, 'max_depth': 11, 'colsample_bytree': 0.9564935893875509, 'subsample': 0.8537870418080937, 'learning_rate': 0.046081817975514104, 'gamma': 0.014315305626114048, 'contamination': 0.2049557628406803}. Best is trial 410 with value: 0.1718.\n",
            "[I 2023-06-10 04:45:54,120] Trial 477 finished with value: 0.1738 and parameters: {'objective': 'reg:squarederror', 'n_estimators': 797, 'max_depth': 10, 'colsample_bytree': 0.9061697357198412, 'subsample': 0.8331503392067253, 'learning_rate': 0.011811267294591043, 'gamma': 0.009831402533045631, 'contamination': 0.21898676626310584}. Best is trial 410 with value: 0.1718.\n",
            "[I 2023-06-10 04:46:07,788] Trial 478 finished with value: 0.1732 and parameters: {'objective': 'reg:squarederror', 'n_estimators': 767, 'max_depth': 11, 'colsample_bytree': 0.9760038707838132, 'subsample': 0.8422643577101786, 'learning_rate': 0.00506208468847885, 'gamma': 0.016911376192463447, 'contamination': 0.12190943114128464}. Best is trial 410 with value: 0.1718.\n",
            "[I 2023-06-10 04:46:18,834] Trial 479 finished with value: 0.1783 and parameters: {'objective': 'reg:squarederror', 'n_estimators': 743, 'max_depth': 11, 'colsample_bytree': 0.7779329018024581, 'subsample': 0.8238880572075234, 'learning_rate': 0.02469686293989127, 'gamma': 0.016312495450517477, 'contamination': 0.2939121560773749}. Best is trial 410 with value: 0.1718.\n",
            "[I 2023-06-10 04:46:30,666] Trial 480 finished with value: 0.1797 and parameters: {'objective': 'reg:squarederror', 'n_estimators': 778, 'max_depth': 11, 'colsample_bytree': 0.9910272655797521, 'subsample': 0.8628240248858506, 'learning_rate': 0.027446274793536524, 'gamma': 0.015456229881052764, 'contamination': 0.193062798941631}. Best is trial 410 with value: 0.1718.\n",
            "[I 2023-06-10 04:46:48,531] Trial 481 finished with value: 0.1797 and parameters: {'objective': 'reg:squarederror', 'n_estimators': 1229, 'max_depth': 11, 'colsample_bytree': 0.6642365656754482, 'subsample': 0.7780938326311073, 'learning_rate': 0.014432409458904682, 'gamma': 0.014991743829902824, 'contamination': 0.229672871916961}. Best is trial 410 with value: 0.1718.\n",
            "[I 2023-06-10 04:47:01,643] Trial 482 finished with value: 0.1723 and parameters: {'objective': 'reg:squarederror', 'n_estimators': 755, 'max_depth': 11, 'colsample_bytree': 0.9674239855278521, 'subsample': 0.8765939808699845, 'learning_rate': 0.008519261287841036, 'gamma': 0.012133973165405256, 'contamination': 0.3567798260331615}. Best is trial 410 with value: 0.1718.\n",
            "[I 2023-06-10 04:47:13,683] Trial 483 finished with value: 0.1758 and parameters: {'objective': 'reg:squarederror', 'n_estimators': 723, 'max_depth': 11, 'colsample_bytree': 0.7556834462832297, 'subsample': 0.8518481188966337, 'learning_rate': 0.010274391368390744, 'gamma': 0.017975718234363086, 'contamination': 0.15764771191768767}. Best is trial 410 with value: 0.1718.\n",
            "[I 2023-06-10 04:47:26,302] Trial 484 finished with value: 0.1744 and parameters: {'objective': 'reg:squarederror', 'n_estimators': 790, 'max_depth': 11, 'colsample_bytree': 0.9817042924452368, 'subsample': 0.871026238046149, 'learning_rate': 0.01733968061900965, 'gamma': 0.01711108814608003, 'contamination': 0.1387019503473545}. Best is trial 410 with value: 0.1718.\n",
            "[I 2023-06-10 04:47:39,937] Trial 485 finished with value: 0.1726 and parameters: {'objective': 'reg:squarederror', 'n_estimators': 763, 'max_depth': 11, 'colsample_bytree': 0.9565344693737242, 'subsample': 0.8370028461938858, 'learning_rate': 0.0066439941166890355, 'gamma': 0.010253545570578157, 'contamination': 0.21105228680247945}. Best is trial 410 with value: 0.1718.\n",
            "[I 2023-06-10 04:47:54,964] Trial 486 finished with value: 0.1889 and parameters: {'objective': 'reg:squarederror', 'n_estimators': 813, 'max_depth': 11, 'colsample_bytree': 0.9421405609137884, 'subsample': 0.8470025439531952, 'learning_rate': 0.003063207347037829, 'gamma': 0.01597031369238881, 'contamination': 0.18310017501856607}. Best is trial 410 with value: 0.1718.\n",
            "[I 2023-06-10 04:48:07,020] Trial 487 finished with value: 0.1729 and parameters: {'objective': 'reg:squarederror', 'n_estimators': 745, 'max_depth': 11, 'colsample_bytree': 0.9665219321201323, 'subsample': 0.7606814228787859, 'learning_rate': 0.011893753354732708, 'gamma': 0.009055796050856754, 'contamination': 0.10326051427672696}. Best is trial 410 with value: 0.1718.\n",
            "[I 2023-06-10 04:48:16,868] Trial 488 finished with value: 0.1729 and parameters: {'objective': 'reg:squarederror', 'n_estimators': 777, 'max_depth': 10, 'colsample_bytree': 0.9729415106736833, 'subsample': 0.7170180694567367, 'learning_rate': 0.007793764482095241, 'gamma': 0.011881234501419178, 'contamination': 0.19896790401014755}. Best is trial 410 with value: 0.1718.\n",
            "[I 2023-06-10 04:48:28,095] Trial 489 finished with value: 0.191 and parameters: {'objective': 'reg:squarederror', 'n_estimators': 799, 'max_depth': 11, 'colsample_bytree': 0.7174014221348001, 'subsample': 0.8832629259420643, 'learning_rate': 0.05092338222660372, 'gamma': 0.017550101468198305, 'contamination': 0.3782055314223216}. Best is trial 410 with value: 0.1718.\n",
            "[I 2023-06-10 04:48:40,220] Trial 490 finished with value: 0.1723 and parameters: {'objective': 'reg:squarederror', 'n_estimators': 736, 'max_depth': 11, 'colsample_bytree': 0.9850682758111454, 'subsample': 0.8601261970909755, 'learning_rate': 0.010057904344319524, 'gamma': 0.016432156791403342, 'contamination': 0.17578163210534203}. Best is trial 410 with value: 0.1718.\n",
            "[I 2023-06-10 04:48:50,776] Trial 491 finished with value: 0.1828 and parameters: {'objective': 'reg:squarederror', 'n_estimators': 710, 'max_depth': 11, 'colsample_bytree': 0.9964819140150123, 'subsample': 0.830085152522888, 'learning_rate': 0.06835515868717286, 'gamma': 0.012492533683064182, 'contamination': 0.20549735929791668}. Best is trial 410 with value: 0.1718.\n",
            "[I 2023-06-10 04:49:02,065] Trial 492 finished with value: 0.1852 and parameters: {'objective': 'reg:squarederror', 'n_estimators': 769, 'max_depth': 11, 'colsample_bytree': 0.9541787047799193, 'subsample': 0.8089191649028518, 'learning_rate': 0.08555762941079237, 'gamma': 0.008766954975277061, 'contamination': 0.2150122230267199}. Best is trial 410 with value: 0.1718.\n",
            "[I 2023-06-10 04:49:13,129] Trial 493 finished with value: 0.18 and parameters: {'objective': 'reg:squarederror', 'n_estimators': 754, 'max_depth': 11, 'colsample_bytree': 0.8158619518708822, 'subsample': 0.865317292231949, 'learning_rate': 0.029910945246445213, 'gamma': 0.013226276740905867, 'contamination': 0.18763587366744666}. Best is trial 410 with value: 0.1718.\n",
            "[I 2023-06-10 04:49:27,243] Trial 494 finished with value: 0.1741 and parameters: {'objective': 'reg:squarederror', 'n_estimators': 785, 'max_depth': 11, 'colsample_bytree': 0.977138668716772, 'subsample': 0.8416593032483198, 'learning_rate': 0.0046514630470178365, 'gamma': 0.016874891909783692, 'contamination': 0.19516930455435796}. Best is trial 410 with value: 0.1718.\n",
            "[I 2023-06-10 04:49:40,624] Trial 495 finished with value: 0.1726 and parameters: {'objective': 'reg:squarederror', 'n_estimators': 759, 'max_depth': 11, 'colsample_bytree': 0.961983811110776, 'subsample': 0.8205547396546055, 'learning_rate': 0.006777558366103746, 'gamma': 0.007829593902362727, 'contamination': 0.22224716689974947}. Best is trial 410 with value: 0.1718.\n",
            "[I 2023-06-10 04:49:52,613] Trial 496 finished with value: 0.1841 and parameters: {'objective': 'reg:squarederror', 'n_estimators': 821, 'max_depth': 11, 'colsample_bytree': 0.7597274606426364, 'subsample': 0.7903641469573269, 'learning_rate': 0.03766340802148885, 'gamma': 0.015600072766061807, 'contamination': 0.16784724574211876}. Best is trial 410 with value: 0.1718.\n",
            "[I 2023-06-10 04:50:04,396] Trial 497 finished with value: 0.1729 and parameters: {'objective': 'reg:squarederror', 'n_estimators': 735, 'max_depth': 11, 'colsample_bytree': 0.9914386868491357, 'subsample': 0.8546086207101149, 'learning_rate': 0.013633286422927254, 'gamma': 0.01826339382323026, 'contamination': 0.23572035133076064}. Best is trial 410 with value: 0.1718.\n",
            "[I 2023-06-10 04:50:16,367] Trial 498 finished with value: 0.1817 and parameters: {'objective': 'reg:squarederror', 'n_estimators': 795, 'max_depth': 11, 'colsample_bytree': 0.9715734001229801, 'subsample': 0.8483693354174325, 'learning_rate': 0.05617827737255048, 'gamma': 0.01730300748466357, 'contamination': 0.20243074370065134}. Best is trial 410 with value: 0.1718.\n",
            "[I 2023-06-10 04:50:27,363] Trial 499 finished with value: 0.1897 and parameters: {'objective': 'reg:squarederror', 'n_estimators': 775, 'max_depth': 11, 'colsample_bytree': 0.6931092912876422, 'subsample': 0.872308685479699, 'learning_rate': 0.059594450282840015, 'gamma': 0.014608127227963655, 'contamination': 0.20763737943268668}. Best is trial 410 with value: 0.1718.\n"
          ]
        }
      ]
    },
    {
      "cell_type": "code",
      "source": [
        "large_best_params"
      ],
      "metadata": {
        "colab": {
          "base_uri": "https://localhost:8080/"
        },
        "id": "yVXwTydMBDPC",
        "outputId": "0871f10d-04dd-4a41-804d-f229d58656da"
      },
      "execution_count": 33,
      "outputs": [
        {
          "output_type": "execute_result",
          "data": {
            "text/plain": [
              "{'objective': 'reg:squarederror',\n",
              " 'n_estimators': 758,\n",
              " 'max_depth': 11,\n",
              " 'colsample_bytree': 0.9609664397472213,\n",
              " 'subsample': 0.8533504015048231,\n",
              " 'learning_rate': 0.008281622333649642,\n",
              " 'gamma': 0.010677879030123294,\n",
              " 'contamination': 0.19421243844072444}"
            ]
          },
          "metadata": {},
          "execution_count": 33
        }
      ]
    },
    {
      "cell_type": "code",
      "source": [
        "optimal_large_model_cache = model(\n",
        "    features=[\n",
        "      'trip_duration', 'distance_traveled', 'num_of_passengers', \n",
        "      'tip', 'miscellaneous_fees', 'surge_applied', \n",
        "      'is_miscellaneous_fees_negative', 'is_miscellaneous_fees_0', \n",
        "      'is_tip_0', 'is_trip_duration_0'\n",
        "    ],\n",
        "    datasets = [X_train, X_val, y_train, y_val],\n",
        "    od_params = {'contamination': large_best_params['contamination']},\n",
        "    xgb_params = {\n",
        "      'random_state':42, \n",
        "      'n_estimators': large_best_params['n_estimators'], \n",
        "      'max_depth': large_best_params['max_depth'], \n",
        "      'colsample_bytree': large_best_params['colsample_bytree'], \n",
        "      'subsample': large_best_params['subsample'], \n",
        "      'learning_rate': large_best_params['learning_rate'],\n",
        "      'gamma': large_best_params['gamma'],\n",
        "      'tree_method': 'gpu_hist'\n",
        "    }\n",
        "  )"
      ],
      "metadata": {
        "id": "FVxHnPLtCnGo"
      },
      "execution_count": 34,
      "outputs": []
    },
    {
      "cell_type": "code",
      "source": [
        "optimal_large_model_cache['train_metrics'], optimal_large_model_cache['val_metrics']"
      ],
      "metadata": {
        "colab": {
          "base_uri": "https://localhost:8080/"
        },
        "id": "Iq5BQ8XZI7uF",
        "outputId": "bf7ba693-d1ab-4bb5-c667-44788ac63d73"
      },
      "execution_count": 35,
      "outputs": [
        {
          "output_type": "execute_result",
          "data": {
            "text/plain": [
              "({'mae': 4.617, 'rmse': 26.1015, 'rmsle': 0.1342},\n",
              " {'mae': 6.2636, 'rmse': 38.6493, 'rmsle': 0.1718})"
            ]
          },
          "metadata": {},
          "execution_count": 35
        }
      ]
    },
    {
      "cell_type": "code",
      "source": [
        "large_features = [\n",
        "  'trip_duration', 'distance_traveled', 'num_of_passengers', \n",
        "  'tip', 'miscellaneous_fees', 'surge_applied', \n",
        "  'is_miscellaneous_fees_negative', 'is_miscellaneous_fees_0', \n",
        "  'is_tip_0', 'is_trip_duration_0'\n",
        "]\n",
        "X_test_submission = X_test.copy()\n",
        "X_test_submission['od_proba'] = optimal_large_model_cache['od'].predict_proba(X_test[large_features])[:, 1]\n",
        "create_submission(\n",
        "  model=optimal_large_model_cache['xgb'], \n",
        "  X=X_test_submission, features=large_features+['od_proba'], \n",
        "  submission_name = 'OPT_LARGE_MODEL_PASS_2.csv'\n",
        ")"
      ],
      "metadata": {
        "colab": {
          "base_uri": "https://localhost:8080/"
        },
        "id": "ZLL8PjlBI1L-",
        "outputId": "066cfb0f-fb92-467b-ce1c-889600f34d87"
      },
      "execution_count": 36,
      "outputs": [
        {
          "output_type": "stream",
          "name": "stdout",
          "text": [
            "   total_fare\n",
            "0  111.418518\n",
            "1   60.939213\n",
            "2  118.928406\n",
            "3   89.259521\n",
            "4  108.651665\n"
          ]
        }
      ]
    },
    {
      "cell_type": "code",
      "source": [
        "with open('large_model_cache_2.pickle', 'wb') as handle:\n",
        "  pickle.dump(optimal_large_model_cache, handle, protocol=pickle.HIGHEST_PROTOCOL)\n",
        "\n",
        "with open('large_model_cache_2.pickle', 'rb') as handle:\n",
        "  loaded = pickle.load(handle)"
      ],
      "metadata": {
        "id": "6mVPdz-eKPIc"
      },
      "execution_count": 37,
      "outputs": []
    },
    {
      "cell_type": "code",
      "source": [
        "optimal_large_model_cache"
      ],
      "metadata": {
        "colab": {
          "base_uri": "https://localhost:8080/"
        },
        "id": "uCZmt9CQKbuD",
        "outputId": "70c6bd5a-320c-40f0-bc1c-2cac9006740b"
      },
      "execution_count": 38,
      "outputs": [
        {
          "output_type": "execute_result",
          "data": {
            "text/plain": [
              "{'od': HBOS(alpha=0.1, contamination=0.19421243844072444, n_bins=10, tol=0.5),\n",
              " 'xgb': XGBRegressor(base_score=None, booster=None, callbacks=None,\n",
              "              colsample_bylevel=None, colsample_bynode=None,\n",
              "              colsample_bytree=0.9609664397472213, early_stopping_rounds=None,\n",
              "              enable_categorical=False, eval_metric=None, feature_types=None,\n",
              "              gamma=0.010677879030123294, gpu_id=None, grow_policy=None,\n",
              "              importance_type=None, interaction_constraints=None,\n",
              "              learning_rate=0.008281622333649642, max_bin=None,\n",
              "              max_cat_threshold=None, max_cat_to_onehot=None,\n",
              "              max_delta_step=None, max_depth=11, max_leaves=None,\n",
              "              min_child_weight=None, missing=nan, monotone_constraints=None,\n",
              "              n_estimators=758, n_jobs=None, num_parallel_tree=None,\n",
              "              predictor=None, random_state=42, ...),\n",
              " 'train_metrics': {'mae': 4.617, 'rmse': 26.1015, 'rmsle': 0.1342},\n",
              " 'val_metrics': {'mae': 6.2636, 'rmse': 38.6493, 'rmsle': 0.1718}}"
            ]
          },
          "metadata": {},
          "execution_count": 38
        }
      ]
    },
    {
      "cell_type": "code",
      "source": [
        "loaded"
      ],
      "metadata": {
        "colab": {
          "base_uri": "https://localhost:8080/"
        },
        "id": "Mz79OVm9KcHB",
        "outputId": "e712d802-05e0-4fba-8461-bcecd9fbf8ed"
      },
      "execution_count": 39,
      "outputs": [
        {
          "output_type": "execute_result",
          "data": {
            "text/plain": [
              "{'od': HBOS(alpha=0.1, contamination=0.19421243844072444, n_bins=10, tol=0.5),\n",
              " 'xgb': XGBRegressor(base_score=None, booster=None, callbacks=None,\n",
              "              colsample_bylevel=None, colsample_bynode=None,\n",
              "              colsample_bytree=0.9609664397472213, early_stopping_rounds=None,\n",
              "              enable_categorical=False, eval_metric=None, feature_types=None,\n",
              "              gamma=0.010677879030123294, gpu_id=None, grow_policy=None,\n",
              "              importance_type=None, interaction_constraints=None,\n",
              "              learning_rate=0.008281622333649642, max_bin=None,\n",
              "              max_cat_threshold=None, max_cat_to_onehot=None,\n",
              "              max_delta_step=None, max_depth=11, max_leaves=None,\n",
              "              min_child_weight=None, missing=nan, monotone_constraints=None,\n",
              "              n_estimators=758, n_jobs=None, num_parallel_tree=None,\n",
              "              predictor=None, random_state=42, ...),\n",
              " 'train_metrics': {'mae': 4.617, 'rmse': 26.1015, 'rmsle': 0.1342},\n",
              " 'val_metrics': {'mae': 6.2636, 'rmse': 38.6493, 'rmsle': 0.1718}}"
            ]
          },
          "metadata": {},
          "execution_count": 39
        }
      ]
    },
    {
      "cell_type": "code",
      "source": [],
      "metadata": {
        "id": "owoMXkpcKdZ9"
      },
      "execution_count": null,
      "outputs": []
    }
  ]
}