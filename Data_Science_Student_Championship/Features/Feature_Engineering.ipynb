{
  "nbformat": 4,
  "nbformat_minor": 0,
  "metadata": {
    "colab": {
      "provenance": [],
      "authorship_tag": "ABX9TyOuZmDGMUfxcPFby26JZlF0",
      "include_colab_link": true
    },
    "kernelspec": {
      "name": "python3",
      "display_name": "Python 3"
    },
    "language_info": {
      "name": "python"
    }
  },
  "cells": [
    {
      "cell_type": "markdown",
      "metadata": {
        "id": "view-in-github",
        "colab_type": "text"
      },
      "source": [
        "<a href=\"https://colab.research.google.com/github/yashveersinghsohi/machine_hack_competitions/blob/feature_engineering/Data_Science_Student_Championship/Features/Feature_Engineering.ipynb\" target=\"_parent\"><img src=\"https://colab.research.google.com/assets/colab-badge.svg\" alt=\"Open In Colab\"/></a>"
      ]
    },
    {
      "cell_type": "markdown",
      "source": [
        "# Git Clone"
      ],
      "metadata": {
        "id": "K0Cm4GOjwa8T"
      }
    },
    {
      "cell_type": "code",
      "source": [
        "# !git clone -b feature_engineering https://github.com/yashveersinghsohi/machine_hack_competitions.git"
      ],
      "metadata": {
        "id": "c_V3317iwdGe"
      },
      "execution_count": 1,
      "outputs": []
    },
    {
      "cell_type": "markdown",
      "source": [
        "# Imports"
      ],
      "metadata": {
        "id": "A83pdmRSwaBV"
      }
    },
    {
      "cell_type": "code",
      "source": [
        "# !pip install pyod"
      ],
      "metadata": {
        "id": "sBQS6Kr5wZzM"
      },
      "execution_count": 2,
      "outputs": []
    },
    {
      "cell_type": "code",
      "execution_count": 3,
      "metadata": {
        "id": "Y7C73rpZwWMZ"
      },
      "outputs": [],
      "source": [
        "import pandas as pd\n",
        "import numpy as np\n",
        "from pyod.models.iforest import IForest\n",
        "from pyod.models.cblof import CBLOF\n",
        "from pyod.models.hbos import HBOS\n",
        "from pyod.models.abod import ABOD\n",
        "import warnings\n",
        "warnings.filterwarnings('ignore')"
      ]
    },
    {
      "cell_type": "markdown",
      "source": [
        "# Datasets"
      ],
      "metadata": {
        "id": "oS0ukz803UON"
      }
    },
    {
      "cell_type": "code",
      "source": [
        "root_dir = '/content/machine_hack_competitions/Data_Science_Student_Championship/Features/raw/'\n",
        "\n",
        "X_train_raw = pd.read_csv(root_dir + 'X_train_raw.csv')\n",
        "y_train_raw = pd.read_csv(root_dir + 'y_train_raw.csv')\n",
        "\n",
        "X_val_raw = pd.read_csv(root_dir + 'X_val_raw.csv')\n",
        "y_val_raw = pd.read_csv(root_dir + 'y_val_raw.csv')\n",
        "\n",
        "X_test_raw = pd.read_csv(root_dir + 'X_test_raw.csv')\n",
        "y_test_raw = pd.read_csv(root_dir + 'y_test_raw.csv')"
      ],
      "metadata": {
        "id": "xAeOJvf23TpO"
      },
      "execution_count": 4,
      "outputs": []
    },
    {
      "cell_type": "code",
      "source": [
        "X_train, y_train = X_train_raw.copy(), y_train_raw.copy()\n",
        "X_val, y_val = X_val_raw.copy(), y_val_raw.copy()\n",
        "X_test, y_test = X_test_raw.copy(), y_test_raw.copy()"
      ],
      "metadata": {
        "id": "oaOZzMyL9Dz0"
      },
      "execution_count": 5,
      "outputs": []
    },
    {
      "cell_type": "markdown",
      "source": [
        "# Feature Engineering"
      ],
      "metadata": {
        "id": "lUK_D7dd9RPo"
      }
    },
    {
      "cell_type": "markdown",
      "source": [
        "## Helper Function"
      ],
      "metadata": {
        "id": "OEEu9VHsHRwX"
      }
    },
    {
      "cell_type": "code",
      "source": [
        "def iqr_univariate_od(datasets, col):\n",
        "  X_train, X_val, X_test = datasets\n",
        "  q25 = X_train[col].quantile(0.25)\n",
        "  q75 = X_train[col].quantile(0.75)\n",
        "  iqr = q75-q25\n",
        "  lower_bound = q25 - (1.5*iqr)\n",
        "  upper_bound = q75 + (1.5*iqr)\n",
        "  X_train['is_'+col+'_outlier'] = ((X_train[col] > upper_bound) | (X_train[col] < lower_bound)).astype(int)\n",
        "  X_val['is_'+col+'_outlier'] = ((X_val[col] > upper_bound) | (X_val[col] < lower_bound)).astype(int)\n",
        "  X_test['is_'+col+'_outlier'] = ((X_test[col] > upper_bound) | (X_test[col] < lower_bound)).astype(int)\n",
        "  return [X_train, X_val, X_test]\n",
        "\n",
        "def pyod_od(datasets, model):\n",
        "  X_train, X_val, X_test = datasets\n",
        "  model.fit(X_train)\n",
        "  train_preds = model.predict(X_train)\n",
        "  val_preds = model.predict(X_val)\n",
        "  test_preds = model.predict(X_test)\n",
        "  return train_preds, val_preds, test_preds\n",
        "\n",
        "def run_pyod_od_models(datasets, models, model_names):\n",
        "  X_train, X_val, X_test = datasets\n",
        "  for model, model_name in zip(models, model_names):\n",
        "    train_outliers, val_outliers, test_outliers = pyod_od(datasets, model)\n",
        "    X_train[f'{model_name}_is_row_outlier'] = train_outliers\n",
        "    X_val[f'{model_name}_is_row_outlier'] = val_outliers\n",
        "    X_test[f'{model_name}_is_row_outlier'] = test_outliers\n",
        "  return X_train, X_val, X_test"
      ],
      "metadata": {
        "id": "qPcaH_C0YynO"
      },
      "execution_count": 6,
      "outputs": []
    },
    {
      "cell_type": "markdown",
      "source": [
        "## Outlier Related Features"
      ],
      "metadata": {
        "id": "u3S6j_gLHTbH"
      }
    },
    {
      "cell_type": "code",
      "source": [
        "datasets = [X_train_raw, X_val_raw, X_test_raw]"
      ],
      "metadata": {
        "id": "H7iMMSjMdORT"
      },
      "execution_count": 7,
      "outputs": []
    },
    {
      "cell_type": "code",
      "source": [
        "od_models = [IForest(random_state=42), CBLOF(random_state=42), HBOS(), ABOD()]\n",
        "od_model_names = ['iforest', 'cblof', 'hbos', 'abod']\n",
        "datasets = run_pyod_od_models(datasets=datasets, models=od_models, model_names=od_model_names)"
      ],
      "metadata": {
        "id": "q8ROoVfQ2q0t"
      },
      "execution_count": 8,
      "outputs": []
    },
    {
      "cell_type": "code",
      "source": [
        "continuous_features = ['trip_duration', 'distance_traveled', 'tip', 'miscellaneous_fees']\n",
        "for feature in continuous_features:\n",
        "  datasets = iqr_univariate_od(datasets=datasets, col=feature)"
      ],
      "metadata": {
        "id": "UN4cmSvAfMHv"
      },
      "execution_count": 9,
      "outputs": []
    },
    {
      "cell_type": "markdown",
      "source": [
        "## Edge Cases and Bucketing Features"
      ],
      "metadata": {
        "id": "QOyKmUpOHYD4"
      }
    },
    {
      "cell_type": "code",
      "source": [
        "X_train, X_val, X_test = datasets\n",
        "X_train['is_miscellaneous_fees_negative'] = np.where(X_train['miscellaneous_fees'] < 0, 1, 0)\n",
        "X_val['is_miscellaneous_fees_negative'] = np.where(X_val['miscellaneous_fees'] < 0, 1, 0)\n",
        "X_test['is_miscellaneous_fees_negative'] = np.where(X_test['miscellaneous_fees'] < 0, 1, 0)\n",
        "\n",
        "\n",
        "X_train['is_miscellaneous_fees_0'] = np.where(X_train['miscellaneous_fees'] == 0, 1, 0)\n",
        "X_val['is_miscellaneous_fees_0'] = np.where(X_val['miscellaneous_fees'] == 0, 1, 0)\n",
        "X_test['is_miscellaneous_fees_0'] = np.where(X_test['miscellaneous_fees'] == 0, 1, 0)\n",
        "\n",
        "\n",
        "X_train['is_tip_0'] = np.where(X_train['tip'] == 0, 1, 0)\n",
        "X_val['is_tip_0'] = np.where(X_val['tip'] == 0, 1, 0)\n",
        "X_test['is_tip_0'] = np.where(X_test['tip'] == 0, 1, 0)\n",
        "\n",
        "\n",
        "X_train['is_trip_duration_0'] = np.where(X_train['trip_duration'] == 0, 1, 0)\n",
        "X_val['is_trip_duration_0'] = np.where(X_val['trip_duration'] == 0, 1, 0)\n",
        "X_test['is_trip_duration_0'] = np.where(X_test['trip_duration'] == 0, 1, 0)\n",
        "\n",
        "\n",
        "X_train['can_fit_in_sedan'] = np.where(X_train['num_of_passengers']<=4, 1, 0)\n",
        "X_train['can_fit_in_suv'] = np.where(X_train['num_of_passengers']<=6, 1, 0)\n",
        "\n",
        "X_val['can_fit_in_sedan'] = np.where(X_val['num_of_passengers']<=4, 1, 0)\n",
        "X_val['can_fit_in_suv'] = np.where(X_val['num_of_passengers']<=6, 1, 0)\n",
        "\n",
        "X_test['can_fit_in_sedan'] = np.where(X_test['num_of_passengers']<=4, 1, 0)\n",
        "X_test['can_fit_in_suv'] = np.where(X_test['num_of_passengers']<=6, 1, 0)"
      ],
      "metadata": {
        "id": "QBx5n1hAE1LV"
      },
      "execution_count": 10,
      "outputs": []
    },
    {
      "cell_type": "markdown",
      "source": [
        "# Saving Preprocessed Features"
      ],
      "metadata": {
        "id": "vH-Pnop-HfGM"
      }
    },
    {
      "cell_type": "code",
      "source": [
        "X_train.to_csv('X_train.csv', index=False)\n",
        "X_val.to_csv('X_val.csv', index=False)\n",
        "X_test.to_csv('X_test.csv', index=False)\n",
        "\n",
        "y_train_raw.to_csv('y_train.csv', index=False)\n",
        "y_val_raw.to_csv('y_val.csv', index=False)\n",
        "y_test_raw.to_csv('y_test.csv', index=False)"
      ],
      "metadata": {
        "id": "x28NUWCLHJUW"
      },
      "execution_count": 11,
      "outputs": []
    }
  ]
}