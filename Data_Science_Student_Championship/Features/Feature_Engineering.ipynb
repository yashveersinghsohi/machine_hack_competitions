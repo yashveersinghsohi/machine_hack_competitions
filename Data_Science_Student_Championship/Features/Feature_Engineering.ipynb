{
  "nbformat": 4,
  "nbformat_minor": 0,
  "metadata": {
    "colab": {
      "provenance": [],
      "authorship_tag": "ABX9TyOWUDSwrpCUlK6zh1OMGadL",
      "include_colab_link": true
    },
    "kernelspec": {
      "name": "python3",
      "display_name": "Python 3"
    },
    "language_info": {
      "name": "python"
    }
  },
  "cells": [
    {
      "cell_type": "markdown",
      "metadata": {
        "id": "view-in-github",
        "colab_type": "text"
      },
      "source": [
        "<a href=\"https://colab.research.google.com/github/yashveersinghsohi/machine_hack_competitions/blob/feature_engineering/Data_Science_Student_Championship/Features/Feature_Engineering.ipynb\" target=\"_parent\"><img src=\"https://colab.research.google.com/assets/colab-badge.svg\" alt=\"Open In Colab\"/></a>"
      ]
    },
    {
      "cell_type": "markdown",
      "source": [
        "# Git Clone"
      ],
      "metadata": {
        "id": "K0Cm4GOjwa8T"
      }
    },
    {
      "cell_type": "code",
      "source": [
        "# !git clone -b feature_engineering https://github.com/yashveersinghsohi/machine_hack_competitions.git"
      ],
      "metadata": {
        "id": "c_V3317iwdGe"
      },
      "execution_count": 3,
      "outputs": []
    },
    {
      "cell_type": "markdown",
      "source": [
        "# Imports"
      ],
      "metadata": {
        "id": "A83pdmRSwaBV"
      }
    },
    {
      "cell_type": "code",
      "execution_count": 2,
      "metadata": {
        "id": "Y7C73rpZwWMZ"
      },
      "outputs": [],
      "source": [
        "import pandas as pd\n",
        "import numpy as np"
      ]
    },
    {
      "cell_type": "markdown",
      "source": [
        "# Datasets"
      ],
      "metadata": {
        "id": "oS0ukz803UON"
      }
    },
    {
      "cell_type": "code",
      "source": [
        "root_dir = '/content/machine_hack_competitions/Data_Science_Student_Championship/Features/raw/'\n",
        "\n",
        "X_train_raw = pd.read_csv(root_dir + 'X_train_raw.csv')\n",
        "y_train_raw = pd.read_csv(root_dir + 'y_train_raw.csv')\n",
        "\n",
        "X_val_raw = pd.read_csv(root_dir + 'X_val_raw.csv')\n",
        "y_val_raw = pd.read_csv(root_dir + 'y_val_raw.csv')\n",
        "\n",
        "X_test_raw = pd.read_csv(root_dir + 'X_test_raw.csv')\n",
        "y_test_raw = pd.read_csv(root_dir + 'y_test_raw.csv')"
      ],
      "metadata": {
        "id": "xAeOJvf23TpO"
      },
      "execution_count": 5,
      "outputs": []
    },
    {
      "cell_type": "code",
      "source": [
        "X_train, y_train = X_train_raw.copy(), y_train_raw.copy()\n",
        "X_val, y_val = X_val_raw.copy(), y_val_raw.copy()\n",
        "X_test, y_test = X_test_raw.copy(), y_test_raw.copy()"
      ],
      "metadata": {
        "id": "oaOZzMyL9Dz0"
      },
      "execution_count": 6,
      "outputs": []
    },
    {
      "cell_type": "markdown",
      "source": [
        "# Feature Engineering"
      ],
      "metadata": {
        "id": "lUK_D7dd9RPo"
      }
    },
    {
      "cell_type": "code",
      "source": [],
      "metadata": {
        "id": "vfSlC8649QoI"
      },
      "execution_count": null,
      "outputs": []
    }
  ]
}