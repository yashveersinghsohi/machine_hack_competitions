{
  "nbformat": 4,
  "nbformat_minor": 0,
  "metadata": {
    "colab": {
      "provenance": [],
      "authorship_tag": "ABX9TyOI3lfhJqLUZsF0cLtVed1A",
      "include_colab_link": true
    },
    "kernelspec": {
      "name": "python3",
      "display_name": "Python 3"
    },
    "language_info": {
      "name": "python"
    }
  },
  "cells": [
    {
      "cell_type": "markdown",
      "metadata": {
        "id": "view-in-github",
        "colab_type": "text"
      },
      "source": [
        "<a href=\"https://colab.research.google.com/github/yashveersinghsohi/machine_hack_competitions/blob/feature_engineering/Data_Science_Student_Championship/Features/Feature_Engineering.ipynb\" target=\"_parent\"><img src=\"https://colab.research.google.com/assets/colab-badge.svg\" alt=\"Open In Colab\"/></a>"
      ]
    },
    {
      "cell_type": "markdown",
      "source": [
        "# Git Clone"
      ],
      "metadata": {
        "id": "K0Cm4GOjwa8T"
      }
    },
    {
      "cell_type": "code",
      "source": [
        "# !git clone -b feature_engineering https://github.com/yashveersinghsohi/machine_hack_competitions.git"
      ],
      "metadata": {
        "id": "c_V3317iwdGe"
      },
      "execution_count": 1,
      "outputs": []
    },
    {
      "cell_type": "markdown",
      "source": [
        "# Imports"
      ],
      "metadata": {
        "id": "A83pdmRSwaBV"
      }
    },
    {
      "cell_type": "code",
      "execution_count": 12,
      "metadata": {
        "id": "Y7C73rpZwWMZ"
      },
      "outputs": [],
      "source": [
        "import pandas as pd\n",
        "import numpy as np\n",
        "from sklearn.ensemble import IsolationForest"
      ]
    },
    {
      "cell_type": "markdown",
      "source": [
        "# Datasets"
      ],
      "metadata": {
        "id": "oS0ukz803UON"
      }
    },
    {
      "cell_type": "code",
      "source": [
        "root_dir = '/content/machine_hack_competitions/Data_Science_Student_Championship/Features/raw/'\n",
        "\n",
        "X_train_raw = pd.read_csv(root_dir + 'X_train_raw.csv')\n",
        "y_train_raw = pd.read_csv(root_dir + 'y_train_raw.csv')\n",
        "\n",
        "X_val_raw = pd.read_csv(root_dir + 'X_val_raw.csv')\n",
        "y_val_raw = pd.read_csv(root_dir + 'y_val_raw.csv')\n",
        "\n",
        "X_test_raw = pd.read_csv(root_dir + 'X_test_raw.csv')\n",
        "y_test_raw = pd.read_csv(root_dir + 'y_test_raw.csv')"
      ],
      "metadata": {
        "id": "xAeOJvf23TpO"
      },
      "execution_count": 3,
      "outputs": []
    },
    {
      "cell_type": "code",
      "source": [
        "X_train, y_train = X_train_raw.copy(), y_train_raw.copy()\n",
        "X_val, y_val = X_val_raw.copy(), y_val_raw.copy()\n",
        "X_test, y_test = X_test_raw.copy(), y_test_raw.copy()"
      ],
      "metadata": {
        "id": "oaOZzMyL9Dz0"
      },
      "execution_count": 4,
      "outputs": []
    },
    {
      "cell_type": "markdown",
      "source": [
        "# Feature Engineering"
      ],
      "metadata": {
        "id": "lUK_D7dd9RPo"
      }
    },
    {
      "cell_type": "code",
      "source": [
        "def iqr_univariate(datasets, col):\n",
        "  X_train, X_val, X_test = datasets\n",
        "  q25 = X_train[col].quantile(0.25)\n",
        "  q75 = X_train[col].quantile(0.75)\n",
        "  iqr = q75-q25\n",
        "  lower_bound = q25 - (1.5*iqr)\n",
        "  upper_bound = q75 + (1.5*iqr)\n",
        "  X_train['is_'+col+'_outlier'] = ((X_train[col] > upper_bound) | (X_train[col] < lower_bound)).astype(int)\n",
        "  X_val['is_'+col+'_outlier'] = ((X_val[col] > upper_bound) | (X_val[col] < lower_bound)).astype(int)\n",
        "  X_test['is_'+col+'_outlier'] = ((X_test[col] > upper_bound) | (X_test[col] < lower_bound)).astype(int)\n",
        "  return [X_train, X_val, X_test]\n",
        "\n",
        "def isolation_forest_od_univariate(datasets, col):\n",
        "  pass\n",
        "\n",
        "def isolation_forest_od(datasets):\n",
        "  pass\n",
        "\n",
        "def cblof_od(datasets):\n",
        "  pass\n",
        "\n",
        "def hbos_od(datasets):\n",
        "  pass\n",
        "\n",
        "def abod(datasets):\n",
        "  pass"
      ],
      "metadata": {
        "id": "qPcaH_C0YynO"
      },
      "execution_count": 5,
      "outputs": []
    },
    {
      "cell_type": "code",
      "source": [
        "datasets = [X_train_raw, X_val_raw, X_test_raw]\n",
        "continuous_features = ['trip_duration', 'distance_traveled', 'tip', 'miscellaneous_fees']\n",
        "for feature in continuous_features:\n",
        "  datasets = iqr_univariate(datasets=datasets, col=feature)"
      ],
      "metadata": {
        "id": "H7iMMSjMdORT"
      },
      "execution_count": 6,
      "outputs": []
    },
    {
      "cell_type": "code",
      "source": [
        "X_train, X_val, X_test = datasets"
      ],
      "metadata": {
        "id": "UN4cmSvAfMHv"
      },
      "execution_count": 7,
      "outputs": []
    },
    {
      "cell_type": "code",
      "source": [
        "X_test"
      ],
      "metadata": {
        "id": "TDjFKMiqfPmG",
        "outputId": "c383c455-87e0-4606-ba6e-070287f37ff9",
        "colab": {
          "base_uri": "https://localhost:8080/",
          "height": 488
        }
      },
      "execution_count": 11,
      "outputs": [
        {
          "output_type": "execute_result",
          "data": {
            "text/plain": [
              "       trip_duration  distance_traveled  num_of_passengers  tip  \\\n",
              "0             1076.0               4.18                1.0    0   \n",
              "1              429.0               1.48                4.0    0   \n",
              "2              856.0               4.15                1.0   24   \n",
              "3              622.0               3.22                1.0   15   \n",
              "4              507.0               3.98                1.0    0   \n",
              "...              ...                ...                ...  ...   \n",
              "89856          435.0               2.24                1.0   13   \n",
              "89857          519.0               2.61                1.0    7   \n",
              "89858          450.0               2.24                1.0    0   \n",
              "89859          919.0               4.12                1.0   25   \n",
              "89860          441.0               3.52                1.0   23   \n",
              "\n",
              "       miscellaneous_fees  surge_applied  is_trip_duration_outlier  \\\n",
              "0                  13.500              0                         0   \n",
              "1                  13.500              0                         0   \n",
              "2                   6.000              0                         0   \n",
              "3                   5.625              0                         0   \n",
              "4                   2.250              0                         0   \n",
              "...                   ...            ...                       ...   \n",
              "89856              13.700              0                         0   \n",
              "89857              13.850              0                         0   \n",
              "89858              26.625              1                         0   \n",
              "89859              30.200              1                         0   \n",
              "89860               6.175              0                         0   \n",
              "\n",
              "       is_distance_traveled_outlier  is_tip_outlier  \\\n",
              "0                                 0               0   \n",
              "1                                 0               0   \n",
              "2                                 0               0   \n",
              "3                                 0               0   \n",
              "4                                 0               0   \n",
              "...                             ...             ...   \n",
              "89856                             0               0   \n",
              "89857                             0               0   \n",
              "89858                             0               0   \n",
              "89859                             0               0   \n",
              "89860                             0               0   \n",
              "\n",
              "       is_miscellaneous_fees_outlier  \n",
              "0                                  0  \n",
              "1                                  0  \n",
              "2                                  0  \n",
              "3                                  0  \n",
              "4                                  0  \n",
              "...                              ...  \n",
              "89856                              0  \n",
              "89857                              0  \n",
              "89858                              0  \n",
              "89859                              0  \n",
              "89860                              0  \n",
              "\n",
              "[89861 rows x 10 columns]"
            ],
            "text/html": [
              "\n",
              "  <div id=\"df-ae99165b-98e9-4f8a-978d-86eadf415e2f\">\n",
              "    <div class=\"colab-df-container\">\n",
              "      <div>\n",
              "<style scoped>\n",
              "    .dataframe tbody tr th:only-of-type {\n",
              "        vertical-align: middle;\n",
              "    }\n",
              "\n",
              "    .dataframe tbody tr th {\n",
              "        vertical-align: top;\n",
              "    }\n",
              "\n",
              "    .dataframe thead th {\n",
              "        text-align: right;\n",
              "    }\n",
              "</style>\n",
              "<table border=\"1\" class=\"dataframe\">\n",
              "  <thead>\n",
              "    <tr style=\"text-align: right;\">\n",
              "      <th></th>\n",
              "      <th>trip_duration</th>\n",
              "      <th>distance_traveled</th>\n",
              "      <th>num_of_passengers</th>\n",
              "      <th>tip</th>\n",
              "      <th>miscellaneous_fees</th>\n",
              "      <th>surge_applied</th>\n",
              "      <th>is_trip_duration_outlier</th>\n",
              "      <th>is_distance_traveled_outlier</th>\n",
              "      <th>is_tip_outlier</th>\n",
              "      <th>is_miscellaneous_fees_outlier</th>\n",
              "    </tr>\n",
              "  </thead>\n",
              "  <tbody>\n",
              "    <tr>\n",
              "      <th>0</th>\n",
              "      <td>1076.0</td>\n",
              "      <td>4.18</td>\n",
              "      <td>1.0</td>\n",
              "      <td>0</td>\n",
              "      <td>13.500</td>\n",
              "      <td>0</td>\n",
              "      <td>0</td>\n",
              "      <td>0</td>\n",
              "      <td>0</td>\n",
              "      <td>0</td>\n",
              "    </tr>\n",
              "    <tr>\n",
              "      <th>1</th>\n",
              "      <td>429.0</td>\n",
              "      <td>1.48</td>\n",
              "      <td>4.0</td>\n",
              "      <td>0</td>\n",
              "      <td>13.500</td>\n",
              "      <td>0</td>\n",
              "      <td>0</td>\n",
              "      <td>0</td>\n",
              "      <td>0</td>\n",
              "      <td>0</td>\n",
              "    </tr>\n",
              "    <tr>\n",
              "      <th>2</th>\n",
              "      <td>856.0</td>\n",
              "      <td>4.15</td>\n",
              "      <td>1.0</td>\n",
              "      <td>24</td>\n",
              "      <td>6.000</td>\n",
              "      <td>0</td>\n",
              "      <td>0</td>\n",
              "      <td>0</td>\n",
              "      <td>0</td>\n",
              "      <td>0</td>\n",
              "    </tr>\n",
              "    <tr>\n",
              "      <th>3</th>\n",
              "      <td>622.0</td>\n",
              "      <td>3.22</td>\n",
              "      <td>1.0</td>\n",
              "      <td>15</td>\n",
              "      <td>5.625</td>\n",
              "      <td>0</td>\n",
              "      <td>0</td>\n",
              "      <td>0</td>\n",
              "      <td>0</td>\n",
              "      <td>0</td>\n",
              "    </tr>\n",
              "    <tr>\n",
              "      <th>4</th>\n",
              "      <td>507.0</td>\n",
              "      <td>3.98</td>\n",
              "      <td>1.0</td>\n",
              "      <td>0</td>\n",
              "      <td>2.250</td>\n",
              "      <td>0</td>\n",
              "      <td>0</td>\n",
              "      <td>0</td>\n",
              "      <td>0</td>\n",
              "      <td>0</td>\n",
              "    </tr>\n",
              "    <tr>\n",
              "      <th>...</th>\n",
              "      <td>...</td>\n",
              "      <td>...</td>\n",
              "      <td>...</td>\n",
              "      <td>...</td>\n",
              "      <td>...</td>\n",
              "      <td>...</td>\n",
              "      <td>...</td>\n",
              "      <td>...</td>\n",
              "      <td>...</td>\n",
              "      <td>...</td>\n",
              "    </tr>\n",
              "    <tr>\n",
              "      <th>89856</th>\n",
              "      <td>435.0</td>\n",
              "      <td>2.24</td>\n",
              "      <td>1.0</td>\n",
              "      <td>13</td>\n",
              "      <td>13.700</td>\n",
              "      <td>0</td>\n",
              "      <td>0</td>\n",
              "      <td>0</td>\n",
              "      <td>0</td>\n",
              "      <td>0</td>\n",
              "    </tr>\n",
              "    <tr>\n",
              "      <th>89857</th>\n",
              "      <td>519.0</td>\n",
              "      <td>2.61</td>\n",
              "      <td>1.0</td>\n",
              "      <td>7</td>\n",
              "      <td>13.850</td>\n",
              "      <td>0</td>\n",
              "      <td>0</td>\n",
              "      <td>0</td>\n",
              "      <td>0</td>\n",
              "      <td>0</td>\n",
              "    </tr>\n",
              "    <tr>\n",
              "      <th>89858</th>\n",
              "      <td>450.0</td>\n",
              "      <td>2.24</td>\n",
              "      <td>1.0</td>\n",
              "      <td>0</td>\n",
              "      <td>26.625</td>\n",
              "      <td>1</td>\n",
              "      <td>0</td>\n",
              "      <td>0</td>\n",
              "      <td>0</td>\n",
              "      <td>0</td>\n",
              "    </tr>\n",
              "    <tr>\n",
              "      <th>89859</th>\n",
              "      <td>919.0</td>\n",
              "      <td>4.12</td>\n",
              "      <td>1.0</td>\n",
              "      <td>25</td>\n",
              "      <td>30.200</td>\n",
              "      <td>1</td>\n",
              "      <td>0</td>\n",
              "      <td>0</td>\n",
              "      <td>0</td>\n",
              "      <td>0</td>\n",
              "    </tr>\n",
              "    <tr>\n",
              "      <th>89860</th>\n",
              "      <td>441.0</td>\n",
              "      <td>3.52</td>\n",
              "      <td>1.0</td>\n",
              "      <td>23</td>\n",
              "      <td>6.175</td>\n",
              "      <td>0</td>\n",
              "      <td>0</td>\n",
              "      <td>0</td>\n",
              "      <td>0</td>\n",
              "      <td>0</td>\n",
              "    </tr>\n",
              "  </tbody>\n",
              "</table>\n",
              "<p>89861 rows × 10 columns</p>\n",
              "</div>\n",
              "      <button class=\"colab-df-convert\" onclick=\"convertToInteractive('df-ae99165b-98e9-4f8a-978d-86eadf415e2f')\"\n",
              "              title=\"Convert this dataframe to an interactive table.\"\n",
              "              style=\"display:none;\">\n",
              "        \n",
              "  <svg xmlns=\"http://www.w3.org/2000/svg\" height=\"24px\"viewBox=\"0 0 24 24\"\n",
              "       width=\"24px\">\n",
              "    <path d=\"M0 0h24v24H0V0z\" fill=\"none\"/>\n",
              "    <path d=\"M18.56 5.44l.94 2.06.94-2.06 2.06-.94-2.06-.94-.94-2.06-.94 2.06-2.06.94zm-11 1L8.5 8.5l.94-2.06 2.06-.94-2.06-.94L8.5 2.5l-.94 2.06-2.06.94zm10 10l.94 2.06.94-2.06 2.06-.94-2.06-.94-.94-2.06-.94 2.06-2.06.94z\"/><path d=\"M17.41 7.96l-1.37-1.37c-.4-.4-.92-.59-1.43-.59-.52 0-1.04.2-1.43.59L10.3 9.45l-7.72 7.72c-.78.78-.78 2.05 0 2.83L4 21.41c.39.39.9.59 1.41.59.51 0 1.02-.2 1.41-.59l7.78-7.78 2.81-2.81c.8-.78.8-2.07 0-2.86zM5.41 20L4 18.59l7.72-7.72 1.47 1.35L5.41 20z\"/>\n",
              "  </svg>\n",
              "      </button>\n",
              "      \n",
              "  <style>\n",
              "    .colab-df-container {\n",
              "      display:flex;\n",
              "      flex-wrap:wrap;\n",
              "      gap: 12px;\n",
              "    }\n",
              "\n",
              "    .colab-df-convert {\n",
              "      background-color: #E8F0FE;\n",
              "      border: none;\n",
              "      border-radius: 50%;\n",
              "      cursor: pointer;\n",
              "      display: none;\n",
              "      fill: #1967D2;\n",
              "      height: 32px;\n",
              "      padding: 0 0 0 0;\n",
              "      width: 32px;\n",
              "    }\n",
              "\n",
              "    .colab-df-convert:hover {\n",
              "      background-color: #E2EBFA;\n",
              "      box-shadow: 0px 1px 2px rgba(60, 64, 67, 0.3), 0px 1px 3px 1px rgba(60, 64, 67, 0.15);\n",
              "      fill: #174EA6;\n",
              "    }\n",
              "\n",
              "    [theme=dark] .colab-df-convert {\n",
              "      background-color: #3B4455;\n",
              "      fill: #D2E3FC;\n",
              "    }\n",
              "\n",
              "    [theme=dark] .colab-df-convert:hover {\n",
              "      background-color: #434B5C;\n",
              "      box-shadow: 0px 1px 3px 1px rgba(0, 0, 0, 0.15);\n",
              "      filter: drop-shadow(0px 1px 2px rgba(0, 0, 0, 0.3));\n",
              "      fill: #FFFFFF;\n",
              "    }\n",
              "  </style>\n",
              "\n",
              "      <script>\n",
              "        const buttonEl =\n",
              "          document.querySelector('#df-ae99165b-98e9-4f8a-978d-86eadf415e2f button.colab-df-convert');\n",
              "        buttonEl.style.display =\n",
              "          google.colab.kernel.accessAllowed ? 'block' : 'none';\n",
              "\n",
              "        async function convertToInteractive(key) {\n",
              "          const element = document.querySelector('#df-ae99165b-98e9-4f8a-978d-86eadf415e2f');\n",
              "          const dataTable =\n",
              "            await google.colab.kernel.invokeFunction('convertToInteractive',\n",
              "                                                     [key], {});\n",
              "          if (!dataTable) return;\n",
              "\n",
              "          const docLinkHtml = 'Like what you see? Visit the ' +\n",
              "            '<a target=\"_blank\" href=https://colab.research.google.com/notebooks/data_table.ipynb>data table notebook</a>'\n",
              "            + ' to learn more about interactive tables.';\n",
              "          element.innerHTML = '';\n",
              "          dataTable['output_type'] = 'display_data';\n",
              "          await google.colab.output.renderOutput(dataTable, element);\n",
              "          const docLink = document.createElement('div');\n",
              "          docLink.innerHTML = docLinkHtml;\n",
              "          element.appendChild(docLink);\n",
              "        }\n",
              "      </script>\n",
              "    </div>\n",
              "  </div>\n",
              "  "
            ]
          },
          "metadata": {},
          "execution_count": 11
        }
      ]
    },
    {
      "cell_type": "code",
      "source": [
        "# Outlier detections\n",
        "# - Univariate - Isolation Forest, and IQR\n",
        "\n",
        "# - Multivariate - Isolation Forest, Cluster-based Local Outlier Factor (CBLOF), Histogram-based Outlier Detection (HBOS), Angle-Based Outlier Detection (ABOD)"
      ],
      "metadata": {
        "id": "vfSlC8649QoI"
      },
      "execution_count": null,
      "outputs": []
    }
  ]
}