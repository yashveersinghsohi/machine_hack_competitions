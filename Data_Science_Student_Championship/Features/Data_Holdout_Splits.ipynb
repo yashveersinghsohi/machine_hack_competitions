{
  "nbformat": 4,
  "nbformat_minor": 0,
  "metadata": {
    "colab": {
      "provenance": [],
      "authorship_tag": "ABX9TyMo2qU4EqGRJo267+w7otgg",
      "include_colab_link": true
    },
    "kernelspec": {
      "name": "python3",
      "display_name": "Python 3"
    },
    "language_info": {
      "name": "python"
    }
  },
  "cells": [
    {
      "cell_type": "markdown",
      "metadata": {
        "id": "view-in-github",
        "colab_type": "text"
      },
      "source": [
        "<a href=\"https://colab.research.google.com/github/yashveersinghsohi/machine_hack_competitions/blob/feature_engineering/Data_Science_Student_Championship/Features/Data_Holdout_Splits.ipynb\" target=\"_parent\"><img src=\"https://colab.research.google.com/assets/colab-badge.svg\" alt=\"Open In Colab\"/></a>"
      ]
    },
    {
      "cell_type": "markdown",
      "source": [
        "# Git Clone"
      ],
      "metadata": {
        "id": "vRoQafVK6zLL"
      }
    },
    {
      "cell_type": "code",
      "execution_count": 9,
      "metadata": {
        "id": "YYBb-cUX6q-i",
        "outputId": "9e90386d-0259-4e2b-c24f-b90ac5633052",
        "colab": {
          "base_uri": "https://localhost:8080/"
        }
      },
      "outputs": [
        {
          "output_type": "stream",
          "name": "stdout",
          "text": [
            "fatal: destination path 'machine_hack_competitions' already exists and is not an empty directory.\n"
          ]
        }
      ],
      "source": [
        "# !git clone -b eda https://github.com/yashveersinghsohi/machine_hack_competitions.git\n",
        "# !git clone -b multivariate_eda https://github.com/yashveersinghsohi/machine_hack_competitions.git\n",
        "# !git clone -b cross_validation https://github.com/yashveersinghsohi/machine_hack_competitions.git\n",
        "!git clone -b feature_engineering https://github.com/yashveersinghsohi/machine_hack_competitions.git"
      ]
    },
    {
      "cell_type": "markdown",
      "source": [
        "# Imports"
      ],
      "metadata": {
        "id": "U6cU4hv160qD"
      }
    },
    {
      "cell_type": "code",
      "source": [
        "import pandas as pd\n",
        "from scipy.stats import ks_2samp\n",
        "from sklearn.model_selection import train_test_split"
      ],
      "metadata": {
        "id": "DbaQ7Lt_6u1t"
      },
      "execution_count": 10,
      "outputs": []
    },
    {
      "cell_type": "markdown",
      "source": [
        "# Data"
      ],
      "metadata": {
        "id": "xSZgG5gh61sc"
      }
    },
    {
      "cell_type": "code",
      "source": [
        "ROOT_DIR = '/content/machine_hack_competitions/Data_Science_Student_Championship/Competition_Files/'\n",
        "train = pd.read_csv(ROOT_DIR + 'train.csv')\n",
        "test = pd.read_csv(ROOT_DIR + 'test.csv')"
      ],
      "metadata": {
        "id": "GmE84_dL62E_"
      },
      "execution_count": 11,
      "outputs": []
    },
    {
      "cell_type": "markdown",
      "source": [
        "# Train-Val Split"
      ],
      "metadata": {
        "id": "6chCcm5K62l6"
      }
    },
    {
      "cell_type": "code",
      "source": [
        "X, y = train.drop(['fare', 'total_fare'], axis=1), train['fare']\n",
        "X_train, X_val, y_train, y_val = train_test_split(X, y, test_size=0.2, random_state=42)\n",
        "X_train.shape, X_val.shape, y_train.shape, y_val.shape"
      ],
      "metadata": {
        "colab": {
          "base_uri": "https://localhost:8080/"
        },
        "id": "hvkeJ2IZ64IH",
        "outputId": "451ee3be-dde2-49b7-fe92-383c4bff4287"
      },
      "execution_count": 12,
      "outputs": [
        {
          "output_type": "execute_result",
          "data": {
            "text/plain": [
              "((167738, 6), (41935, 6), (167738,), (41935,))"
            ]
          },
          "metadata": {},
          "execution_count": 12
        }
      ]
    },
    {
      "cell_type": "code",
      "source": [
        "X_test, y_test = test.drop(['fare', 'total_fare'], axis=1), test['fare']\n",
        "X_test.shape, y_test.shape"
      ],
      "metadata": {
        "id": "ln7Y4xOc0QaH",
        "outputId": "8a634423-d4ae-44e1-8702-6a2c54d7c615",
        "colab": {
          "base_uri": "https://localhost:8080/"
        }
      },
      "execution_count": 13,
      "outputs": [
        {
          "output_type": "execute_result",
          "data": {
            "text/plain": [
              "((89861, 6), (89861,))"
            ]
          },
          "metadata": {},
          "execution_count": 13
        }
      ]
    },
    {
      "cell_type": "markdown",
      "source": [
        "# Making sure all sets have similar distributions"
      ],
      "metadata": {
        "id": "Px4o7rML64gE"
      }
    },
    {
      "cell_type": "markdown",
      "source": [
        "**Original Train and Test sets**"
      ],
      "metadata": {
        "id": "i-zALEhXOc1j"
      }
    },
    {
      "cell_type": "code",
      "source": [
        "features = ['trip_duration', 'distance_traveled', 'num_of_passengers', \n",
        "            'tip', 'miscellaneous_fees', 'surge_applied']\n",
        "for feature in features:\n",
        "  print(feature)\n",
        "  print(ks_2samp(train[feature], test[feature]))\n",
        "  print('-'*50)"
      ],
      "metadata": {
        "colab": {
          "base_uri": "https://localhost:8080/"
        },
        "id": "jwSJOM6j68tg",
        "outputId": "679eff67-e092-47be-db5a-10fc6dba8e34"
      },
      "execution_count": 14,
      "outputs": [
        {
          "output_type": "stream",
          "name": "stdout",
          "text": [
            "trip_duration\n",
            "KstestResult(statistic=0.003307704353657348, pvalue=0.4958073534035815, statistic_location=1217.0, statistic_sign=-1)\n",
            "--------------------------------------------------\n",
            "distance_traveled\n",
            "KstestResult(statistic=0.002781612629614294, pvalue=0.7140647026741994, statistic_location=10.94, statistic_sign=-1)\n",
            "--------------------------------------------------\n",
            "num_of_passengers\n",
            "KstestResult(statistic=0.0015586771857181159, pvalue=0.9979485333706887, statistic_location=2.0, statistic_sign=-1)\n",
            "--------------------------------------------------\n",
            "tip\n",
            "KstestResult(statistic=0.003916059439560748, pvalue=0.2888700774662858, statistic_location=15, statistic_sign=1)\n",
            "--------------------------------------------------\n",
            "miscellaneous_fees\n",
            "KstestResult(statistic=0.00416072946261703, pvalue=0.22561005838977066, statistic_location=6.449999999999989, statistic_sign=1)\n",
            "--------------------------------------------------\n",
            "surge_applied\n",
            "KstestResult(statistic=0.0017578829204096813, pvalue=0.98986253834903, statistic_location=0, statistic_sign=1)\n",
            "--------------------------------------------------\n"
          ]
        }
      ]
    },
    {
      "cell_type": "markdown",
      "source": [
        "**Newly Created Train and Validation Sets**"
      ],
      "metadata": {
        "id": "vA21H0zBOfzt"
      }
    },
    {
      "cell_type": "code",
      "source": [
        "features = ['trip_duration', 'distance_traveled', 'num_of_passengers', \n",
        "            'tip', 'miscellaneous_fees', 'surge_applied']\n",
        "for feature in features:\n",
        "  print(feature)\n",
        "  print(ks_2samp(X_train[feature], X_val[feature]))\n",
        "  print('-'*50)"
      ],
      "metadata": {
        "colab": {
          "base_uri": "https://localhost:8080/"
        },
        "id": "VraHzng7NsBo",
        "outputId": "e27e3fbb-4da5-4a56-af3c-33d5218f4db9"
      },
      "execution_count": 15,
      "outputs": [
        {
          "output_type": "stream",
          "name": "stdout",
          "text": [
            "trip_duration\n",
            "KstestResult(statistic=0.005249053267070591, pvalue=0.3125825142610943, statistic_location=1068.0, statistic_sign=1)\n",
            "--------------------------------------------------\n",
            "distance_traveled\n",
            "KstestResult(statistic=0.007447353308604132, pvalue=0.048161121211911406, statistic_location=4.01, statistic_sign=1)\n",
            "--------------------------------------------------\n",
            "num_of_passengers\n",
            "KstestResult(statistic=0.000833956271971581, pvalue=1.0, statistic_location=2.0, statistic_sign=1)\n",
            "--------------------------------------------------\n",
            "tip\n",
            "KstestResult(statistic=0.0029157970917538245, pvalue=0.937105112072282, statistic_location=5, statistic_sign=-1)\n",
            "--------------------------------------------------\n",
            "miscellaneous_fees\n",
            "KstestResult(statistic=0.0035893097933621387, pvalue=0.7789998470455233, statistic_location=9.974999999999994, statistic_sign=1)\n",
            "--------------------------------------------------\n",
            "surge_applied\n",
            "KstestResult(statistic=0.001988564686355887, pvalue=0.9993425492408446, statistic_location=0, statistic_sign=-1)\n",
            "--------------------------------------------------\n"
          ]
        }
      ]
    },
    {
      "cell_type": "markdown",
      "source": [
        "**Validation Set vs Test Set**"
      ],
      "metadata": {
        "id": "ebdUUnob1VMt"
      }
    },
    {
      "cell_type": "code",
      "source": [
        "features = ['trip_duration', 'distance_traveled', 'num_of_passengers', \n",
        "            'tip', 'miscellaneous_fees', 'surge_applied']\n",
        "for feature in features:\n",
        "  print(feature)\n",
        "  print(ks_2samp(X_val[feature], X_test[feature]))\n",
        "  print('-'*50)"
      ],
      "metadata": {
        "id": "tRtr-K7S1UGC",
        "outputId": "d38365aa-520d-405e-c24d-b4ad2cbb481d",
        "colab": {
          "base_uri": "https://localhost:8080/"
        }
      },
      "execution_count": 16,
      "outputs": [
        {
          "output_type": "stream",
          "name": "stdout",
          "text": [
            "trip_duration\n",
            "KstestResult(statistic=0.006490045771803454, pvalue=0.17897102664398556, statistic_location=1219.0, statistic_sign=-1)\n",
            "--------------------------------------------------\n",
            "distance_traveled\n",
            "KstestResult(statistic=0.0067879373233921125, pvalue=0.14276376033069904, statistic_location=4.01, statistic_sign=-1)\n",
            "--------------------------------------------------\n",
            "num_of_passengers\n",
            "KstestResult(statistic=0.002225840612329888, pvalue=0.998852888034714, statistic_location=2.0, statistic_sign=-1)\n",
            "--------------------------------------------------\n",
            "tip\n",
            "KstestResult(statistic=0.006055910255003072, pvalue=0.24416997049889755, statistic_location=15, statistic_sign=1)\n",
            "--------------------------------------------------\n",
            "miscellaneous_fees\n",
            "KstestResult(statistic=0.0039033946055501145, pvalue=0.7747591777473638, statistic_location=13.649999999999975, statistic_sign=1)\n",
            "--------------------------------------------------\n",
            "surge_applied\n",
            "KstestResult(statistic=0.003348730875844863, pvalue=0.9044862710661417, statistic_location=0, statistic_sign=1)\n",
            "--------------------------------------------------\n"
          ]
        }
      ]
    },
    {
      "cell_type": "markdown",
      "source": [
        "# Stroing the Datasets"
      ],
      "metadata": {
        "id": "69D_daYFz5_C"
      }
    },
    {
      "cell_type": "code",
      "source": [
        "X_train.to_csv('X_train_raw.csv', index=False)\n",
        "y_train.to_csv('y_train_raw.csv', index=False)\n",
        "\n",
        "X_val.to_csv('X_val_raw.csv', index=False)\n",
        "y_val.to_csv('y_val_raw.csv', index=False)\n",
        "\n",
        "X_test.to_csv('X_test_raw.csv', index=False)\n",
        "y_test.to_csv('y_test_raw.csv', index=False)"
      ],
      "metadata": {
        "id": "z3rc2pdIz9VD"
      },
      "execution_count": 18,
      "outputs": []
    }
  ]
}