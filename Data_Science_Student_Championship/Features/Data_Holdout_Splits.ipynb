{
  "nbformat": 4,
  "nbformat_minor": 0,
  "metadata": {
    "colab": {
      "provenance": [],
      "authorship_tag": "ABX9TyN18iJazJzexM6a8MoNpqlY",
      "include_colab_link": true
    },
    "kernelspec": {
      "name": "python3",
      "display_name": "Python 3"
    },
    "language_info": {
      "name": "python"
    }
  },
  "cells": [
    {
      "cell_type": "markdown",
      "metadata": {
        "id": "view-in-github",
        "colab_type": "text"
      },
      "source": [
        "<a href=\"https://colab.research.google.com/github/yashveersinghsohi/machine_hack_competitions/blob/feature_engineering/Data_Science_Student_Championship/Features/Data_Holdout_Splits.ipynb\" target=\"_parent\"><img src=\"https://colab.research.google.com/assets/colab-badge.svg\" alt=\"Open In Colab\"/></a>"
      ]
    },
    {
      "cell_type": "markdown",
      "source": [
        "# Git Clone"
      ],
      "metadata": {
        "id": "vRoQafVK6zLL"
      }
    },
    {
      "cell_type": "code",
      "execution_count": 1,
      "metadata": {
        "id": "YYBb-cUX6q-i",
        "outputId": "51d720ab-9490-4825-d697-6c26379d014b",
        "colab": {
          "base_uri": "https://localhost:8080/"
        }
      },
      "outputs": [
        {
          "output_type": "stream",
          "name": "stdout",
          "text": [
            "Cloning into 'machine_hack_competitions'...\n",
            "remote: Enumerating objects: 121, done.\u001b[K\n",
            "remote: Counting objects: 100% (121/121), done.\u001b[K\n",
            "remote: Compressing objects: 100% (111/111), done.\u001b[K\n",
            "remote: Total 121 (delta 34), reused 43 (delta 5), pack-reused 0\u001b[K\n",
            "Receiving objects: 100% (121/121), 15.82 MiB | 9.53 MiB/s, done.\n",
            "Resolving deltas: 100% (34/34), done.\n",
            "Updating files: 100% (12/12), done.\n"
          ]
        }
      ],
      "source": [
        "# !git clone -b eda https://github.com/yashveersinghsohi/machine_hack_competitions.git\n",
        "# !git clone -b multivariate_eda https://github.com/yashveersinghsohi/machine_hack_competitions.git\n",
        "# !git clone -b cross_validation https://github.com/yashveersinghsohi/machine_hack_competitions.git\n",
        "!git clone -b feature_engineering https://github.com/yashveersinghsohi/machine_hack_competitions.git"
      ]
    },
    {
      "cell_type": "markdown",
      "source": [
        "# Imports"
      ],
      "metadata": {
        "id": "U6cU4hv160qD"
      }
    },
    {
      "cell_type": "code",
      "source": [
        "import pandas as pd\n",
        "from scipy.stats import ks_2samp\n",
        "from sklearn.model_selection import train_test_split"
      ],
      "metadata": {
        "id": "DbaQ7Lt_6u1t"
      },
      "execution_count": 2,
      "outputs": []
    },
    {
      "cell_type": "markdown",
      "source": [
        "# Data"
      ],
      "metadata": {
        "id": "xSZgG5gh61sc"
      }
    },
    {
      "cell_type": "code",
      "source": [
        "ROOT_DIR = '/content/machine_hack_competitions/Data_Science_Student_Championship/Competition_Files/'\n",
        "train = pd.read_csv(ROOT_DIR + 'train.csv')\n",
        "test = pd.read_csv(ROOT_DIR + 'test.csv')"
      ],
      "metadata": {
        "id": "GmE84_dL62E_"
      },
      "execution_count": 3,
      "outputs": []
    },
    {
      "cell_type": "markdown",
      "source": [
        "# Train-Val Split"
      ],
      "metadata": {
        "id": "6chCcm5K62l6"
      }
    },
    {
      "cell_type": "code",
      "source": [
        "X, y = train.drop(['fare', 'total_fare'], axis=1), train['fare']\n",
        "X_train, X_val, y_train, y_val = train_test_split(X, y, test_size=0.2, random_state=42)\n",
        "X_train.shape, X_val.shape, y_train.shape, y_val.shape"
      ],
      "metadata": {
        "colab": {
          "base_uri": "https://localhost:8080/"
        },
        "id": "hvkeJ2IZ64IH",
        "outputId": "0eb85698-2143-4f8a-902b-c868fddb38c3"
      },
      "execution_count": 4,
      "outputs": [
        {
          "output_type": "execute_result",
          "data": {
            "text/plain": [
              "((167738, 6), (41935, 6), (167738,), (41935,))"
            ]
          },
          "metadata": {},
          "execution_count": 4
        }
      ]
    },
    {
      "cell_type": "code",
      "source": [
        "X_test, y_test = test.drop(['fare', 'total_fare'], axis=1), test['fare']\n",
        "X_test.shape, y_test.shape"
      ],
      "metadata": {
        "id": "ln7Y4xOc0QaH",
        "outputId": "55db7d50-ce90-4ecc-a921-656a6b730ddc",
        "colab": {
          "base_uri": "https://localhost:8080/"
        }
      },
      "execution_count": 5,
      "outputs": [
        {
          "output_type": "execute_result",
          "data": {
            "text/plain": [
              "((89861, 6), (89861,))"
            ]
          },
          "metadata": {},
          "execution_count": 5
        }
      ]
    },
    {
      "cell_type": "markdown",
      "source": [
        "# Making sure all sets have similar distributions"
      ],
      "metadata": {
        "id": "Px4o7rML64gE"
      }
    },
    {
      "cell_type": "markdown",
      "source": [
        "**Original Train and Test sets**"
      ],
      "metadata": {
        "id": "i-zALEhXOc1j"
      }
    },
    {
      "cell_type": "code",
      "source": [
        "features = ['trip_duration', 'distance_traveled', 'num_of_passengers', \n",
        "            'tip', 'miscellaneous_fees', 'surge_applied']\n",
        "for feature in features:\n",
        "  print(feature)\n",
        "  print(ks_2samp(train[feature], test[feature]))\n",
        "  print('-'*50)"
      ],
      "metadata": {
        "colab": {
          "base_uri": "https://localhost:8080/"
        },
        "id": "jwSJOM6j68tg",
        "outputId": "3655d03e-23ba-4b7a-b8cc-50c72e1cf214"
      },
      "execution_count": 6,
      "outputs": [
        {
          "output_type": "stream",
          "name": "stdout",
          "text": [
            "trip_duration\n",
            "KstestResult(statistic=0.003307704353657348, pvalue=0.4958073534035815, statistic_location=1217.0, statistic_sign=-1)\n",
            "--------------------------------------------------\n",
            "distance_traveled\n",
            "KstestResult(statistic=0.002781612629614294, pvalue=0.7140647026741994, statistic_location=10.94, statistic_sign=-1)\n",
            "--------------------------------------------------\n",
            "num_of_passengers\n",
            "KstestResult(statistic=0.0015586771857181159, pvalue=0.9979485333706887, statistic_location=2.0, statistic_sign=-1)\n",
            "--------------------------------------------------\n",
            "tip\n",
            "KstestResult(statistic=0.003916059439560748, pvalue=0.2888700774662858, statistic_location=15, statistic_sign=1)\n",
            "--------------------------------------------------\n",
            "miscellaneous_fees\n",
            "KstestResult(statistic=0.00416072946261703, pvalue=0.22561005838977066, statistic_location=6.449999999999989, statistic_sign=1)\n",
            "--------------------------------------------------\n",
            "surge_applied\n",
            "KstestResult(statistic=0.0017578829204096813, pvalue=0.98986253834903, statistic_location=0, statistic_sign=1)\n",
            "--------------------------------------------------\n"
          ]
        }
      ]
    },
    {
      "cell_type": "markdown",
      "source": [
        "**Newly Created Train and Validation Sets**"
      ],
      "metadata": {
        "id": "vA21H0zBOfzt"
      }
    },
    {
      "cell_type": "code",
      "source": [
        "features = ['trip_duration', 'distance_traveled', 'num_of_passengers', \n",
        "            'tip', 'miscellaneous_fees', 'surge_applied']\n",
        "for feature in features:\n",
        "  print(feature)\n",
        "  print(ks_2samp(X_train[feature], X_val[feature]))\n",
        "  print('-'*50)"
      ],
      "metadata": {
        "colab": {
          "base_uri": "https://localhost:8080/"
        },
        "id": "VraHzng7NsBo",
        "outputId": "2a38400d-59f0-4a84-f89c-1b4b1bccafdd"
      },
      "execution_count": 7,
      "outputs": [
        {
          "output_type": "stream",
          "name": "stdout",
          "text": [
            "trip_duration\n",
            "KstestResult(statistic=0.005249053267070591, pvalue=0.3125825142610943, statistic_location=1068.0, statistic_sign=1)\n",
            "--------------------------------------------------\n",
            "distance_traveled\n",
            "KstestResult(statistic=0.007447353308604132, pvalue=0.048161121211911406, statistic_location=4.01, statistic_sign=1)\n",
            "--------------------------------------------------\n",
            "num_of_passengers\n",
            "KstestResult(statistic=0.000833956271971581, pvalue=1.0, statistic_location=2.0, statistic_sign=1)\n",
            "--------------------------------------------------\n",
            "tip\n",
            "KstestResult(statistic=0.0029157970917538245, pvalue=0.937105112072282, statistic_location=5, statistic_sign=-1)\n",
            "--------------------------------------------------\n",
            "miscellaneous_fees\n",
            "KstestResult(statistic=0.0035893097933621387, pvalue=0.7789998470455233, statistic_location=9.974999999999994, statistic_sign=1)\n",
            "--------------------------------------------------\n",
            "surge_applied\n",
            "KstestResult(statistic=0.001988564686355887, pvalue=0.9993425492408446, statistic_location=0, statistic_sign=-1)\n",
            "--------------------------------------------------\n"
          ]
        }
      ]
    },
    {
      "cell_type": "markdown",
      "source": [
        "# Stroing the Datasets"
      ],
      "metadata": {
        "id": "69D_daYFz5_C"
      }
    },
    {
      "cell_type": "code",
      "source": [
        "X_train.to_csv('X_train_raw.csv', index=False)\n",
        "y_train.to_csv('y_train_raw.csv', index=False)\n",
        "\n",
        "X_val.to_csv('X_val_raw.csv', index=False)\n",
        "y_val.to_csv('y_val_raw.csv', index=False)\n",
        "\n",
        "X_test.to_csv('X_test_raw.csv', index=False)\n",
        "y_test.to_csv('y_test_raw.csv', index=False)"
      ],
      "metadata": {
        "id": "z3rc2pdIz9VD"
      },
      "execution_count": 8,
      "outputs": []
    }
  ]
}