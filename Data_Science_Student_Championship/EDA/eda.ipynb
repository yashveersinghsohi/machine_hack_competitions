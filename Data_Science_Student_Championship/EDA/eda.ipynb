{
  "nbformat": 4,
  "nbformat_minor": 0,
  "metadata": {
    "colab": {
      "provenance": [],
      "authorship_tag": "ABX9TyPcc9AE6e5MeOx0iomzSzDK",
      "include_colab_link": true
    },
    "kernelspec": {
      "name": "python3",
      "display_name": "Python 3"
    },
    "language_info": {
      "name": "python"
    }
  },
  "cells": [
    {
      "cell_type": "markdown",
      "metadata": {
        "id": "view-in-github",
        "colab_type": "text"
      },
      "source": [
        "<a href=\"https://colab.research.google.com/github/yashveersinghsohi/machine_hack_competitions/blob/eda/Data_Science_Student_Championship/EDA/eda.ipynb\" target=\"_parent\"><img src=\"https://colab.research.google.com/assets/colab-badge.svg\" alt=\"Open In Colab\"/></a>"
      ]
    },
    {
      "cell_type": "markdown",
      "source": [],
      "metadata": {
        "id": "9b1R6q5G1Pug"
      }
    },
    {
      "cell_type": "markdown",
      "source": [
        "# Cloning Git Repo"
      ],
      "metadata": {
        "id": "xGAju1o11RrK"
      }
    },
    {
      "cell_type": "code",
      "execution_count": 2,
      "metadata": {
        "id": "XSRKTnwS1OgQ"
      },
      "outputs": [],
      "source": [
        "# !git clone -b eda https://github.com/yashveersinghsohi/machine_hack_competitions.git"
      ]
    },
    {
      "cell_type": "markdown",
      "source": [
        "# Imports"
      ],
      "metadata": {
        "id": "4zrb5gwm1UMZ"
      }
    },
    {
      "cell_type": "code",
      "source": [
        "import pandas as pd\n",
        "import numpy as np\n",
        "import matplotlib.pyplot as plt\n",
        "import seaborn as sns"
      ],
      "metadata": {
        "id": "5nPFeWYK1U1m"
      },
      "execution_count": 3,
      "outputs": []
    },
    {
      "cell_type": "markdown",
      "source": [
        "# Data"
      ],
      "metadata": {
        "id": "R1VOFpwn1VXi"
      }
    },
    {
      "cell_type": "code",
      "source": [
        "ROOT_DIR = '/content/machine_hack_competitions/Data_Science_Student_Championship/Competition_Files/'\n",
        "train = pd.read_csv(ROOT_DIR + 'train.csv')\n",
        "test = pd.read_csv(ROOT_DIR + 'test.csv')"
      ],
      "metadata": {
        "id": "gK1Yvoas1V0y"
      },
      "execution_count": 6,
      "outputs": []
    },
    {
      "cell_type": "code",
      "source": [
        "def df_shapes_eda(df):\n",
        "  print('SHAPE OF DF', end=' ')\n",
        "  print(df.shape)\n",
        "  print('-'*30)\n",
        "  print('TOP FEW ROWS')\n",
        "  print('-'*30)\n",
        "  print(df.head())\n",
        "  print('-'*30)\n",
        "  print('DF INFO')\n",
        "  print('-'*30)\n",
        "  print(df.info())\n",
        "  print('-'*30)\n",
        "  print('DF NULLS')\n",
        "  print('-'*30)\n",
        "  print((100*(df.isna().sum()/df.shape[0])).round(3))"
      ],
      "metadata": {
        "id": "TY34qp4p2H1B"
      },
      "execution_count": 10,
      "outputs": []
    },
    {
      "cell_type": "code",
      "source": [
        "df_shapes_eda(train)"
      ],
      "metadata": {
        "colab": {
          "base_uri": "https://localhost:8080/"
        },
        "id": "zFuy4UAJ1-rX",
        "outputId": "b7bed711-3fa8-45c1-d542-d2207f8fca95"
      },
      "execution_count": 11,
      "outputs": [
        {
          "output_type": "stream",
          "name": "stdout",
          "text": [
            "SHAPE OF DF (209673, 8)\n",
            "------------------------------\n",
            "TOP FEW ROWS\n",
            "------------------------------\n",
            "   trip_duration  distance_traveled  num_of_passengers    fare  tip  \\\n",
            "0          748.0               2.75                1.0   75.00   24   \n",
            "1         1187.0               3.43                1.0  105.00   24   \n",
            "2          730.0               3.12                1.0   71.25    0   \n",
            "3          671.0               5.63                3.0   90.00    0   \n",
            "4          329.0               2.09                1.0   45.00   12   \n",
            "\n",
            "   miscellaneous_fees  total_fare  surge_applied  \n",
            "0               6.300     105.300              0  \n",
            "1              13.200     142.200              0  \n",
            "2              26.625      97.875              1  \n",
            "3               9.750      99.750              0  \n",
            "4              13.200      70.200              0  \n",
            "------------------------------\n",
            "DF INFO\n",
            "------------------------------\n",
            "<class 'pandas.core.frame.DataFrame'>\n",
            "RangeIndex: 209673 entries, 0 to 209672\n",
            "Data columns (total 8 columns):\n",
            " #   Column              Non-Null Count   Dtype  \n",
            "---  ------              --------------   -----  \n",
            " 0   trip_duration       209673 non-null  float64\n",
            " 1   distance_traveled   209673 non-null  float64\n",
            " 2   num_of_passengers   209673 non-null  float64\n",
            " 3   fare                209673 non-null  float64\n",
            " 4   tip                 209673 non-null  int64  \n",
            " 5   miscellaneous_fees  209673 non-null  float64\n",
            " 6   total_fare          209673 non-null  float64\n",
            " 7   surge_applied       209673 non-null  int64  \n",
            "dtypes: float64(6), int64(2)\n",
            "memory usage: 12.8 MB\n",
            "None\n",
            "------------------------------\n",
            "DF NULLS\n",
            "------------------------------\n",
            "trip_duration         0.0\n",
            "distance_traveled     0.0\n",
            "num_of_passengers     0.0\n",
            "fare                  0.0\n",
            "tip                   0.0\n",
            "miscellaneous_fees    0.0\n",
            "total_fare            0.0\n",
            "surge_applied         0.0\n",
            "dtype: float64\n"
          ]
        }
      ]
    },
    {
      "cell_type": "code",
      "source": [
        "df_shapes_eda(test)"
      ],
      "metadata": {
        "colab": {
          "base_uri": "https://localhost:8080/"
        },
        "id": "gGPEKb8r2AGL",
        "outputId": "04216cb6-85b9-4bd7-eb3a-04fcc5b40839"
      },
      "execution_count": 12,
      "outputs": [
        {
          "output_type": "stream",
          "name": "stdout",
          "text": [
            "SHAPE OF DF (89861, 8)\n",
            "------------------------------\n",
            "TOP FEW ROWS\n",
            "------------------------------\n",
            "   trip_duration  distance_traveled  num_of_passengers  fare  tip  \\\n",
            "0         1076.0               4.18                1.0     0    0   \n",
            "1          429.0               1.48                4.0     0    0   \n",
            "2          856.0               4.15                1.0     0   24   \n",
            "3          622.0               3.22                1.0     0   15   \n",
            "4          507.0               3.98                1.0     0    0   \n",
            "\n",
            "   miscellaneous_fees  total_fare  surge_applied  \n",
            "0              13.500           0              0  \n",
            "1              13.500           0              0  \n",
            "2               6.000           0              0  \n",
            "3               5.625           0              0  \n",
            "4               2.250           0              0  \n",
            "------------------------------\n",
            "DF INFO\n",
            "------------------------------\n",
            "<class 'pandas.core.frame.DataFrame'>\n",
            "RangeIndex: 89861 entries, 0 to 89860\n",
            "Data columns (total 8 columns):\n",
            " #   Column              Non-Null Count  Dtype  \n",
            "---  ------              --------------  -----  \n",
            " 0   trip_duration       89861 non-null  float64\n",
            " 1   distance_traveled   89861 non-null  float64\n",
            " 2   num_of_passengers   89861 non-null  float64\n",
            " 3   fare                89861 non-null  int64  \n",
            " 4   tip                 89861 non-null  int64  \n",
            " 5   miscellaneous_fees  89861 non-null  float64\n",
            " 6   total_fare          89861 non-null  int64  \n",
            " 7   surge_applied       89861 non-null  int64  \n",
            "dtypes: float64(4), int64(4)\n",
            "memory usage: 5.5 MB\n",
            "None\n",
            "------------------------------\n",
            "DF NULLS\n",
            "------------------------------\n",
            "trip_duration         0.0\n",
            "distance_traveled     0.0\n",
            "num_of_passengers     0.0\n",
            "fare                  0.0\n",
            "tip                   0.0\n",
            "miscellaneous_fees    0.0\n",
            "total_fare            0.0\n",
            "surge_applied         0.0\n",
            "dtype: float64\n"
          ]
        }
      ]
    },
    {
      "cell_type": "markdown",
      "source": [
        "# EDA"
      ],
      "metadata": {
        "id": "IL-F3_g545O4"
      }
    },
    {
      "cell_type": "markdown",
      "source": [
        "## Train"
      ],
      "metadata": {
        "id": "9SFgc7vxCkcg"
      }
    },
    {
      "cell_type": "code",
      "source": [
        "train.describe()"
      ],
      "metadata": {
        "colab": {
          "base_uri": "https://localhost:8080/",
          "height": 300
        },
        "id": "GWDNUCgi6WcB",
        "outputId": "c3a6b918-3240-433b-c274-ddb827dda6ec"
      },
      "execution_count": 22,
      "outputs": [
        {
          "output_type": "execute_result",
          "data": {
            "text/plain": [
              "       trip_duration  distance_traveled  num_of_passengers           fare  \\\n",
              "count  209673.000000      209673.000000      209673.000000  209673.000000   \n",
              "mean     1173.181478           5.054431           1.292808      99.623431   \n",
              "std      4775.653621         125.217419           0.930754      85.602702   \n",
              "min         0.000000           0.020000           0.000000       0.000000   \n",
              "25%       446.000000           1.950000           1.000000      52.500000   \n",
              "50%       707.000000           3.200000           1.000000      75.000000   \n",
              "75%      1098.000000           5.730000           1.000000     116.250000   \n",
              "max     86387.000000       57283.910000           9.000000    4466.250000   \n",
              "\n",
              "                 tip  miscellaneous_fees     total_fare  surge_applied  \n",
              "count  209673.000000       209673.000000  209673.000000  209673.000000  \n",
              "mean       13.030824           15.136829     127.791084       0.280523  \n",
              "std        20.367764           12.553436      98.797374       0.449256  \n",
              "min         0.000000           -0.500000       0.000000       0.000000  \n",
              "25%         0.000000            6.000000      70.200000       0.000000  \n",
              "50%         9.000000            9.750000     101.700000       0.000000  \n",
              "75%        20.000000           26.450000     152.250000       1.000000  \n",
              "max      2500.000000          435.000000    4472.250000       1.000000  "
            ],
            "text/html": [
              "\n",
              "  <div id=\"df-0d592db8-9861-4af2-8d28-edbb5230bf57\">\n",
              "    <div class=\"colab-df-container\">\n",
              "      <div>\n",
              "<style scoped>\n",
              "    .dataframe tbody tr th:only-of-type {\n",
              "        vertical-align: middle;\n",
              "    }\n",
              "\n",
              "    .dataframe tbody tr th {\n",
              "        vertical-align: top;\n",
              "    }\n",
              "\n",
              "    .dataframe thead th {\n",
              "        text-align: right;\n",
              "    }\n",
              "</style>\n",
              "<table border=\"1\" class=\"dataframe\">\n",
              "  <thead>\n",
              "    <tr style=\"text-align: right;\">\n",
              "      <th></th>\n",
              "      <th>trip_duration</th>\n",
              "      <th>distance_traveled</th>\n",
              "      <th>num_of_passengers</th>\n",
              "      <th>fare</th>\n",
              "      <th>tip</th>\n",
              "      <th>miscellaneous_fees</th>\n",
              "      <th>total_fare</th>\n",
              "      <th>surge_applied</th>\n",
              "    </tr>\n",
              "  </thead>\n",
              "  <tbody>\n",
              "    <tr>\n",
              "      <th>count</th>\n",
              "      <td>209673.000000</td>\n",
              "      <td>209673.000000</td>\n",
              "      <td>209673.000000</td>\n",
              "      <td>209673.000000</td>\n",
              "      <td>209673.000000</td>\n",
              "      <td>209673.000000</td>\n",
              "      <td>209673.000000</td>\n",
              "      <td>209673.000000</td>\n",
              "    </tr>\n",
              "    <tr>\n",
              "      <th>mean</th>\n",
              "      <td>1173.181478</td>\n",
              "      <td>5.054431</td>\n",
              "      <td>1.292808</td>\n",
              "      <td>99.623431</td>\n",
              "      <td>13.030824</td>\n",
              "      <td>15.136829</td>\n",
              "      <td>127.791084</td>\n",
              "      <td>0.280523</td>\n",
              "    </tr>\n",
              "    <tr>\n",
              "      <th>std</th>\n",
              "      <td>4775.653621</td>\n",
              "      <td>125.217419</td>\n",
              "      <td>0.930754</td>\n",
              "      <td>85.602702</td>\n",
              "      <td>20.367764</td>\n",
              "      <td>12.553436</td>\n",
              "      <td>98.797374</td>\n",
              "      <td>0.449256</td>\n",
              "    </tr>\n",
              "    <tr>\n",
              "      <th>min</th>\n",
              "      <td>0.000000</td>\n",
              "      <td>0.020000</td>\n",
              "      <td>0.000000</td>\n",
              "      <td>0.000000</td>\n",
              "      <td>0.000000</td>\n",
              "      <td>-0.500000</td>\n",
              "      <td>0.000000</td>\n",
              "      <td>0.000000</td>\n",
              "    </tr>\n",
              "    <tr>\n",
              "      <th>25%</th>\n",
              "      <td>446.000000</td>\n",
              "      <td>1.950000</td>\n",
              "      <td>1.000000</td>\n",
              "      <td>52.500000</td>\n",
              "      <td>0.000000</td>\n",
              "      <td>6.000000</td>\n",
              "      <td>70.200000</td>\n",
              "      <td>0.000000</td>\n",
              "    </tr>\n",
              "    <tr>\n",
              "      <th>50%</th>\n",
              "      <td>707.000000</td>\n",
              "      <td>3.200000</td>\n",
              "      <td>1.000000</td>\n",
              "      <td>75.000000</td>\n",
              "      <td>9.000000</td>\n",
              "      <td>9.750000</td>\n",
              "      <td>101.700000</td>\n",
              "      <td>0.000000</td>\n",
              "    </tr>\n",
              "    <tr>\n",
              "      <th>75%</th>\n",
              "      <td>1098.000000</td>\n",
              "      <td>5.730000</td>\n",
              "      <td>1.000000</td>\n",
              "      <td>116.250000</td>\n",
              "      <td>20.000000</td>\n",
              "      <td>26.450000</td>\n",
              "      <td>152.250000</td>\n",
              "      <td>1.000000</td>\n",
              "    </tr>\n",
              "    <tr>\n",
              "      <th>max</th>\n",
              "      <td>86387.000000</td>\n",
              "      <td>57283.910000</td>\n",
              "      <td>9.000000</td>\n",
              "      <td>4466.250000</td>\n",
              "      <td>2500.000000</td>\n",
              "      <td>435.000000</td>\n",
              "      <td>4472.250000</td>\n",
              "      <td>1.000000</td>\n",
              "    </tr>\n",
              "  </tbody>\n",
              "</table>\n",
              "</div>\n",
              "      <button class=\"colab-df-convert\" onclick=\"convertToInteractive('df-0d592db8-9861-4af2-8d28-edbb5230bf57')\"\n",
              "              title=\"Convert this dataframe to an interactive table.\"\n",
              "              style=\"display:none;\">\n",
              "        \n",
              "  <svg xmlns=\"http://www.w3.org/2000/svg\" height=\"24px\"viewBox=\"0 0 24 24\"\n",
              "       width=\"24px\">\n",
              "    <path d=\"M0 0h24v24H0V0z\" fill=\"none\"/>\n",
              "    <path d=\"M18.56 5.44l.94 2.06.94-2.06 2.06-.94-2.06-.94-.94-2.06-.94 2.06-2.06.94zm-11 1L8.5 8.5l.94-2.06 2.06-.94-2.06-.94L8.5 2.5l-.94 2.06-2.06.94zm10 10l.94 2.06.94-2.06 2.06-.94-2.06-.94-.94-2.06-.94 2.06-2.06.94z\"/><path d=\"M17.41 7.96l-1.37-1.37c-.4-.4-.92-.59-1.43-.59-.52 0-1.04.2-1.43.59L10.3 9.45l-7.72 7.72c-.78.78-.78 2.05 0 2.83L4 21.41c.39.39.9.59 1.41.59.51 0 1.02-.2 1.41-.59l7.78-7.78 2.81-2.81c.8-.78.8-2.07 0-2.86zM5.41 20L4 18.59l7.72-7.72 1.47 1.35L5.41 20z\"/>\n",
              "  </svg>\n",
              "      </button>\n",
              "      \n",
              "  <style>\n",
              "    .colab-df-container {\n",
              "      display:flex;\n",
              "      flex-wrap:wrap;\n",
              "      gap: 12px;\n",
              "    }\n",
              "\n",
              "    .colab-df-convert {\n",
              "      background-color: #E8F0FE;\n",
              "      border: none;\n",
              "      border-radius: 50%;\n",
              "      cursor: pointer;\n",
              "      display: none;\n",
              "      fill: #1967D2;\n",
              "      height: 32px;\n",
              "      padding: 0 0 0 0;\n",
              "      width: 32px;\n",
              "    }\n",
              "\n",
              "    .colab-df-convert:hover {\n",
              "      background-color: #E2EBFA;\n",
              "      box-shadow: 0px 1px 2px rgba(60, 64, 67, 0.3), 0px 1px 3px 1px rgba(60, 64, 67, 0.15);\n",
              "      fill: #174EA6;\n",
              "    }\n",
              "\n",
              "    [theme=dark] .colab-df-convert {\n",
              "      background-color: #3B4455;\n",
              "      fill: #D2E3FC;\n",
              "    }\n",
              "\n",
              "    [theme=dark] .colab-df-convert:hover {\n",
              "      background-color: #434B5C;\n",
              "      box-shadow: 0px 1px 3px 1px rgba(0, 0, 0, 0.15);\n",
              "      filter: drop-shadow(0px 1px 2px rgba(0, 0, 0, 0.3));\n",
              "      fill: #FFFFFF;\n",
              "    }\n",
              "  </style>\n",
              "\n",
              "      <script>\n",
              "        const buttonEl =\n",
              "          document.querySelector('#df-0d592db8-9861-4af2-8d28-edbb5230bf57 button.colab-df-convert');\n",
              "        buttonEl.style.display =\n",
              "          google.colab.kernel.accessAllowed ? 'block' : 'none';\n",
              "\n",
              "        async function convertToInteractive(key) {\n",
              "          const element = document.querySelector('#df-0d592db8-9861-4af2-8d28-edbb5230bf57');\n",
              "          const dataTable =\n",
              "            await google.colab.kernel.invokeFunction('convertToInteractive',\n",
              "                                                     [key], {});\n",
              "          if (!dataTable) return;\n",
              "\n",
              "          const docLinkHtml = 'Like what you see? Visit the ' +\n",
              "            '<a target=\"_blank\" href=https://colab.research.google.com/notebooks/data_table.ipynb>data table notebook</a>'\n",
              "            + ' to learn more about interactive tables.';\n",
              "          element.innerHTML = '';\n",
              "          dataTable['output_type'] = 'display_data';\n",
              "          await google.colab.output.renderOutput(dataTable, element);\n",
              "          const docLink = document.createElement('div');\n",
              "          docLink.innerHTML = docLinkHtml;\n",
              "          element.appendChild(docLink);\n",
              "        }\n",
              "      </script>\n",
              "    </div>\n",
              "  </div>\n",
              "  "
            ]
          },
          "metadata": {},
          "execution_count": 22
        }
      ]
    },
    {
      "cell_type": "markdown",
      "source": [
        "### `trip_duration`"
      ],
      "metadata": {
        "id": "3JlsQjhwCmT6"
      }
    },
    {
      "cell_type": "markdown",
      "source": [
        "Seems to have large outliers"
      ],
      "metadata": {
        "id": "LQ6f6eCbCopG"
      }
    },
    {
      "cell_type": "code",
      "source": [
        "fig, ax = plt.subplots(1, 2, figsize=(10, 4))\n",
        "sns.histplot(data=train, x='trip_duration', ax=ax[0])\n",
        "sns.boxplot(data=train, x='trip_duration', ax=ax[1])\n",
        "plt.show()"
      ],
      "metadata": {
        "colab": {
          "base_uri": "https://localhost:8080/",
          "height": 388
        },
        "id": "UfeGMUnY47WT",
        "outputId": "29abb9bc-c682-413a-dfb6-82d6e25ea8fb"
      },
      "execution_count": 24,
      "outputs": [
        {
          "output_type": "display_data",
          "data": {
            "text/plain": [
              "<Figure size 1000x400 with 2 Axes>"
            ],
            "image/png": "[encoded data removed]"
          },
          "metadata": {}
        }
      ]
    },
    {
      "cell_type": "markdown",
      "source": [
        "5% points are outliers according to the IQR definition"
      ],
      "metadata": {
        "id": "MPA_OEMrCq47"
      }
    },
    {
      "cell_type": "code",
      "source": [
        "q25 = train['trip_duration'].quantile(0.25)\n",
        "q75 = train['trip_duration'].quantile(0.75)\n",
        "iqr = q75-q25\n",
        "lower_iqr = q25 - (1.5*iqr)\n",
        "upper_iqr = q75 + (1.5*iqr)\n",
        "\n",
        "iqr, lower_iqr, upper_iqr, round(((train[(train['trip_duration'] < lower_iqr) | (train['trip_duration'] > upper_iqr)].shape[0]/train.shape[0])*100), 3)"
      ],
      "metadata": {
        "colab": {
          "base_uri": "https://localhost:8080/"
        },
        "id": "zBAgjyxyCqqr",
        "outputId": "bb52b4ca-c8b5-40bb-8236-a5e0959c6ac6"
      },
      "execution_count": 30,
      "outputs": [
        {
          "output_type": "execute_result",
          "data": {
            "text/plain": [
              "(652.0, -532.0, 2076.0, 5.675)"
            ]
          },
          "metadata": {},
          "execution_count": 30
        }
      ]
    },
    {
      "cell_type": "markdown",
      "source": [
        "Distribution is fairly normal without the IQR outliers"
      ],
      "metadata": {
        "id": "BZyUphubJqgJ"
      }
    },
    {
      "cell_type": "code",
      "source": [
        "no_trip_duration_outliers = train[(train['trip_duration'] > lower_iqr) & (train['trip_duration'] < upper_iqr)]\n",
        "fig, ax = plt.subplots(1, 2, figsize=(10, 4))\n",
        "sns.histplot(data=no_trip_duration_outliers, x='trip_duration', ax=ax[0])\n",
        "sns.boxplot(data=no_trip_duration_outliers, x='trip_duration', ax=ax[1])\n",
        "plt.show()"
      ],
      "metadata": {
        "colab": {
          "base_uri": "https://localhost:8080/",
          "height": 388
        },
        "id": "cl2017SX5ifg",
        "outputId": "41bd9f83-02a8-495e-8c8d-3abec2596ad6"
      },
      "execution_count": 32,
      "outputs": [
        {
          "output_type": "display_data",
          "data": {
            "text/plain": [
              "<Figure size 1000x400 with 2 Axes>"
            ],
            "image/png": "[encoded data removed]"
          },
          "metadata": {}
        }
      ]
    },
    {
      "cell_type": "code",
      "source": [
        "train[train['trip_duration']==0].shape, round((train[train['trip_duration']==0].shape[0]/train.shape[0])*100, 3)"
      ],
      "metadata": {
        "colab": {
          "base_uri": "https://localhost:8080/"
        },
        "id": "Vh2qmBQ5HKi5",
        "outputId": "2a8ef8dc-ffa4-4dd6-f003-c2352b34fd4a"
      },
      "execution_count": 39,
      "outputs": [
        {
          "output_type": "execute_result",
          "data": {
            "text/plain": [
              "((33, 8), 0.016)"
            ]
          },
          "metadata": {},
          "execution_count": 39
        }
      ]
    },
    {
      "cell_type": "markdown",
      "source": [
        "Checking if these trends replicate in the test set too or not."
      ],
      "metadata": {
        "id": "hPB6bsZzNaXi"
      }
    },
    {
      "cell_type": "code",
      "source": [
        "fig, ax = plt.subplots(1, 2, figsize=(10, 4))\n",
        "sns.histplot(data=test, x='trip_duration', ax=ax[0])\n",
        "sns.boxplot(data=test, x='trip_duration', ax=ax[1])\n",
        "plt.show()"
      ],
      "metadata": {
        "colab": {
          "base_uri": "https://localhost:8080/",
          "height": 388
        },
        "id": "j7zGUqqxJztK",
        "outputId": "b6f7a010-f225-4885-f1a7-ef3d03fb1c6a"
      },
      "execution_count": 35,
      "outputs": [
        {
          "output_type": "display_data",
          "data": {
            "text/plain": [
              "<Figure size 1000x400 with 2 Axes>"
            ],
            "image/png": "[encoded data removed]"
          },
          "metadata": {}
        }
      ]
    },
    {
      "cell_type": "code",
      "source": [
        "no_trip_duration_outliers_test = test[(test['trip_duration'] > lower_iqr) & (test['trip_duration'] < upper_iqr)]\n",
        "fig, ax = plt.subplots(1, 2, figsize=(10, 4))\n",
        "sns.histplot(data=no_trip_duration_outliers_test, x='trip_duration', ax=ax[0])\n",
        "sns.boxplot(data=no_trip_duration_outliers_test, x='trip_duration', ax=ax[1])\n",
        "plt.show()"
      ],
      "metadata": {
        "colab": {
          "base_uri": "https://localhost:8080/",
          "height": 389
        },
        "id": "tNHik3cRNfZg",
        "outputId": "b4656a5f-c954-4236-d11b-068d76a48241"
      },
      "execution_count": 36,
      "outputs": [
        {
          "output_type": "display_data",
          "data": {
            "text/plain": [
              "<Figure size 1000x400 with 2 Axes>"
            ],
            "image/png": "[encoded data removed]"
          },
          "metadata": {}
        }
      ]
    },
    {
      "cell_type": "code",
      "source": [
        "round((test[(test['trip_duration'] < lower_iqr) | (test['trip_duration'] > upper_iqr)].shape[0] / test.shape[0])*100, 3)"
      ],
      "metadata": {
        "colab": {
          "base_uri": "https://localhost:8080/"
        },
        "id": "Zpohsk61NoYb",
        "outputId": "5c159b7d-6e40-491a-8c82-aba6920f39df"
      },
      "execution_count": 37,
      "outputs": [
        {
          "output_type": "execute_result",
          "data": {
            "text/plain": [
              "5.532"
            ]
          },
          "metadata": {},
          "execution_count": 37
        }
      ]
    },
    {
      "cell_type": "code",
      "source": [
        "test[test['trip_duration']==0].shape, round((test[test['trip_duration']==0].shape[0]/test.shape[0])*100, 3)"
      ],
      "metadata": {
        "colab": {
          "base_uri": "https://localhost:8080/"
        },
        "id": "DNYrYc9vNxC2",
        "outputId": "f89705ba-66b1-435b-8031-1f5f1af2ccc9"
      },
      "execution_count": 40,
      "outputs": [
        {
          "output_type": "execute_result",
          "data": {
            "text/plain": [
              "((12, 8), 0.013)"
            ]
          },
          "metadata": {},
          "execution_count": 40
        }
      ]
    },
    {
      "cell_type": "code",
      "source": [],
      "metadata": {
        "id": "uBRGiFOjN1Dm"
      },
      "execution_count": null,
      "outputs": []
    }
  ]
}